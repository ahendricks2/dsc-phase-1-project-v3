{
 "cells": [
  {
   "cell_type": "code",
   "execution_count": 2,
   "metadata": {},
   "outputs": [],
   "source": [
    "import pandas as pd\n",
    "import matplotlib.pyplot as plt\n",
    "%matplotlib inline\n",
    "import seaborn as sns"
   ]
  },
  {
   "cell_type": "code",
   "execution_count": 3,
   "metadata": {},
   "outputs": [],
   "source": [
    "df = pd.read_csv('Aviation_Data - Copy.csv', low_memory=False)"
   ]
  },
  {
   "cell_type": "markdown",
   "metadata": {},
   "source": [
    "# Pilot in Report Status"
   ]
  },
  {
   "cell_type": "code",
   "execution_count": 3,
   "metadata": {},
   "outputs": [
    {
     "data": {
      "text/plain": [
       "{'pilot': 13420}"
      ]
     },
     "execution_count": 3,
     "metadata": {},
     "output_type": "execute_result"
    }
   ],
   "source": [
    "pilot = {'pilot' : 0}\n",
    "\n",
    "for status in df['Report.Status']:\n",
    "    if 'pilot' in str(status):\n",
    "        pilot['pilot'] += 1\n",
    "        \n",
    "pilot"
   ]
  },
  {
   "cell_type": "code",
   "execution_count": 5,
   "metadata": {},
   "outputs": [
    {
     "data": {
      "text/plain": [
       "Substantial    64148\n",
       "Destroyed      18623\n",
       "Minor           2805\n",
       "Unknown          119\n",
       "Name: Aircraft.damage, dtype: int64"
      ]
     },
     "execution_count": 5,
     "metadata": {},
     "output_type": "execute_result"
    }
   ],
   "source": [
    "df['Aircraft.damage'].value_counts()"
   ]
  },
  {
   "cell_type": "markdown",
   "metadata": {},
   "source": [
    "# Subsetting Years"
   ]
  },
  {
   "cell_type": "markdown",
   "metadata": {},
   "source": [
    "### Note: Added Year column and Five_Year columns. Dropped Nan values in event date."
   ]
  },
  {
   "cell_type": "code",
   "execution_count": 6,
   "metadata": {},
   "outputs": [],
   "source": [
    "dfyears = df.copy()"
   ]
  },
  {
   "cell_type": "code",
   "execution_count": 8,
   "metadata": {},
   "outputs": [],
   "source": [
    "dfyears.dropna(subset=['Event.Date'],inplace=True)"
   ]
  },
  {
   "cell_type": "code",
   "execution_count": 12,
   "metadata": {},
   "outputs": [],
   "source": [
    "dfyears['Year'] = dfyears['Event.Date'].astype(str).str[:4]"
   ]
  },
  {
   "cell_type": "code",
   "execution_count": 13,
   "metadata": {},
   "outputs": [],
   "source": [
    "bins = [1940,1982, 1987, 1992, 1997, 2002, 2007, 2012, 2017, 2022]\n",
    "labels = ['1942-1981','1982-1986', '1987-1991', '1992-1996', '1997-2001', '2002-2006', '2007-2011', '2012-2016', '2017-2021']\n",
    "dfyears['Five_Year'] = pd.cut(dfyears['Year'].astype(int), bins=bins, labels=labels, right=False)"
   ]
  },
  {
   "cell_type": "code",
   "execution_count": 14,
   "metadata": {},
   "outputs": [],
   "source": [
    "fiveyrcnt = dfyears['Five_Year'].value_counts().sort_index()"
   ]
  },
  {
   "cell_type": "code",
   "execution_count": 15,
   "metadata": {},
   "outputs": [
    {
     "data": {
      "image/png": "[encoded data removed]",
      "text/plain": [
       "<Figure size 1080x432 with 1 Axes>"
      ]
     },
     "metadata": {
      "needs_background": "light"
     },
     "output_type": "display_data"
    }
   ],
   "source": [
    "plt.figure(figsize = (15,6))\n",
    "plt.bar(fiveyrcnt.keys(), fiveyrcnt.values)\n",
    "plt.title('Accidents Every Five Years')\n",
    "plt.ylabel('Accidents')\n",
    "plt.xlabel('5-Year Periods');"
   ]
  },
  {
   "cell_type": "markdown",
   "metadata": {},
   "source": [
    "# Investigating Duplicates"
   ]
  },
  {
   "cell_type": "markdown",
   "metadata": {},
   "source": [
    "### Note: When investigating duplicates, we found that duplicate accident IDs seemed to have only records that were exactly the same.  Duplicate event IDs sometimes had minor differences even though they referred to the same event.  We decided to eliminate all duplicates based on event IDs to clean the data despite the discrepancies."
   ]
  },
  {
   "cell_type": "code",
   "execution_count": 17,
   "metadata": {},
   "outputs": [],
   "source": [
    "df_dup = df.copy()"
   ]
  },
  {
   "cell_type": "code",
   "execution_count": 22,
   "metadata": {},
   "outputs": [
    {
     "name": "stdout",
     "output_type": "stream",
     "text": [
      "<class 'pandas.core.frame.DataFrame'>\n",
      "RangeIndex: 90348 entries, 0 to 90347\n",
      "Data columns (total 31 columns):\n",
      " #   Column                  Non-Null Count  Dtype  \n",
      "---  ------                  --------------  -----  \n",
      " 0   Event.Id                88889 non-null  object \n",
      " 1   Investigation.Type      90348 non-null  object \n",
      " 2   Accident.Number         88889 non-null  object \n",
      " 3   Event.Date              88889 non-null  object \n",
      " 4   Location                88837 non-null  object \n",
      " 5   Country                 88663 non-null  object \n",
      " 6   Latitude                34382 non-null  object \n",
      " 7   Longitude               34373 non-null  object \n",
      " 8   Airport.Code            50249 non-null  object \n",
      " 9   Airport.Name            52790 non-null  object \n",
      " 10  Injury.Severity         87889 non-null  object \n",
      " 11  Aircraft.damage         85695 non-null  object \n",
      " 12  Aircraft.Category       32287 non-null  object \n",
      " 13  Registration.Number     87572 non-null  object \n",
      " 14  Make                    88826 non-null  object \n",
      " 15  Model                   88797 non-null  object \n",
      " 16  Amateur.Built           88787 non-null  object \n",
      " 17  Number.of.Engines       82805 non-null  float64\n",
      " 18  Engine.Type             81812 non-null  object \n",
      " 19  FAR.Description         32023 non-null  object \n",
      " 20  Schedule                12582 non-null  object \n",
      " 21  Purpose.of.flight       82697 non-null  object \n",
      " 22  Air.carrier             16648 non-null  object \n",
      " 23  Total.Fatal.Injuries    77488 non-null  float64\n",
      " 24  Total.Serious.Injuries  76379 non-null  float64\n",
      " 25  Total.Minor.Injuries    76956 non-null  float64\n",
      " 26  Total.Uninjured         82977 non-null  float64\n",
      " 27  Weather.Condition       84397 non-null  object \n",
      " 28  Broad.phase.of.flight   61724 non-null  object \n",
      " 29  Report.Status           82508 non-null  object \n",
      " 30  Publication.Date        73659 non-null  object \n",
      "dtypes: float64(5), object(26)\n",
      "memory usage: 21.4+ MB\n"
     ]
    }
   ],
   "source": [
    "df.info()"
   ]
  },
  {
   "cell_type": "code",
   "execution_count": 37,
   "metadata": {},
   "outputs": [
    {
     "data": {
      "text/html": [
       "<div>\n",
       "<style scoped>\n",
       "    .dataframe tbody tr th:only-of-type {\n",
       "        vertical-align: middle;\n",
       "    }\n",
       "\n",
       "    .dataframe tbody tr th {\n",
       "        vertical-align: top;\n",
       "    }\n",
       "\n",
       "    .dataframe thead th {\n",
       "        text-align: right;\n",
       "    }\n",
       "</style>\n",
       "<table border=\"1\" class=\"dataframe\">\n",
       "  <thead>\n",
       "    <tr style=\"text-align: right;\">\n",
       "      <th></th>\n",
       "      <th>Event.Id</th>\n",
       "      <th>Investigation.Type</th>\n",
       "      <th>Accident.Number</th>\n",
       "      <th>Event.Date</th>\n",
       "      <th>Location</th>\n",
       "      <th>Country</th>\n",
       "      <th>Latitude</th>\n",
       "      <th>Longitude</th>\n",
       "      <th>Airport.Code</th>\n",
       "      <th>Airport.Name</th>\n",
       "      <th>...</th>\n",
       "      <th>Purpose.of.flight</th>\n",
       "      <th>Air.carrier</th>\n",
       "      <th>Total.Fatal.Injuries</th>\n",
       "      <th>Total.Serious.Injuries</th>\n",
       "      <th>Total.Minor.Injuries</th>\n",
       "      <th>Total.Uninjured</th>\n",
       "      <th>Weather.Condition</th>\n",
       "      <th>Broad.phase.of.flight</th>\n",
       "      <th>Report.Status</th>\n",
       "      <th>Publication.Date</th>\n",
       "    </tr>\n",
       "  </thead>\n",
       "  <tbody>\n",
       "    <tr>\n",
       "      <th>89299</th>\n",
       "      <td>20220614105258</td>\n",
       "      <td>Incident</td>\n",
       "      <td>DCA22WA130</td>\n",
       "      <td>2022-06-05</td>\n",
       "      <td>Peshawar, OF</td>\n",
       "      <td>United States</td>\n",
       "      <td>NaN</td>\n",
       "      <td>NaN</td>\n",
       "      <td>NaN</td>\n",
       "      <td>NaN</td>\n",
       "      <td>...</td>\n",
       "      <td>NaN</td>\n",
       "      <td>NaN</td>\n",
       "      <td>0.0</td>\n",
       "      <td>0.0</td>\n",
       "      <td>0.0</td>\n",
       "      <td>0.0</td>\n",
       "      <td>NaN</td>\n",
       "      <td>NaN</td>\n",
       "      <td>NaN</td>\n",
       "      <td>NaN</td>\n",
       "    </tr>\n",
       "    <tr>\n",
       "      <th>89300</th>\n",
       "      <td>20220614105258</td>\n",
       "      <td>Incident</td>\n",
       "      <td>DCA22WA130</td>\n",
       "      <td>2022-06-05</td>\n",
       "      <td>Peshawar, OF</td>\n",
       "      <td>United States</td>\n",
       "      <td>NaN</td>\n",
       "      <td>NaN</td>\n",
       "      <td>NaN</td>\n",
       "      <td>NaN</td>\n",
       "      <td>...</td>\n",
       "      <td>NaN</td>\n",
       "      <td>NaN</td>\n",
       "      <td>0.0</td>\n",
       "      <td>0.0</td>\n",
       "      <td>0.0</td>\n",
       "      <td>0.0</td>\n",
       "      <td>NaN</td>\n",
       "      <td>NaN</td>\n",
       "      <td>NaN</td>\n",
       "      <td>NaN</td>\n",
       "    </tr>\n",
       "  </tbody>\n",
       "</table>\n",
       "<p>2 rows × 31 columns</p>\n",
       "</div>"
      ],
      "text/plain": [
       "             Event.Id Investigation.Type Accident.Number  Event.Date  \\\n",
       "89299  20220614105258           Incident      DCA22WA130  2022-06-05   \n",
       "89300  20220614105258           Incident      DCA22WA130  2022-06-05   \n",
       "\n",
       "           Location        Country Latitude Longitude Airport.Code  \\\n",
       "89299  Peshawar, OF  United States      NaN       NaN          NaN   \n",
       "89300  Peshawar, OF  United States      NaN       NaN          NaN   \n",
       "\n",
       "      Airport.Name  ... Purpose.of.flight Air.carrier Total.Fatal.Injuries  \\\n",
       "89299          NaN  ...               NaN         NaN                  0.0   \n",
       "89300          NaN  ...               NaN         NaN                  0.0   \n",
       "\n",
       "      Total.Serious.Injuries Total.Minor.Injuries Total.Uninjured  \\\n",
       "89299                    0.0                  0.0             0.0   \n",
       "89300                    0.0                  0.0             0.0   \n",
       "\n",
       "      Weather.Condition  Broad.phase.of.flight Report.Status Publication.Date  \n",
       "89299               NaN                    NaN           NaN              NaN  \n",
       "89300               NaN                    NaN           NaN              NaN  \n",
       "\n",
       "[2 rows x 31 columns]"
      ]
     },
     "execution_count": 37,
     "metadata": {},
     "output_type": "execute_result"
    }
   ],
   "source": [
    "df_dup.loc[df_dup['Accident.Number'] == \"DCA22WA130\"]"
   ]
  },
  {
   "cell_type": "code",
   "execution_count": 39,
   "metadata": {},
   "outputs": [
    {
     "data": {
      "text/plain": [
       "20001214X45071    3\n",
       "20001212X19172    3\n",
       "20001214X40512    2\n",
       "20050831X01347    2\n",
       "20001211X11585    2\n",
       "20221121106336    2\n",
       "20001208X07896    2\n",
       "20001213X33340    2\n",
       "20001213X29170    2\n",
       "20020917X02173    2\n",
       "20001213X33516    2\n",
       "20001208X05417    2\n",
       "20001213X24919    2\n",
       "20001214X42919    2\n",
       "20001214X36453    2\n",
       "20001213X34415    2\n",
       "20001212X19017    2\n",
       "20220111104514    2\n",
       "20001213X33697    2\n",
       "20001208X06211    2\n",
       "20001212X22215    2\n",
       "20050624X00863    2\n",
       "20001206X01031    2\n",
       "20011219X02420    2\n",
       "20001213X32787    2\n",
       "20001211X14014    2\n",
       "20001208X08011    2\n",
       "20020917X03351    2\n",
       "20001214X45149    2\n",
       "20001214X44190    2\n",
       "Name: Event.Id, dtype: int64"
      ]
     },
     "execution_count": 39,
     "metadata": {},
     "output_type": "execute_result"
    }
   ],
   "source": [
    "df_dup['Event.Id'].value_counts().head(30)"
   ]
  },
  {
   "cell_type": "code",
   "execution_count": 40,
   "metadata": {},
   "outputs": [
    {
     "data": {
      "text/html": [
       "<div>\n",
       "<style scoped>\n",
       "    .dataframe tbody tr th:only-of-type {\n",
       "        vertical-align: middle;\n",
       "    }\n",
       "\n",
       "    .dataframe tbody tr th {\n",
       "        vertical-align: top;\n",
       "    }\n",
       "\n",
       "    .dataframe thead th {\n",
       "        text-align: right;\n",
       "    }\n",
       "</style>\n",
       "<table border=\"1\" class=\"dataframe\">\n",
       "  <thead>\n",
       "    <tr style=\"text-align: right;\">\n",
       "      <th></th>\n",
       "      <th>Event.Id</th>\n",
       "      <th>Investigation.Type</th>\n",
       "      <th>Accident.Number</th>\n",
       "      <th>Event.Date</th>\n",
       "      <th>Location</th>\n",
       "      <th>Country</th>\n",
       "      <th>Latitude</th>\n",
       "      <th>Longitude</th>\n",
       "      <th>Airport.Code</th>\n",
       "      <th>Airport.Name</th>\n",
       "      <th>...</th>\n",
       "      <th>Purpose.of.flight</th>\n",
       "      <th>Air.carrier</th>\n",
       "      <th>Total.Fatal.Injuries</th>\n",
       "      <th>Total.Serious.Injuries</th>\n",
       "      <th>Total.Minor.Injuries</th>\n",
       "      <th>Total.Uninjured</th>\n",
       "      <th>Weather.Condition</th>\n",
       "      <th>Broad.phase.of.flight</th>\n",
       "      <th>Report.Status</th>\n",
       "      <th>Publication.Date</th>\n",
       "    </tr>\n",
       "  </thead>\n",
       "  <tbody>\n",
       "    <tr>\n",
       "      <th>6781</th>\n",
       "      <td>20001214X45071</td>\n",
       "      <td>Accident</td>\n",
       "      <td>FTW84LA056C</td>\n",
       "      <td>1983-11-11</td>\n",
       "      <td>HOUSTON, TX</td>\n",
       "      <td>United States</td>\n",
       "      <td>NaN</td>\n",
       "      <td>NaN</td>\n",
       "      <td>AAP</td>\n",
       "      <td>ANDRAU</td>\n",
       "      <td>...</td>\n",
       "      <td>Business</td>\n",
       "      <td>NaN</td>\n",
       "      <td>0.0</td>\n",
       "      <td>0.0</td>\n",
       "      <td>0.0</td>\n",
       "      <td>5.0</td>\n",
       "      <td>VMC</td>\n",
       "      <td>Standing</td>\n",
       "      <td>Probable Cause</td>\n",
       "      <td>19-03-2002</td>\n",
       "    </tr>\n",
       "    <tr>\n",
       "      <th>6784</th>\n",
       "      <td>20001214X45071</td>\n",
       "      <td>Accident</td>\n",
       "      <td>FTW84LA056B</td>\n",
       "      <td>1983-11-11</td>\n",
       "      <td>HOUSTON, TX</td>\n",
       "      <td>United States</td>\n",
       "      <td>NaN</td>\n",
       "      <td>NaN</td>\n",
       "      <td>AAP</td>\n",
       "      <td>ANDRAU</td>\n",
       "      <td>...</td>\n",
       "      <td>Personal</td>\n",
       "      <td>NaN</td>\n",
       "      <td>0.0</td>\n",
       "      <td>0.0</td>\n",
       "      <td>0.0</td>\n",
       "      <td>5.0</td>\n",
       "      <td>VMC</td>\n",
       "      <td>Standing</td>\n",
       "      <td>Probable Cause</td>\n",
       "      <td>19-03-2002</td>\n",
       "    </tr>\n",
       "    <tr>\n",
       "      <th>6785</th>\n",
       "      <td>20001214X45071</td>\n",
       "      <td>Accident</td>\n",
       "      <td>FTW84LA056A</td>\n",
       "      <td>1983-11-11</td>\n",
       "      <td>HOUSTON, TX</td>\n",
       "      <td>United States</td>\n",
       "      <td>NaN</td>\n",
       "      <td>NaN</td>\n",
       "      <td>AAP</td>\n",
       "      <td>ANDRAU</td>\n",
       "      <td>...</td>\n",
       "      <td>Personal</td>\n",
       "      <td>NaN</td>\n",
       "      <td>0.0</td>\n",
       "      <td>0.0</td>\n",
       "      <td>0.0</td>\n",
       "      <td>5.0</td>\n",
       "      <td>VMC</td>\n",
       "      <td>Taxi</td>\n",
       "      <td>Probable Cause</td>\n",
       "      <td>19-03-2002</td>\n",
       "    </tr>\n",
       "  </tbody>\n",
       "</table>\n",
       "<p>3 rows × 31 columns</p>\n",
       "</div>"
      ],
      "text/plain": [
       "            Event.Id Investigation.Type Accident.Number  Event.Date  \\\n",
       "6781  20001214X45071           Accident     FTW84LA056C  1983-11-11   \n",
       "6784  20001214X45071           Accident     FTW84LA056B  1983-11-11   \n",
       "6785  20001214X45071           Accident     FTW84LA056A  1983-11-11   \n",
       "\n",
       "         Location        Country Latitude Longitude Airport.Code Airport.Name  \\\n",
       "6781  HOUSTON, TX  United States      NaN       NaN          AAP       ANDRAU   \n",
       "6784  HOUSTON, TX  United States      NaN       NaN          AAP       ANDRAU   \n",
       "6785  HOUSTON, TX  United States      NaN       NaN          AAP       ANDRAU   \n",
       "\n",
       "      ... Purpose.of.flight Air.carrier Total.Fatal.Injuries  \\\n",
       "6781  ...          Business         NaN                  0.0   \n",
       "6784  ...          Personal         NaN                  0.0   \n",
       "6785  ...          Personal         NaN                  0.0   \n",
       "\n",
       "     Total.Serious.Injuries Total.Minor.Injuries Total.Uninjured  \\\n",
       "6781                    0.0                  0.0             5.0   \n",
       "6784                    0.0                  0.0             5.0   \n",
       "6785                    0.0                  0.0             5.0   \n",
       "\n",
       "     Weather.Condition  Broad.phase.of.flight   Report.Status Publication.Date  \n",
       "6781               VMC               Standing  Probable Cause       19-03-2002  \n",
       "6784               VMC               Standing  Probable Cause       19-03-2002  \n",
       "6785               VMC                   Taxi  Probable Cause       19-03-2002  \n",
       "\n",
       "[3 rows x 31 columns]"
      ]
     },
     "execution_count": 40,
     "metadata": {},
     "output_type": "execute_result"
    }
   ],
   "source": [
    "df_dup.loc[df_dup['Event.Id'] == \"20001214X45071\"]"
   ]
  },
  {
   "cell_type": "code",
   "execution_count": 41,
   "metadata": {},
   "outputs": [],
   "source": [
    "df_dup = df_dup.drop_duplicates(subset='Event.Id')"
   ]
  },
  {
   "cell_type": "markdown",
   "metadata": {},
   "source": [
    "# Analyzing Clean Data Based on Years"
   ]
  },
  {
   "cell_type": "markdown",
   "metadata": {},
   "source": [
    "### Notes: Every single broad phase of flight value is null for the past 5 years..."
   ]
  },
  {
   "cell_type": "code",
   "execution_count": 45,
   "metadata": {},
   "outputs": [],
   "source": [
    "dfyrscln = dfyears.copy()"
   ]
  },
  {
   "cell_type": "code",
   "execution_count": 46,
   "metadata": {},
   "outputs": [],
   "source": [
    "dfyrscln = dfyrscln.drop_duplicates(subset='Event.Id')"
   ]
  },
  {
   "cell_type": "code",
   "execution_count": 47,
   "metadata": {},
   "outputs": [
    {
     "name": "stdout",
     "output_type": "stream",
     "text": [
      "<class 'pandas.core.frame.DataFrame'>\n",
      "Int64Index: 87951 entries, 0 to 90347\n",
      "Data columns (total 33 columns):\n",
      " #   Column                  Non-Null Count  Dtype   \n",
      "---  ------                  --------------  -----   \n",
      " 0   Event.Id                87951 non-null  object  \n",
      " 1   Investigation.Type      87951 non-null  object  \n",
      " 2   Accident.Number         87951 non-null  object  \n",
      " 3   Event.Date              87951 non-null  object  \n",
      " 4   Location                87899 non-null  object  \n",
      " 5   Country                 87729 non-null  object  \n",
      " 6   Latitude                34212 non-null  object  \n",
      " 7   Longitude               34203 non-null  object  \n",
      " 8   Airport.Code            49601 non-null  object  \n",
      " 9   Airport.Name            52117 non-null  object  \n",
      " 10  Injury.Severity         86961 non-null  object  \n",
      " 11  Aircraft.damage         84848 non-null  object  \n",
      " 12  Aircraft.Category       32181 non-null  object  \n",
      " 13  Registration.Number     86666 non-null  object  \n",
      " 14  Make                    87888 non-null  object  \n",
      " 15  Model                   87859 non-null  object  \n",
      " 16  Amateur.Built           87851 non-null  object  \n",
      " 17  Number.of.Engines       81924 non-null  float64 \n",
      " 18  Engine.Type             80927 non-null  object  \n",
      " 19  FAR.Description         31915 non-null  object  \n",
      " 20  Schedule                12360 non-null  object  \n",
      " 21  Purpose.of.flight       81829 non-null  object  \n",
      " 22  Air.carrier             16533 non-null  object  \n",
      " 23  Total.Fatal.Injuries    76684 non-null  float64 \n",
      " 24  Total.Serious.Injuries  75629 non-null  float64 \n",
      " 25  Total.Minor.Injuries    76191 non-null  float64 \n",
      " 26  Total.Uninjured         82088 non-null  float64 \n",
      " 27  Weather.Condition       83478 non-null  object  \n",
      " 28  Broad.phase.of.flight   60837 non-null  object  \n",
      " 29  Report.Status           81590 non-null  object  \n",
      " 30  Publication.Date        72894 non-null  object  \n",
      " 31  Year                    87951 non-null  object  \n",
      " 32  Five_Year               86370 non-null  category\n",
      "dtypes: category(1), float64(5), object(27)\n",
      "memory usage: 22.2+ MB\n"
     ]
    }
   ],
   "source": [
    "dfyrscln.info()"
   ]
  },
  {
   "cell_type": "code",
   "execution_count": 49,
   "metadata": {},
   "outputs": [],
   "source": [
    "eightytwo = dfyrscln.loc[dfyrscln['Five_Year'] == '1982-1986']"
   ]
  },
  {
   "cell_type": "code",
   "execution_count": 60,
   "metadata": {},
   "outputs": [
    {
     "name": "stdout",
     "output_type": "stream",
     "text": [
      "16351\n",
      "6608.0\n",
      "3270.0\n",
      "5089.0\n",
      "54590.0\n"
     ]
    }
   ],
   "source": [
    "print(eightytwo['Event.Id'].count())\n",
    "print(eightytwo['Total.Fatal.Injuries'].sum())\n",
    "print(eightytwo['Total.Serious.Injuries'].sum())\n",
    "print(eightytwo['Total.Minor.Injuries'].sum())\n",
    "print(eightytwo['Total.Uninjured'].sum())"
   ]
  },
  {
   "cell_type": "code",
   "execution_count": 57,
   "metadata": {},
   "outputs": [],
   "source": [
    "seventeen = dfyrscln.loc[dfyrscln['Five_Year'] == '2017-2021']"
   ]
  },
  {
   "cell_type": "code",
   "execution_count": 61,
   "metadata": {},
   "outputs": [
    {
     "name": "stdout",
     "output_type": "stream",
     "text": [
      "7880\n",
      "4003.0\n",
      "2245.0\n",
      "1463.0\n",
      "43452.0\n"
     ]
    }
   ],
   "source": [
    "print(seventeen['Event.Id'].count())\n",
    "print(seventeen['Total.Fatal.Injuries'].sum())\n",
    "print(seventeen['Total.Serious.Injuries'].sum())\n",
    "print(seventeen['Total.Minor.Injuries'].sum())\n",
    "print(seventeen['Total.Uninjured'].sum())"
   ]
  },
  {
   "cell_type": "code",
   "execution_count": null,
   "metadata": {},
   "outputs": [],
   "source": [
    "# saved for posterity\n",
    "\n",
    "# categories = ['Total Accidents', 'Total Fatal Injuries', 'Total Serious Injuries', 'Total Minor Injuries', 'Total Uninjured']\n",
    "# values1 = [16351, 6608, 3270, 5089, 54590]\n",
    "# values2 = [7880, 4003, 2245, 1463, 43452]\n"
   ]
  },
  {
   "cell_type": "code",
   "execution_count": 82,
   "metadata": {},
   "outputs": [],
   "source": [
    "categories = ['Total Fatal Injuries', 'Total Serious Injuries', 'Total Minor Injuries']\n",
    "values1 = [6608, 3270, 5089]\n",
    "values2 = [4003, 2245, 1463]"
   ]
  },
  {
   "cell_type": "code",
   "execution_count": 86,
   "metadata": {},
   "outputs": [
    {
     "data": {
      "image/png": "[encoded data removed]",
      "text/plain": [
       "<Figure size 1080x432 with 2 Axes>"
      ]
     },
     "metadata": {
      "needs_background": "light"
     },
     "output_type": "display_data"
    }
   ],
   "source": [
    "fig, ax = plt.subplots(1, 2, figsize = (15,6))\n",
    "\n",
    "ax[0].bar(categories, values1, color=\"purple\", label=\"1982-1986\")\n",
    "ax[0].set_ylim(0,7000)\n",
    "ax[0].set_xlabel('Injury Types')\n",
    "ax[0].set_ylabel('Injury Counts')\n",
    "ax[0].set_title(\"1982-1986 Injury Data\")\n",
    "\n",
    "ax[1].bar(categories, values2, color=\"green\", label=\"2017-2021\")\n",
    "ax[1].set_ylim(0,7000)\n",
    "ax[1].set_xlabel('Injury Types')\n",
    "ax[1].set_ylabel('Injury Counts')\n",
    "ax[1].set_title(\"2017-2021 Injury Data\");"
   ]
  },
  {
   "cell_type": "code",
   "execution_count": 92,
   "metadata": {},
   "outputs": [],
   "source": [
    "damage17 = seventeen['Aircraft.damage'].value_counts()"
   ]
  },
  {
   "cell_type": "code",
   "execution_count": 93,
   "metadata": {},
   "outputs": [],
   "source": [
    "damage82 = eightytwo['Aircraft.damage'].value_counts()"
   ]
  },
  {
   "cell_type": "code",
   "execution_count": 101,
   "metadata": {},
   "outputs": [
    {
     "data": {
      "image/png": "[encoded data removed]",
      "text/plain": [
       "<Figure size 1080x432 with 2 Axes>"
      ]
     },
     "metadata": {
      "needs_background": "light"
     },
     "output_type": "display_data"
    }
   ],
   "source": [
    "fig, ax = plt.subplots(1, 2, figsize = (15,6))\n",
    "\n",
    "ax[0].bar(damage82.keys(), damage82.values, color=\"purple\", label=\"1982-1986\")\n",
    "ax[0].set_ylim(0,12000)\n",
    "ax[0].set_xlabel('Damage Types')\n",
    "ax[0].set_ylabel('Instances')\n",
    "ax[0].set_title(\"1982-1986 Plane Damage\")\n",
    "\n",
    "ax[1].bar(damage17.keys(), damage17.values, color=\"green\", label=\"2017-2021\")\n",
    "ax[1].set_ylim(0,12000)\n",
    "ax[1].set_xlabel('Damange Types')\n",
    "ax[1].set_ylabel('Instances')\n",
    "ax[1].set_title(\"2017-2021 Plane Damage\");"
   ]
  },
  {
   "cell_type": "code",
   "execution_count": 104,
   "metadata": {},
   "outputs": [],
   "source": [
    "enginenum = seventeen['Number.of.Engines'].value_counts().sort_index(ascending=True)"
   ]
  },
  {
   "cell_type": "code",
   "execution_count": 110,
   "metadata": {},
   "outputs": [
    {
     "data": {
      "image/png": "[encoded data removed]",
      "text/plain": [
       "<Figure size 1080x432 with 1 Axes>"
      ]
     },
     "metadata": {
      "needs_background": "light"
     },
     "output_type": "display_data"
    }
   ],
   "source": [
    "plt.figure(figsize = (15,6))\n",
    "plt.bar(enginenum.keys(), enginenum.values, color=\"green\")\n",
    "plt.xlabel('Number of Engine')\n",
    "plt.ylabel('Number of Accidents')\n",
    "plt.title(\"2017-2021 Number of Accidents by Engine Number\");"
   ]
  },
  {
   "cell_type": "code",
   "execution_count": 109,
   "metadata": {},
   "outputs": [],
   "source": [
    "enginetype = seventeen['Engine.Type'].value_counts().sort_index(ascending=True)"
   ]
  },
  {
   "cell_type": "code",
   "execution_count": 111,
   "metadata": {},
   "outputs": [
    {
     "data": {
      "image/png": "[encoded data removed]",
      "text/plain": [
       "<Figure size 1080x432 with 1 Axes>"
      ]
     },
     "metadata": {
      "needs_background": "light"
     },
     "output_type": "display_data"
    }
   ],
   "source": [
    "plt.figure(figsize = (15,6))\n",
    "plt.bar(enginetype.keys(), enginetype.values, color=\"green\")\n",
    "plt.xlabel('Type of Engine')\n",
    "plt.ylabel('Number of Accidents')\n",
    "plt.title(\"2017-2021 Number of Accidents by Engine Type\");"
   ]
  },
  {
   "cell_type": "code",
   "execution_count": 120,
   "metadata": {},
   "outputs": [],
   "source": [
    "purpose = seventeen['Purpose.of.flight'].value_counts().head(7)"
   ]
  },
  {
   "cell_type": "code",
   "execution_count": 122,
   "metadata": {},
   "outputs": [
    {
     "data": {
      "image/png": "[encoded data removed]",
      "text/plain": [
       "<Figure size 1080x432 with 1 Axes>"
      ]
     },
     "metadata": {
      "needs_background": "light"
     },
     "output_type": "display_data"
    }
   ],
   "source": [
    "plt.figure(figsize = (15,6))\n",
    "plt.bar(purpose.keys(), purpose.values, color=\"green\")\n",
    "plt.xlabel('Purposes')\n",
    "plt.ylabel('Number of Accidents')\n",
    "plt.title(\"2017-2021 Most Common Flight Purposes for Accidents\");"
   ]
  },
  {
   "cell_type": "code",
   "execution_count": 133,
   "metadata": {},
   "outputs": [],
   "source": [
    "make = seventeen['Make'].value_counts().head(10)"
   ]
  },
  {
   "cell_type": "code",
   "execution_count": 134,
   "metadata": {},
   "outputs": [
    {
     "data": {
      "image/png": "[encoded data removed]",
      "text/plain": [
       "<Figure size 1080x432 with 1 Axes>"
      ]
     },
     "metadata": {
      "needs_background": "light"
     },
     "output_type": "display_data"
    }
   ],
   "source": [
    "plt.figure(figsize = (15,6))\n",
    "plt.bar(make.keys(), make.values, color=\"green\")\n",
    "plt.xlabel('Purposes')\n",
    "plt.ylabel('Number of Accidents')\n",
    "plt.title(\"2017-2021 Most Common Flight Purposes for Accidents\");"
   ]
  },
  {
   "cell_type": "code",
   "execution_count": 135,
   "metadata": {},
   "outputs": [],
   "source": [
    "aircat = seventeen['Aircraft.Category'].value_counts()"
   ]
  },
  {
   "cell_type": "code",
   "execution_count": 136,
   "metadata": {},
   "outputs": [
    {
     "data": {
      "image/png": "[encoded data removed]",
      "text/plain": [
       "<Figure size 1080x432 with 1 Axes>"
      ]
     },
     "metadata": {
      "needs_background": "light"
     },
     "output_type": "display_data"
    }
   ],
   "source": [
    "plt.figure(figsize = (15,6))\n",
    "plt.bar(aircat.keys(), aircat.values, color=\"green\")\n",
    "plt.xlabel('Categories')\n",
    "plt.ylabel('Number of Accidents')\n",
    "plt.title(\"2017-2021 Most Aircraft Categories for Accidents\");"
   ]
  },
  {
   "cell_type": "code",
   "execution_count": 146,
   "metadata": {},
   "outputs": [
    {
     "data": {
      "text/plain": [
       "ANCHORAGE, AK           434\n",
       "MIAMI, FL               200\n",
       "ALBUQUERQUE, NM         196\n",
       "HOUSTON, TX             193\n",
       "CHICAGO, IL             184\n",
       "                       ... \n",
       "Herlong, FL               1\n",
       "Lubeck, Germany           1\n",
       "GROTON, NY                1\n",
       "Gatesville, TX            1\n",
       "Zell am See, Austria      1\n",
       "Name: Location, Length: 27758, dtype: int64"
      ]
     },
     "execution_count": 146,
     "metadata": {},
     "output_type": "execute_result"
    }
   ],
   "source": []
  },
  {
   "cell_type": "code",
   "execution_count": 141,
   "metadata": {},
   "outputs": [
    {
     "name": "stdout",
     "output_type": "stream",
     "text": [
      "<class 'pandas.core.frame.DataFrame'>\n",
      "Int64Index: 7880 entries, 79915 to 88540\n",
      "Data columns (total 33 columns):\n",
      " #   Column                  Non-Null Count  Dtype   \n",
      "---  ------                  --------------  -----   \n",
      " 0   Event.Id                7880 non-null   object  \n",
      " 1   Investigation.Type      7880 non-null   object  \n",
      " 2   Accident.Number         7880 non-null   object  \n",
      " 3   Event.Date              7880 non-null   object  \n",
      " 4   Location                7880 non-null   object  \n",
      " 5   Country                 7880 non-null   object  \n",
      " 6   Latitude                6831 non-null   object  \n",
      " 7   Longitude               6831 non-null   object  \n",
      " 8   Airport.Code            4620 non-null   object  \n",
      " 9   Airport.Name            4492 non-null   object  \n",
      " 10  Injury.Severity         7438 non-null   object  \n",
      " 11  Aircraft.damage         7284 non-null   object  \n",
      " 12  Aircraft.Category       7791 non-null   object  \n",
      " 13  Registration.Number     7878 non-null   object  \n",
      " 14  Make                    7880 non-null   object  \n",
      " 15  Model                   7880 non-null   object  \n",
      " 16  Amateur.Built           7880 non-null   object  \n",
      " 17  Number.of.Engines       6196 non-null   float64 \n",
      " 18  Engine.Type             5283 non-null   object  \n",
      " 19  FAR.Description         7723 non-null   object  \n",
      " 20  Schedule                814 non-null    object  \n",
      " 21  Purpose.of.flight       6089 non-null   object  \n",
      " 22  Air.carrier             3041 non-null   object  \n",
      " 23  Total.Fatal.Injuries    7880 non-null   float64 \n",
      " 24  Total.Serious.Injuries  7880 non-null   float64 \n",
      " 25  Total.Minor.Injuries    7880 non-null   float64 \n",
      " 26  Total.Uninjured         7880 non-null   float64 \n",
      " 27  Weather.Condition       6074 non-null   object  \n",
      " 28  Broad.phase.of.flight   0 non-null      object  \n",
      " 29  Report.Status           4527 non-null   object  \n",
      " 30  Publication.Date        6299 non-null   object  \n",
      " 31  Year                    7880 non-null   object  \n",
      " 32  Five_Year               7880 non-null   category\n",
      "dtypes: category(1), float64(5), object(27)\n",
      "memory usage: 2.0+ MB\n"
     ]
    }
   ],
   "source": [
    "seventeen.info()"
   ]
  },
  {
   "cell_type": "code",
   "execution_count": 150,
   "metadata": {},
   "outputs": [
    {
     "name": "stderr",
     "output_type": "stream",
     "text": [
      "<ipython-input-150-abe7830ebe9e>:1: SettingWithCopyWarning: \n",
      "A value is trying to be set on a copy of a slice from a DataFrame.\n",
      "Try using .loc[row_indexer,col_indexer] = value instead\n",
      "\n",
      "See the caveats in the documentation: https://pandas.pydata.org/pandas-docs/stable/user_guide/indexing.html#returning-a-view-versus-a-copy\n",
      "  seventeen['State'] = seventeen['Location'].astype(str).str[-2:]\n"
     ]
    }
   ],
   "source": [
    "seventeen['State'] = seventeen['Location'].astype(str).str[-2:]"
   ]
  },
  {
   "cell_type": "code",
   "execution_count": 152,
   "metadata": {},
   "outputs": [
    {
     "data": {
      "text/plain": [
       "CA    585\n",
       "TX    532\n",
       "FL    513\n",
       "AK    425\n",
       "ia    291\n",
       "AZ    234\n",
       "WA    191\n",
       "CO    191\n",
       "GA    183\n",
       "OR    159\n",
       "NC    158\n",
       "ID    155\n",
       "Name: State, dtype: int64"
      ]
     },
     "execution_count": 152,
     "metadata": {},
     "output_type": "execute_result"
    }
   ],
   "source": [
    "seventeen['State'].value_counts().head(12)"
   ]
  },
  {
   "cell_type": "code",
   "execution_count": 153,
   "metadata": {},
   "outputs": [],
   "source": [
    "amateur = seventeen['Amateur.Built'].value_counts()"
   ]
  },
  {
   "cell_type": "code",
   "execution_count": 154,
   "metadata": {},
   "outputs": [
    {
     "data": {
      "image/png": "[encoded data removed]",
      "text/plain": [
       "<Figure size 1080x432 with 1 Axes>"
      ]
     },
     "metadata": {
      "needs_background": "light"
     },
     "output_type": "display_data"
    }
   ],
   "source": [
    "plt.figure(figsize = (15,6))\n",
    "plt.bar(amateur.keys(), amateur.values, color=\"green\")\n",
    "plt.xlabel('Categories')\n",
    "plt.ylabel('Number of Accidents')\n",
    "plt.title(\"2017-2021 Most Aircraft Categories for Accidents\");"
   ]
  },
  {
   "cell_type": "code",
   "execution_count": null,
   "metadata": {},
   "outputs": [],
   "source": [
    "seventeen['Air.']"
   ]
  }
 ],
 "metadata": {
  "kernelspec": {
   "display_name": "Python (learn-env)",
   "language": "python",
   "name": "learn-env"
  },
  "language_info": {
   "codemirror_mode": {
    "name": "ipython",
    "version": 3
   },
   "file_extension": ".py",
   "mimetype": "text/x-python",
   "name": "python",
   "nbconvert_exporter": "python",
   "pygments_lexer": "ipython3",
   "version": "3.8.5"
  }
 },
 "nbformat": 4,
 "nbformat_minor": 4
}
