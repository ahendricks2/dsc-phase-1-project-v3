{
 "cells": [
  {
   "cell_type": "markdown",
   "metadata": {},
   "source": [
    "# 1. Importing and Browsing Data "
   ]
  },
  {
   "cell_type": "markdown",
   "metadata": {},
   "source": [
    "Performed by: Kendall and Andrew"
   ]
  },
  {
   "cell_type": "code",
   "execution_count": 1,
   "metadata": {
    "scrolled": true
   },
   "outputs": [
    {
     "name": "stdout",
     "output_type": "stream",
     "text": [
      "C:\\Users\\Hendricks\\Documents\\Flatiron\\project_1\\dsc-phase-1-project-v3\\data\n"
     ]
    }
   ],
   "source": [
    "cd data"
   ]
  },
  {
   "cell_type": "code",
   "execution_count": 2,
   "metadata": {},
   "outputs": [
    {
     "name": "stderr",
     "output_type": "stream",
     "text": [
      "C:\\Users\\Hendricks\\anaconda3\\envs\\learn-env\\lib\\site-packages\\IPython\\core\\interactiveshell.py:3145: DtypeWarning: Columns (6,7,28) have mixed types.Specify dtype option on import or set low_memory=False.\n",
      "  has_raised = await self.run_ast_nodes(code_ast.body, cell_name,\n"
     ]
    }
   ],
   "source": [
    "import pandas as pd\n",
    "import matplotlib.pyplot as plt\n",
    "%matplotlib inline\n",
    "import numpy as np\n",
    "import seaborn as sns\n",
    "pd.set_option('display.max_columns', None)\n",
    "aviation = pd.read_csv('Aviation_Data.csv')"
   ]
  },
  {
   "cell_type": "code",
   "execution_count": 3,
   "metadata": {
    "scrolled": true
   },
   "outputs": [
    {
     "name": "stdout",
     "output_type": "stream",
     "text": [
      "<class 'pandas.core.frame.DataFrame'>\n",
      "RangeIndex: 90348 entries, 0 to 90347\n",
      "Data columns (total 31 columns):\n",
      " #   Column                  Non-Null Count  Dtype  \n",
      "---  ------                  --------------  -----  \n",
      " 0   Event.Id                88889 non-null  object \n",
      " 1   Investigation.Type      90348 non-null  object \n",
      " 2   Accident.Number         88889 non-null  object \n",
      " 3   Event.Date              88889 non-null  object \n",
      " 4   Location                88837 non-null  object \n",
      " 5   Country                 88663 non-null  object \n",
      " 6   Latitude                34382 non-null  object \n",
      " 7   Longitude               34373 non-null  object \n",
      " 8   Airport.Code            50249 non-null  object \n",
      " 9   Airport.Name            52790 non-null  object \n",
      " 10  Injury.Severity         87889 non-null  object \n",
      " 11  Aircraft.damage         85695 non-null  object \n",
      " 12  Aircraft.Category       32287 non-null  object \n",
      " 13  Registration.Number     87572 non-null  object \n",
      " 14  Make                    88826 non-null  object \n",
      " 15  Model                   88797 non-null  object \n",
      " 16  Amateur.Built           88787 non-null  object \n",
      " 17  Number.of.Engines       82805 non-null  float64\n",
      " 18  Engine.Type             81812 non-null  object \n",
      " 19  FAR.Description         32023 non-null  object \n",
      " 20  Schedule                12582 non-null  object \n",
      " 21  Purpose.of.flight       82697 non-null  object \n",
      " 22  Air.carrier             16648 non-null  object \n",
      " 23  Total.Fatal.Injuries    77488 non-null  float64\n",
      " 24  Total.Serious.Injuries  76379 non-null  float64\n",
      " 25  Total.Minor.Injuries    76956 non-null  float64\n",
      " 26  Total.Uninjured         82977 non-null  float64\n",
      " 27  Weather.Condition       84397 non-null  object \n",
      " 28  Broad.phase.of.flight   61724 non-null  object \n",
      " 29  Report.Status           82508 non-null  object \n",
      " 30  Publication.Date        73659 non-null  object \n",
      "dtypes: float64(5), object(26)\n",
      "memory usage: 21.4+ MB\n"
     ]
    }
   ],
   "source": [
    "aviation.info()"
   ]
  },
  {
   "cell_type": "code",
   "execution_count": 4,
   "metadata": {
    "scrolled": true
   },
   "outputs": [
    {
     "data": {
      "text/html": [
       "<div>\n",
       "<style scoped>\n",
       "    .dataframe tbody tr th:only-of-type {\n",
       "        vertical-align: middle;\n",
       "    }\n",
       "\n",
       "    .dataframe tbody tr th {\n",
       "        vertical-align: top;\n",
       "    }\n",
       "\n",
       "    .dataframe thead th {\n",
       "        text-align: right;\n",
       "    }\n",
       "</style>\n",
       "<table border=\"1\" class=\"dataframe\">\n",
       "  <thead>\n",
       "    <tr style=\"text-align: right;\">\n",
       "      <th></th>\n",
       "      <th>Number.of.Engines</th>\n",
       "      <th>Total.Fatal.Injuries</th>\n",
       "      <th>Total.Serious.Injuries</th>\n",
       "      <th>Total.Minor.Injuries</th>\n",
       "      <th>Total.Uninjured</th>\n",
       "    </tr>\n",
       "  </thead>\n",
       "  <tbody>\n",
       "    <tr>\n",
       "      <th>count</th>\n",
       "      <td>82805.000000</td>\n",
       "      <td>77488.000000</td>\n",
       "      <td>76379.000000</td>\n",
       "      <td>76956.000000</td>\n",
       "      <td>82977.000000</td>\n",
       "    </tr>\n",
       "    <tr>\n",
       "      <th>mean</th>\n",
       "      <td>1.146585</td>\n",
       "      <td>0.647855</td>\n",
       "      <td>0.279881</td>\n",
       "      <td>0.357061</td>\n",
       "      <td>5.325440</td>\n",
       "    </tr>\n",
       "    <tr>\n",
       "      <th>std</th>\n",
       "      <td>0.446510</td>\n",
       "      <td>5.485960</td>\n",
       "      <td>1.544084</td>\n",
       "      <td>2.235625</td>\n",
       "      <td>27.913634</td>\n",
       "    </tr>\n",
       "    <tr>\n",
       "      <th>min</th>\n",
       "      <td>0.000000</td>\n",
       "      <td>0.000000</td>\n",
       "      <td>0.000000</td>\n",
       "      <td>0.000000</td>\n",
       "      <td>0.000000</td>\n",
       "    </tr>\n",
       "    <tr>\n",
       "      <th>25%</th>\n",
       "      <td>1.000000</td>\n",
       "      <td>0.000000</td>\n",
       "      <td>0.000000</td>\n",
       "      <td>0.000000</td>\n",
       "      <td>0.000000</td>\n",
       "    </tr>\n",
       "    <tr>\n",
       "      <th>50%</th>\n",
       "      <td>1.000000</td>\n",
       "      <td>0.000000</td>\n",
       "      <td>0.000000</td>\n",
       "      <td>0.000000</td>\n",
       "      <td>1.000000</td>\n",
       "    </tr>\n",
       "    <tr>\n",
       "      <th>75%</th>\n",
       "      <td>1.000000</td>\n",
       "      <td>0.000000</td>\n",
       "      <td>0.000000</td>\n",
       "      <td>0.000000</td>\n",
       "      <td>2.000000</td>\n",
       "    </tr>\n",
       "    <tr>\n",
       "      <th>max</th>\n",
       "      <td>8.000000</td>\n",
       "      <td>349.000000</td>\n",
       "      <td>161.000000</td>\n",
       "      <td>380.000000</td>\n",
       "      <td>699.000000</td>\n",
       "    </tr>\n",
       "  </tbody>\n",
       "</table>\n",
       "</div>"
      ],
      "text/plain": [
       "       Number.of.Engines  Total.Fatal.Injuries  Total.Serious.Injuries  \\\n",
       "count       82805.000000          77488.000000            76379.000000   \n",
       "mean            1.146585              0.647855                0.279881   \n",
       "std             0.446510              5.485960                1.544084   \n",
       "min             0.000000              0.000000                0.000000   \n",
       "25%             1.000000              0.000000                0.000000   \n",
       "50%             1.000000              0.000000                0.000000   \n",
       "75%             1.000000              0.000000                0.000000   \n",
       "max             8.000000            349.000000              161.000000   \n",
       "\n",
       "       Total.Minor.Injuries  Total.Uninjured  \n",
       "count          76956.000000     82977.000000  \n",
       "mean               0.357061         5.325440  \n",
       "std                2.235625        27.913634  \n",
       "min                0.000000         0.000000  \n",
       "25%                0.000000         0.000000  \n",
       "50%                0.000000         1.000000  \n",
       "75%                0.000000         2.000000  \n",
       "max              380.000000       699.000000  "
      ]
     },
     "execution_count": 4,
     "metadata": {},
     "output_type": "execute_result"
    }
   ],
   "source": [
    "aviation.describe()"
   ]
  },
  {
   "cell_type": "markdown",
   "metadata": {},
   "source": [
    "# 2. Cleaning Data"
   ]
  },
  {
   "cell_type": "markdown",
   "metadata": {},
   "source": [
    "Performed by: Kendall and Andrew"
   ]
  },
  {
   "cell_type": "markdown",
   "metadata": {},
   "source": [
    "1. Drop duplicates based on event ID: 1390 entries.\n",
    "2. Standardized weather conditions (upper/lower casing)\n",
    "3. Standardized make names (upper/lower casing)\n",
    "4. Drop null values for event date: 1 entry.\n",
    "4. Created Year column."
   ]
  },
  {
   "cell_type": "code",
   "execution_count": 5,
   "metadata": {},
   "outputs": [
    {
     "name": "stdout",
     "output_type": "stream",
     "text": [
      "1390\n"
     ]
    }
   ],
   "source": [
    "#dropping dupliates\n",
    "duplicates = aviation[aviation.duplicated()]\n",
    "print(len(duplicates))\n",
    "duplicates.head(30)\n",
    "aviation = aviation.drop_duplicates(subset='Event.Id')"
   ]
  },
  {
   "cell_type": "code",
   "execution_count": 6,
   "metadata": {
    "scrolled": true
   },
   "outputs": [],
   "source": [
    "#dropping event ID N/A\n",
    "aviation.dropna(subset=['Event.Id'], inplace=True)"
   ]
  },
  {
   "cell_type": "code",
   "execution_count": 7,
   "metadata": {},
   "outputs": [],
   "source": [
    "#standardizing weather conditions\n",
    "aviation['Weather.Condition'] = aviation['Weather.Condition'].replace('Unk', 'UNK')"
   ]
  },
  {
   "cell_type": "code",
   "execution_count": 8,
   "metadata": {},
   "outputs": [],
   "source": [
    "aviation['Engine.Type'] = aviation['Engine.Type'].replace('NONE', 'None')"
   ]
  },
  {
   "cell_type": "code",
   "execution_count": 9,
   "metadata": {},
   "outputs": [],
   "source": [
    "#standardizing make names\n",
    "aviation['Make'] = aviation['Make'].apply(lambda x: str(x).title())\n",
    "aviation['Make'] = aviation['Make'].replace('PIPER', 'Piper')\n",
    "aviation['Make'] = aviation['Make'].replace('CESSNA', 'Cessna')\n",
    "aviation['Make'] = aviation['Make'].replace('BEECH', 'Beech')\n",
    "aviation['Make'] = aviation['Make'].replace('BELL', 'Bell')"
   ]
  },
  {
   "cell_type": "code",
   "execution_count": 10,
   "metadata": {},
   "outputs": [
    {
     "data": {
      "text/plain": [
       "Cessna                26839\n",
       "Piper                 14744\n",
       "Beech                  5332\n",
       "Bell                   2706\n",
       "Boeing                 2652\n",
       "                      ...  \n",
       "Stol Aircraft Corp        1\n",
       "Corey                     1\n",
       "Oliver Joseph             1\n",
       "Wim J Huisman             1\n",
       "Fuller Van L              1\n",
       "Name: Make, Length: 7553, dtype: int64"
      ]
     },
     "execution_count": 10,
     "metadata": {},
     "output_type": "execute_result"
    }
   ],
   "source": [
    "aviation['Make'].value_counts()"
   ]
  },
  {
   "cell_type": "code",
   "execution_count": 11,
   "metadata": {},
   "outputs": [],
   "source": [
    "#dropping nans for event date\n",
    "aviation.dropna(subset=['Event.Date'], inplace=True)"
   ]
  },
  {
   "cell_type": "code",
   "execution_count": 12,
   "metadata": {},
   "outputs": [],
   "source": [
    "#creating year column\n",
    "aviation['Year'] = aviation['Event.Date'].astype(str).str[:4]"
   ]
  },
  {
   "cell_type": "markdown",
   "metadata": {},
   "source": [
    "# 3A. ENGINE COUNT & TYPE - Trend Exploration"
   ]
  },
  {
   "cell_type": "raw",
   "metadata": {},
   "source": [
    "Performed by: Kendall"
   ]
  },
  {
   "cell_type": "code",
   "execution_count": 13,
   "metadata": {},
   "outputs": [
    {
     "data": {
      "image/png": "[encoded data removed]",
      "text/plain": [
       "<Figure size 1440x576 with 1 Axes>"
      ]
     },
     "metadata": {
      "needs_background": "light"
     },
     "output_type": "display_data"
    }
   ],
   "source": [
    "#plot of engine count and fatal injuries\n",
    "fig, ax = plt.subplots(figsize=(20,8))\n",
    "\n",
    "sns.barplot(x=aviation['Number.of.Engines'], y=aviation['Total.Fatal.Injuries'])\n",
    "\n",
    "ax.set_title('Number of Engines and Total Fatal Injuries')\n",
    "ax.set_xlabel('# of Engines')\n",
    "ax.set_ylabel('Total Fatal Injuries');"
   ]
  },
  {
   "cell_type": "code",
   "execution_count": 14,
   "metadata": {
    "scrolled": false
   },
   "outputs": [
    {
     "data": {
      "text/html": [
       "<div>\n",
       "<style scoped>\n",
       "    .dataframe tbody tr th:only-of-type {\n",
       "        vertical-align: middle;\n",
       "    }\n",
       "\n",
       "    .dataframe tbody tr th {\n",
       "        vertical-align: top;\n",
       "    }\n",
       "\n",
       "    .dataframe thead th {\n",
       "        text-align: right;\n",
       "    }\n",
       "</style>\n",
       "<table border=\"1\" class=\"dataframe\">\n",
       "  <thead>\n",
       "    <tr style=\"text-align: right;\">\n",
       "      <th></th>\n",
       "      <th>Total.Fatal.Injuries</th>\n",
       "      <th>Total.Serious.Injuries</th>\n",
       "      <th>Total.Minor.Injuries</th>\n",
       "      <th>Total.Uninjured</th>\n",
       "    </tr>\n",
       "    <tr>\n",
       "      <th>Number.of.Engines</th>\n",
       "      <th></th>\n",
       "      <th></th>\n",
       "      <th></th>\n",
       "      <th></th>\n",
       "    </tr>\n",
       "  </thead>\n",
       "  <tbody>\n",
       "    <tr>\n",
       "      <th>0.0</th>\n",
       "      <td>402.0</td>\n",
       "      <td>443.0</td>\n",
       "      <td>476.0</td>\n",
       "      <td>3018.0</td>\n",
       "    </tr>\n",
       "    <tr>\n",
       "      <th>1.0</th>\n",
       "      <td>21627.0</td>\n",
       "      <td>13818.0</td>\n",
       "      <td>17592.0</td>\n",
       "      <td>71816.0</td>\n",
       "    </tr>\n",
       "    <tr>\n",
       "      <th>2.0</th>\n",
       "      <td>10048.0</td>\n",
       "      <td>3385.0</td>\n",
       "      <td>4416.0</td>\n",
       "      <td>183081.0</td>\n",
       "    </tr>\n",
       "    <tr>\n",
       "      <th>3.0</th>\n",
       "      <td>861.0</td>\n",
       "      <td>316.0</td>\n",
       "      <td>1141.0</td>\n",
       "      <td>46148.0</td>\n",
       "    </tr>\n",
       "    <tr>\n",
       "      <th>4.0</th>\n",
       "      <td>1651.0</td>\n",
       "      <td>231.0</td>\n",
       "      <td>506.0</td>\n",
       "      <td>37622.0</td>\n",
       "    </tr>\n",
       "    <tr>\n",
       "      <th>6.0</th>\n",
       "      <td>0.0</td>\n",
       "      <td>0.0</td>\n",
       "      <td>0.0</td>\n",
       "      <td>0.0</td>\n",
       "    </tr>\n",
       "    <tr>\n",
       "      <th>8.0</th>\n",
       "      <td>0.0</td>\n",
       "      <td>21.0</td>\n",
       "      <td>3.0</td>\n",
       "      <td>11.0</td>\n",
       "    </tr>\n",
       "  </tbody>\n",
       "</table>\n",
       "</div>"
      ],
      "text/plain": [
       "                   Total.Fatal.Injuries  Total.Serious.Injuries  \\\n",
       "Number.of.Engines                                                 \n",
       "0.0                               402.0                   443.0   \n",
       "1.0                             21627.0                 13818.0   \n",
       "2.0                             10048.0                  3385.0   \n",
       "3.0                               861.0                   316.0   \n",
       "4.0                              1651.0                   231.0   \n",
       "6.0                                 0.0                     0.0   \n",
       "8.0                                 0.0                    21.0   \n",
       "\n",
       "                   Total.Minor.Injuries  Total.Uninjured  \n",
       "Number.of.Engines                                         \n",
       "0.0                               476.0           3018.0  \n",
       "1.0                             17592.0          71816.0  \n",
       "2.0                              4416.0         183081.0  \n",
       "3.0                              1141.0          46148.0  \n",
       "4.0                               506.0          37622.0  \n",
       "6.0                                 0.0              0.0  \n",
       "8.0                                 3.0             11.0  "
      ]
     },
     "execution_count": 14,
     "metadata": {},
     "output_type": "execute_result"
    }
   ],
   "source": [
    "#sum of injuries for engine count\n",
    "engine_count = aviation.groupby('Number.of.Engines').sum()\n",
    "engine_count"
   ]
  },
  {
   "cell_type": "code",
   "execution_count": 15,
   "metadata": {},
   "outputs": [
    {
     "data": {
      "text/html": [
       "<div>\n",
       "<style scoped>\n",
       "    .dataframe tbody tr th:only-of-type {\n",
       "        vertical-align: middle;\n",
       "    }\n",
       "\n",
       "    .dataframe tbody tr th {\n",
       "        vertical-align: top;\n",
       "    }\n",
       "\n",
       "    .dataframe thead th {\n",
       "        text-align: right;\n",
       "    }\n",
       "</style>\n",
       "<table border=\"1\" class=\"dataframe\">\n",
       "  <thead>\n",
       "    <tr style=\"text-align: right;\">\n",
       "      <th></th>\n",
       "      <th>Total.Fatal.Injuries</th>\n",
       "      <th>Total.Serious.Injuries</th>\n",
       "      <th>Total.Minor.Injuries</th>\n",
       "      <th>Total.Uninjured</th>\n",
       "    </tr>\n",
       "    <tr>\n",
       "      <th>Number.of.Engines</th>\n",
       "      <th></th>\n",
       "      <th></th>\n",
       "      <th></th>\n",
       "      <th></th>\n",
       "    </tr>\n",
       "  </thead>\n",
       "  <tbody>\n",
       "    <tr>\n",
       "      <th>0.0</th>\n",
       "      <td>0.420502</td>\n",
       "      <td>0.436884</td>\n",
       "      <td>0.485714</td>\n",
       "      <td>2.768807</td>\n",
       "    </tr>\n",
       "    <tr>\n",
       "      <th>1.0</th>\n",
       "      <td>0.359444</td>\n",
       "      <td>0.232056</td>\n",
       "      <td>0.291925</td>\n",
       "      <td>1.109916</td>\n",
       "    </tr>\n",
       "    <tr>\n",
       "      <th>2.0</th>\n",
       "      <td>1.052918</td>\n",
       "      <td>0.361839</td>\n",
       "      <td>0.474227</td>\n",
       "      <td>17.838936</td>\n",
       "    </tr>\n",
       "    <tr>\n",
       "      <th>3.0</th>\n",
       "      <td>2.190840</td>\n",
       "      <td>0.784119</td>\n",
       "      <td>2.881313</td>\n",
       "      <td>104.171558</td>\n",
       "    </tr>\n",
       "    <tr>\n",
       "      <th>4.0</th>\n",
       "      <td>4.560773</td>\n",
       "      <td>0.634615</td>\n",
       "      <td>1.390110</td>\n",
       "      <td>93.354839</td>\n",
       "    </tr>\n",
       "    <tr>\n",
       "      <th>6.0</th>\n",
       "      <td>0.000000</td>\n",
       "      <td>0.000000</td>\n",
       "      <td>0.000000</td>\n",
       "      <td>0.000000</td>\n",
       "    </tr>\n",
       "    <tr>\n",
       "      <th>8.0</th>\n",
       "      <td>0.000000</td>\n",
       "      <td>7.000000</td>\n",
       "      <td>1.000000</td>\n",
       "      <td>3.666667</td>\n",
       "    </tr>\n",
       "  </tbody>\n",
       "</table>\n",
       "</div>"
      ],
      "text/plain": [
       "                   Total.Fatal.Injuries  Total.Serious.Injuries  \\\n",
       "Number.of.Engines                                                 \n",
       "0.0                            0.420502                0.436884   \n",
       "1.0                            0.359444                0.232056   \n",
       "2.0                            1.052918                0.361839   \n",
       "3.0                            2.190840                0.784119   \n",
       "4.0                            4.560773                0.634615   \n",
       "6.0                            0.000000                0.000000   \n",
       "8.0                            0.000000                7.000000   \n",
       "\n",
       "                   Total.Minor.Injuries  Total.Uninjured  \n",
       "Number.of.Engines                                         \n",
       "0.0                            0.485714         2.768807  \n",
       "1.0                            0.291925         1.109916  \n",
       "2.0                            0.474227        17.838936  \n",
       "3.0                            2.881313       104.171558  \n",
       "4.0                            1.390110        93.354839  \n",
       "6.0                            0.000000         0.000000  \n",
       "8.0                            1.000000         3.666667  "
      ]
     },
     "execution_count": 15,
     "metadata": {},
     "output_type": "execute_result"
    }
   ],
   "source": [
    "#means of injueries for engine count\n",
    "aviation.groupby('Number.of.Engines').mean()"
   ]
  },
  {
   "cell_type": "code",
   "execution_count": 16,
   "metadata": {},
   "outputs": [
    {
     "data": {
      "image/png": "[encoded data removed]",
      "text/plain": [
       "<Figure size 1440x576 with 1 Axes>"
      ]
     },
     "metadata": {
      "needs_background": "light"
     },
     "output_type": "display_data"
    }
   ],
   "source": [
    "#plot of engine type and total fatal injuries\n",
    "fig, ax = plt.subplots(figsize=(20,8))\n",
    "\n",
    "sns.barplot(x=aviation['Engine.Type'], y=aviation['Total.Fatal.Injuries'])\n",
    "\n",
    "ax.set_title('Engine Type and Total Fatal Injuries')\n",
    "ax.set_xlabel('Engine Type')\n",
    "ax.set_ylabel('Total Fatal Injuries');"
   ]
  },
  {
   "cell_type": "code",
   "execution_count": 17,
   "metadata": {},
   "outputs": [],
   "source": [
    "engine_count['Total Passengers'] = engine_count['Total.Fatal.Injuries'] + engine_count['Total.Serious.Injuries'] + engine_count['Total.Minor.Injuries'] + engine_count['Total.Uninjured']"
   ]
  },
  {
   "cell_type": "markdown",
   "metadata": {},
   "source": [
    "# 3B: ENGINE COUNT - Ratio of Uninjured to All Passengers "
   ]
  },
  {
   "cell_type": "markdown",
   "metadata": {},
   "source": [
    "Performed by: Kendall "
   ]
  },
  {
   "cell_type": "code",
   "execution_count": 18,
   "metadata": {},
   "outputs": [
    {
     "data": {
      "text/html": [
       "<div>\n",
       "<style scoped>\n",
       "    .dataframe tbody tr th:only-of-type {\n",
       "        vertical-align: middle;\n",
       "    }\n",
       "\n",
       "    .dataframe tbody tr th {\n",
       "        vertical-align: top;\n",
       "    }\n",
       "\n",
       "    .dataframe thead th {\n",
       "        text-align: right;\n",
       "    }\n",
       "</style>\n",
       "<table border=\"1\" class=\"dataframe\">\n",
       "  <thead>\n",
       "    <tr style=\"text-align: right;\">\n",
       "      <th></th>\n",
       "      <th>Total.Fatal.Injuries</th>\n",
       "      <th>Total.Serious.Injuries</th>\n",
       "      <th>Total.Minor.Injuries</th>\n",
       "      <th>Total.Uninjured</th>\n",
       "      <th>Total Passengers</th>\n",
       "      <th>Ratio Uninjured</th>\n",
       "    </tr>\n",
       "    <tr>\n",
       "      <th>Number.of.Engines</th>\n",
       "      <th></th>\n",
       "      <th></th>\n",
       "      <th></th>\n",
       "      <th></th>\n",
       "      <th></th>\n",
       "      <th></th>\n",
       "    </tr>\n",
       "  </thead>\n",
       "  <tbody>\n",
       "    <tr>\n",
       "      <th>0.0</th>\n",
       "      <td>402.0</td>\n",
       "      <td>443.0</td>\n",
       "      <td>476.0</td>\n",
       "      <td>3018.0</td>\n",
       "      <td>4339.0</td>\n",
       "      <td>0.695552</td>\n",
       "    </tr>\n",
       "    <tr>\n",
       "      <th>1.0</th>\n",
       "      <td>21627.0</td>\n",
       "      <td>13818.0</td>\n",
       "      <td>17592.0</td>\n",
       "      <td>71816.0</td>\n",
       "      <td>124853.0</td>\n",
       "      <td>0.575204</td>\n",
       "    </tr>\n",
       "    <tr>\n",
       "      <th>2.0</th>\n",
       "      <td>10048.0</td>\n",
       "      <td>3385.0</td>\n",
       "      <td>4416.0</td>\n",
       "      <td>183081.0</td>\n",
       "      <td>200930.0</td>\n",
       "      <td>0.911168</td>\n",
       "    </tr>\n",
       "    <tr>\n",
       "      <th>3.0</th>\n",
       "      <td>861.0</td>\n",
       "      <td>316.0</td>\n",
       "      <td>1141.0</td>\n",
       "      <td>46148.0</td>\n",
       "      <td>48466.0</td>\n",
       "      <td>0.952173</td>\n",
       "    </tr>\n",
       "    <tr>\n",
       "      <th>4.0</th>\n",
       "      <td>1651.0</td>\n",
       "      <td>231.0</td>\n",
       "      <td>506.0</td>\n",
       "      <td>37622.0</td>\n",
       "      <td>40010.0</td>\n",
       "      <td>0.940315</td>\n",
       "    </tr>\n",
       "    <tr>\n",
       "      <th>6.0</th>\n",
       "      <td>0.0</td>\n",
       "      <td>0.0</td>\n",
       "      <td>0.0</td>\n",
       "      <td>0.0</td>\n",
       "      <td>0.0</td>\n",
       "      <td>NaN</td>\n",
       "    </tr>\n",
       "    <tr>\n",
       "      <th>8.0</th>\n",
       "      <td>0.0</td>\n",
       "      <td>21.0</td>\n",
       "      <td>3.0</td>\n",
       "      <td>11.0</td>\n",
       "      <td>35.0</td>\n",
       "      <td>0.314286</td>\n",
       "    </tr>\n",
       "  </tbody>\n",
       "</table>\n",
       "</div>"
      ],
      "text/plain": [
       "                   Total.Fatal.Injuries  Total.Serious.Injuries  \\\n",
       "Number.of.Engines                                                 \n",
       "0.0                               402.0                   443.0   \n",
       "1.0                             21627.0                 13818.0   \n",
       "2.0                             10048.0                  3385.0   \n",
       "3.0                               861.0                   316.0   \n",
       "4.0                              1651.0                   231.0   \n",
       "6.0                                 0.0                     0.0   \n",
       "8.0                                 0.0                    21.0   \n",
       "\n",
       "                   Total.Minor.Injuries  Total.Uninjured  Total Passengers  \\\n",
       "Number.of.Engines                                                            \n",
       "0.0                               476.0           3018.0            4339.0   \n",
       "1.0                             17592.0          71816.0          124853.0   \n",
       "2.0                              4416.0         183081.0          200930.0   \n",
       "3.0                              1141.0          46148.0           48466.0   \n",
       "4.0                               506.0          37622.0           40010.0   \n",
       "6.0                                 0.0              0.0               0.0   \n",
       "8.0                                 3.0             11.0              35.0   \n",
       "\n",
       "                   Ratio Uninjured  \n",
       "Number.of.Engines                   \n",
       "0.0                       0.695552  \n",
       "1.0                       0.575204  \n",
       "2.0                       0.911168  \n",
       "3.0                       0.952173  \n",
       "4.0                       0.940315  \n",
       "6.0                            NaN  \n",
       "8.0                       0.314286  "
      ]
     },
     "execution_count": 18,
     "metadata": {},
     "output_type": "execute_result"
    }
   ],
   "source": [
    "engine_count['Ratio Uninjured'] = engine_count['Total.Uninjured'] / engine_count['Total Passengers']\n",
    "engine_count"
   ]
  },
  {
   "cell_type": "code",
   "execution_count": 19,
   "metadata": {},
   "outputs": [],
   "source": [
    "engine_count['Ratio Uninjured'] = engine_count['Ratio Uninjured']*100 "
   ]
  },
  {
   "cell_type": "code",
   "execution_count": 20,
   "metadata": {
    "scrolled": true
   },
   "outputs": [
    {
     "name": "stderr",
     "output_type": "stream",
     "text": [
      "<ipython-input-20-c8a47c756f99>:5: UserWarning: FixedFormatter should only be used together with FixedLocator\n",
      "  ax.set_yticklabels(y_value);\n"
     ]
    },
    {
     "data": {
      "image/png": "[encoded data removed]",
      "text/plain": [
       "<Figure size 864x576 with 1 Axes>"
      ]
     },
     "metadata": {
      "needs_background": "light"
     },
     "output_type": "display_data"
    }
   ],
   "source": [
    "fig, ax = plt.subplots(figsize=(12,8))\n",
    "\n",
    "sns.barplot(x=engine_count.index, y=engine_count['Ratio Uninjured'])\n",
    "y_value=['{:,.2f}'.format(x) + '%' for x in ax.get_yticks()]\n",
    "ax.set_yticklabels(y_value);"
   ]
  },
  {
   "cell_type": "markdown",
   "metadata": {},
   "source": [
    "*94-95% of passengers in accidents of planes with 3 and 4 engines were uninjured."
   ]
  },
  {
   "cell_type": "markdown",
   "metadata": {},
   "source": [
    "# 3C: ENGINE TYPE - Ratio of Uninjured to All Passengers \n"
   ]
  },
  {
   "cell_type": "markdown",
   "metadata": {},
   "source": [
    "Performed by: Kendall"
   ]
  },
  {
   "cell_type": "code",
   "execution_count": 21,
   "metadata": {
    "scrolled": true
   },
   "outputs": [
    {
     "data": {
      "text/html": [
       "<div>\n",
       "<style scoped>\n",
       "    .dataframe tbody tr th:only-of-type {\n",
       "        vertical-align: middle;\n",
       "    }\n",
       "\n",
       "    .dataframe tbody tr th {\n",
       "        vertical-align: top;\n",
       "    }\n",
       "\n",
       "    .dataframe thead th {\n",
       "        text-align: right;\n",
       "    }\n",
       "</style>\n",
       "<table border=\"1\" class=\"dataframe\">\n",
       "  <thead>\n",
       "    <tr style=\"text-align: right;\">\n",
       "      <th></th>\n",
       "      <th>Number.of.Engines</th>\n",
       "      <th>Total.Fatal.Injuries</th>\n",
       "      <th>Total.Serious.Injuries</th>\n",
       "      <th>Total.Minor.Injuries</th>\n",
       "      <th>Total.Uninjured</th>\n",
       "    </tr>\n",
       "    <tr>\n",
       "      <th>Engine.Type</th>\n",
       "      <th></th>\n",
       "      <th></th>\n",
       "      <th></th>\n",
       "      <th></th>\n",
       "      <th></th>\n",
       "    </tr>\n",
       "  </thead>\n",
       "  <tbody>\n",
       "    <tr>\n",
       "      <th>Electric</th>\n",
       "      <td>24.0</td>\n",
       "      <td>2.0</td>\n",
       "      <td>1.0</td>\n",
       "      <td>0.0</td>\n",
       "      <td>7.0</td>\n",
       "    </tr>\n",
       "    <tr>\n",
       "      <th>Geared Turbofan</th>\n",
       "      <td>22.0</td>\n",
       "      <td>0.0</td>\n",
       "      <td>0.0</td>\n",
       "      <td>0.0</td>\n",
       "      <td>121.0</td>\n",
       "    </tr>\n",
       "    <tr>\n",
       "      <th>Hybrid Rocket</th>\n",
       "      <td>1.0</td>\n",
       "      <td>1.0</td>\n",
       "      <td>0.0</td>\n",
       "      <td>1.0</td>\n",
       "      <td>0.0</td>\n",
       "    </tr>\n",
       "    <tr>\n",
       "      <th>LR</th>\n",
       "      <td>16.0</td>\n",
       "      <td>0.0</td>\n",
       "      <td>21.0</td>\n",
       "      <td>3.0</td>\n",
       "      <td>11.0</td>\n",
       "    </tr>\n",
       "    <tr>\n",
       "      <th>None</th>\n",
       "      <td>11.0</td>\n",
       "      <td>1.0</td>\n",
       "      <td>12.0</td>\n",
       "      <td>8.0</td>\n",
       "      <td>92.0</td>\n",
       "    </tr>\n",
       "    <tr>\n",
       "      <th>Reciprocating</th>\n",
       "      <td>74452.0</td>\n",
       "      <td>23126.0</td>\n",
       "      <td>13366.0</td>\n",
       "      <td>17157.0</td>\n",
       "      <td>72943.0</td>\n",
       "    </tr>\n",
       "    <tr>\n",
       "      <th>Turbo Fan</th>\n",
       "      <td>5344.0</td>\n",
       "      <td>4419.0</td>\n",
       "      <td>1812.0</td>\n",
       "      <td>3279.0</td>\n",
       "      <td>194409.0</td>\n",
       "    </tr>\n",
       "    <tr>\n",
       "      <th>Turbo Jet</th>\n",
       "      <td>1446.0</td>\n",
       "      <td>841.0</td>\n",
       "      <td>234.0</td>\n",
       "      <td>363.0</td>\n",
       "      <td>32504.0</td>\n",
       "    </tr>\n",
       "    <tr>\n",
       "      <th>Turbo Prop</th>\n",
       "      <td>5126.0</td>\n",
       "      <td>2448.0</td>\n",
       "      <td>671.0</td>\n",
       "      <td>885.0</td>\n",
       "      <td>14836.0</td>\n",
       "    </tr>\n",
       "    <tr>\n",
       "      <th>Turbo Shaft</th>\n",
       "      <td>4006.0</td>\n",
       "      <td>1666.0</td>\n",
       "      <td>1204.0</td>\n",
       "      <td>1530.0</td>\n",
       "      <td>4789.0</td>\n",
       "    </tr>\n",
       "    <tr>\n",
       "      <th>UNK</th>\n",
       "      <td>1.0</td>\n",
       "      <td>0.0</td>\n",
       "      <td>0.0</td>\n",
       "      <td>2.0</td>\n",
       "      <td>0.0</td>\n",
       "    </tr>\n",
       "    <tr>\n",
       "      <th>Unknown</th>\n",
       "      <td>131.0</td>\n",
       "      <td>3712.0</td>\n",
       "      <td>1124.0</td>\n",
       "      <td>1734.0</td>\n",
       "      <td>12665.0</td>\n",
       "    </tr>\n",
       "  </tbody>\n",
       "</table>\n",
       "</div>"
      ],
      "text/plain": [
       "                 Number.of.Engines  Total.Fatal.Injuries  \\\n",
       "Engine.Type                                                \n",
       "Electric                      24.0                   2.0   \n",
       "Geared Turbofan               22.0                   0.0   \n",
       "Hybrid Rocket                  1.0                   1.0   \n",
       "LR                            16.0                   0.0   \n",
       "None                          11.0                   1.0   \n",
       "Reciprocating              74452.0               23126.0   \n",
       "Turbo Fan                   5344.0                4419.0   \n",
       "Turbo Jet                   1446.0                 841.0   \n",
       "Turbo Prop                  5126.0                2448.0   \n",
       "Turbo Shaft                 4006.0                1666.0   \n",
       "UNK                            1.0                   0.0   \n",
       "Unknown                      131.0                3712.0   \n",
       "\n",
       "                 Total.Serious.Injuries  Total.Minor.Injuries  Total.Uninjured  \n",
       "Engine.Type                                                                     \n",
       "Electric                            1.0                   0.0              7.0  \n",
       "Geared Turbofan                     0.0                   0.0            121.0  \n",
       "Hybrid Rocket                       0.0                   1.0              0.0  \n",
       "LR                                 21.0                   3.0             11.0  \n",
       "None                               12.0                   8.0             92.0  \n",
       "Reciprocating                   13366.0               17157.0          72943.0  \n",
       "Turbo Fan                        1812.0                3279.0         194409.0  \n",
       "Turbo Jet                         234.0                 363.0          32504.0  \n",
       "Turbo Prop                        671.0                 885.0          14836.0  \n",
       "Turbo Shaft                      1204.0                1530.0           4789.0  \n",
       "UNK                                 0.0                   2.0              0.0  \n",
       "Unknown                          1124.0                1734.0          12665.0  "
      ]
     },
     "execution_count": 21,
     "metadata": {},
     "output_type": "execute_result"
    }
   ],
   "source": [
    "#sums of engine types and total injuries\n",
    "aviation.groupby('Engine.Type').sum()"
   ]
  },
  {
   "cell_type": "code",
   "execution_count": 22,
   "metadata": {
    "scrolled": true
   },
   "outputs": [
    {
     "data": {
      "text/html": [
       "<div>\n",
       "<style scoped>\n",
       "    .dataframe tbody tr th:only-of-type {\n",
       "        vertical-align: middle;\n",
       "    }\n",
       "\n",
       "    .dataframe tbody tr th {\n",
       "        vertical-align: top;\n",
       "    }\n",
       "\n",
       "    .dataframe thead th {\n",
       "        text-align: right;\n",
       "    }\n",
       "</style>\n",
       "<table border=\"1\" class=\"dataframe\">\n",
       "  <thead>\n",
       "    <tr style=\"text-align: right;\">\n",
       "      <th></th>\n",
       "      <th>Number.of.Engines</th>\n",
       "      <th>Total.Fatal.Injuries</th>\n",
       "      <th>Total.Serious.Injuries</th>\n",
       "      <th>Total.Minor.Injuries</th>\n",
       "      <th>Total.Uninjured</th>\n",
       "    </tr>\n",
       "    <tr>\n",
       "      <th>Engine.Type</th>\n",
       "      <th></th>\n",
       "      <th></th>\n",
       "      <th></th>\n",
       "      <th></th>\n",
       "      <th></th>\n",
       "    </tr>\n",
       "  </thead>\n",
       "  <tbody>\n",
       "    <tr>\n",
       "      <th>Electric</th>\n",
       "      <td>3.000000</td>\n",
       "      <td>0.200000</td>\n",
       "      <td>0.100000</td>\n",
       "      <td>0.000000</td>\n",
       "      <td>0.700000</td>\n",
       "    </tr>\n",
       "    <tr>\n",
       "      <th>Geared Turbofan</th>\n",
       "      <td>2.000000</td>\n",
       "      <td>0.000000</td>\n",
       "      <td>0.000000</td>\n",
       "      <td>0.000000</td>\n",
       "      <td>10.083333</td>\n",
       "    </tr>\n",
       "    <tr>\n",
       "      <th>Hybrid Rocket</th>\n",
       "      <td>1.000000</td>\n",
       "      <td>1.000000</td>\n",
       "      <td>0.000000</td>\n",
       "      <td>1.000000</td>\n",
       "      <td>0.000000</td>\n",
       "    </tr>\n",
       "    <tr>\n",
       "      <th>LR</th>\n",
       "      <td>8.000000</td>\n",
       "      <td>0.000000</td>\n",
       "      <td>10.500000</td>\n",
       "      <td>1.500000</td>\n",
       "      <td>5.500000</td>\n",
       "    </tr>\n",
       "    <tr>\n",
       "      <th>None</th>\n",
       "      <td>0.647059</td>\n",
       "      <td>0.047619</td>\n",
       "      <td>0.571429</td>\n",
       "      <td>0.380952</td>\n",
       "      <td>4.380952</td>\n",
       "    </tr>\n",
       "    <tr>\n",
       "      <th>Reciprocating</th>\n",
       "      <td>1.088798</td>\n",
       "      <td>0.383732</td>\n",
       "      <td>0.224563</td>\n",
       "      <td>0.285213</td>\n",
       "      <td>1.128520</td>\n",
       "    </tr>\n",
       "    <tr>\n",
       "      <th>Turbo Fan</th>\n",
       "      <td>2.337708</td>\n",
       "      <td>2.294393</td>\n",
       "      <td>0.908726</td>\n",
       "      <td>1.675524</td>\n",
       "      <td>83.688765</td>\n",
       "    </tr>\n",
       "    <tr>\n",
       "      <th>Turbo Jet</th>\n",
       "      <td>2.139053</td>\n",
       "      <td>1.460069</td>\n",
       "      <td>0.406957</td>\n",
       "      <td>0.640212</td>\n",
       "      <td>50.083205</td>\n",
       "    </tr>\n",
       "    <tr>\n",
       "      <th>Turbo Prop</th>\n",
       "      <td>1.572875</td>\n",
       "      <td>0.869936</td>\n",
       "      <td>0.248151</td>\n",
       "      <td>0.323111</td>\n",
       "      <td>4.851537</td>\n",
       "    </tr>\n",
       "    <tr>\n",
       "      <th>Turbo Shaft</th>\n",
       "      <td>1.142939</td>\n",
       "      <td>0.552570</td>\n",
       "      <td>0.399734</td>\n",
       "      <td>0.500327</td>\n",
       "      <td>1.451652</td>\n",
       "    </tr>\n",
       "    <tr>\n",
       "      <th>UNK</th>\n",
       "      <td>1.000000</td>\n",
       "      <td>0.000000</td>\n",
       "      <td>0.000000</td>\n",
       "      <td>2.000000</td>\n",
       "      <td>0.000000</td>\n",
       "    </tr>\n",
       "    <tr>\n",
       "      <th>Unknown</th>\n",
       "      <td>0.173280</td>\n",
       "      <td>1.987152</td>\n",
       "      <td>0.610206</td>\n",
       "      <td>0.939328</td>\n",
       "      <td>6.686906</td>\n",
       "    </tr>\n",
       "  </tbody>\n",
       "</table>\n",
       "</div>"
      ],
      "text/plain": [
       "                 Number.of.Engines  Total.Fatal.Injuries  \\\n",
       "Engine.Type                                                \n",
       "Electric                  3.000000              0.200000   \n",
       "Geared Turbofan           2.000000              0.000000   \n",
       "Hybrid Rocket             1.000000              1.000000   \n",
       "LR                        8.000000              0.000000   \n",
       "None                      0.647059              0.047619   \n",
       "Reciprocating             1.088798              0.383732   \n",
       "Turbo Fan                 2.337708              2.294393   \n",
       "Turbo Jet                 2.139053              1.460069   \n",
       "Turbo Prop                1.572875              0.869936   \n",
       "Turbo Shaft               1.142939              0.552570   \n",
       "UNK                       1.000000              0.000000   \n",
       "Unknown                   0.173280              1.987152   \n",
       "\n",
       "                 Total.Serious.Injuries  Total.Minor.Injuries  Total.Uninjured  \n",
       "Engine.Type                                                                     \n",
       "Electric                       0.100000              0.000000         0.700000  \n",
       "Geared Turbofan                0.000000              0.000000        10.083333  \n",
       "Hybrid Rocket                  0.000000              1.000000         0.000000  \n",
       "LR                            10.500000              1.500000         5.500000  \n",
       "None                           0.571429              0.380952         4.380952  \n",
       "Reciprocating                  0.224563              0.285213         1.128520  \n",
       "Turbo Fan                      0.908726              1.675524        83.688765  \n",
       "Turbo Jet                      0.406957              0.640212        50.083205  \n",
       "Turbo Prop                     0.248151              0.323111         4.851537  \n",
       "Turbo Shaft                    0.399734              0.500327         1.451652  \n",
       "UNK                            0.000000              2.000000         0.000000  \n",
       "Unknown                        0.610206              0.939328         6.686906  "
      ]
     },
     "execution_count": 22,
     "metadata": {},
     "output_type": "execute_result"
    }
   ],
   "source": [
    "#means of engine type and number of injuries\n",
    "aviation.groupby('Engine.Type').mean()"
   ]
  },
  {
   "cell_type": "code",
   "execution_count": 23,
   "metadata": {},
   "outputs": [],
   "source": [
    "engine_types = aviation.groupby('Engine.Type').sum()"
   ]
  },
  {
   "cell_type": "code",
   "execution_count": 24,
   "metadata": {},
   "outputs": [],
   "source": [
    "#creating a total passengers column and then a ratio of total uninjured to total passengers\n",
    "engine_types['Total Passengers'] = engine_types['Total.Fatal.Injuries'] + engine_types['Total.Serious.Injuries'] + engine_types['Total.Minor.Injuries'] + engine_types['Total.Uninjured']\n",
    "engine_types['Ratio Uninjured'] = engine_types['Total.Uninjured'] / engine_types['Total Passengers']"
   ]
  },
  {
   "cell_type": "code",
   "execution_count": 25,
   "metadata": {},
   "outputs": [
    {
     "data": {
      "text/html": [
       "<div>\n",
       "<style scoped>\n",
       "    .dataframe tbody tr th:only-of-type {\n",
       "        vertical-align: middle;\n",
       "    }\n",
       "\n",
       "    .dataframe tbody tr th {\n",
       "        vertical-align: top;\n",
       "    }\n",
       "\n",
       "    .dataframe thead th {\n",
       "        text-align: right;\n",
       "    }\n",
       "</style>\n",
       "<table border=\"1\" class=\"dataframe\">\n",
       "  <thead>\n",
       "    <tr style=\"text-align: right;\">\n",
       "      <th></th>\n",
       "      <th>Number.of.Engines</th>\n",
       "      <th>Total.Fatal.Injuries</th>\n",
       "      <th>Total.Serious.Injuries</th>\n",
       "      <th>Total.Minor.Injuries</th>\n",
       "      <th>Total.Uninjured</th>\n",
       "      <th>Total Passengers</th>\n",
       "      <th>Ratio Uninjured</th>\n",
       "    </tr>\n",
       "    <tr>\n",
       "      <th>Engine.Type</th>\n",
       "      <th></th>\n",
       "      <th></th>\n",
       "      <th></th>\n",
       "      <th></th>\n",
       "      <th></th>\n",
       "      <th></th>\n",
       "      <th></th>\n",
       "    </tr>\n",
       "  </thead>\n",
       "  <tbody>\n",
       "    <tr>\n",
       "      <th>Electric</th>\n",
       "      <td>24.0</td>\n",
       "      <td>2.0</td>\n",
       "      <td>1.0</td>\n",
       "      <td>0.0</td>\n",
       "      <td>7.0</td>\n",
       "      <td>10.0</td>\n",
       "      <td>0.700000</td>\n",
       "    </tr>\n",
       "    <tr>\n",
       "      <th>Geared Turbofan</th>\n",
       "      <td>22.0</td>\n",
       "      <td>0.0</td>\n",
       "      <td>0.0</td>\n",
       "      <td>0.0</td>\n",
       "      <td>121.0</td>\n",
       "      <td>121.0</td>\n",
       "      <td>1.000000</td>\n",
       "    </tr>\n",
       "    <tr>\n",
       "      <th>Hybrid Rocket</th>\n",
       "      <td>1.0</td>\n",
       "      <td>1.0</td>\n",
       "      <td>0.0</td>\n",
       "      <td>1.0</td>\n",
       "      <td>0.0</td>\n",
       "      <td>2.0</td>\n",
       "      <td>0.000000</td>\n",
       "    </tr>\n",
       "    <tr>\n",
       "      <th>LR</th>\n",
       "      <td>16.0</td>\n",
       "      <td>0.0</td>\n",
       "      <td>21.0</td>\n",
       "      <td>3.0</td>\n",
       "      <td>11.0</td>\n",
       "      <td>35.0</td>\n",
       "      <td>0.314286</td>\n",
       "    </tr>\n",
       "    <tr>\n",
       "      <th>None</th>\n",
       "      <td>11.0</td>\n",
       "      <td>1.0</td>\n",
       "      <td>12.0</td>\n",
       "      <td>8.0</td>\n",
       "      <td>92.0</td>\n",
       "      <td>113.0</td>\n",
       "      <td>0.814159</td>\n",
       "    </tr>\n",
       "    <tr>\n",
       "      <th>Reciprocating</th>\n",
       "      <td>74452.0</td>\n",
       "      <td>23126.0</td>\n",
       "      <td>13366.0</td>\n",
       "      <td>17157.0</td>\n",
       "      <td>72943.0</td>\n",
       "      <td>126592.0</td>\n",
       "      <td>0.576205</td>\n",
       "    </tr>\n",
       "    <tr>\n",
       "      <th>Turbo Fan</th>\n",
       "      <td>5344.0</td>\n",
       "      <td>4419.0</td>\n",
       "      <td>1812.0</td>\n",
       "      <td>3279.0</td>\n",
       "      <td>194409.0</td>\n",
       "      <td>203919.0</td>\n",
       "      <td>0.953364</td>\n",
       "    </tr>\n",
       "    <tr>\n",
       "      <th>Turbo Jet</th>\n",
       "      <td>1446.0</td>\n",
       "      <td>841.0</td>\n",
       "      <td>234.0</td>\n",
       "      <td>363.0</td>\n",
       "      <td>32504.0</td>\n",
       "      <td>33942.0</td>\n",
       "      <td>0.957634</td>\n",
       "    </tr>\n",
       "    <tr>\n",
       "      <th>Turbo Prop</th>\n",
       "      <td>5126.0</td>\n",
       "      <td>2448.0</td>\n",
       "      <td>671.0</td>\n",
       "      <td>885.0</td>\n",
       "      <td>14836.0</td>\n",
       "      <td>18840.0</td>\n",
       "      <td>0.787473</td>\n",
       "    </tr>\n",
       "    <tr>\n",
       "      <th>Turbo Shaft</th>\n",
       "      <td>4006.0</td>\n",
       "      <td>1666.0</td>\n",
       "      <td>1204.0</td>\n",
       "      <td>1530.0</td>\n",
       "      <td>4789.0</td>\n",
       "      <td>9189.0</td>\n",
       "      <td>0.521167</td>\n",
       "    </tr>\n",
       "    <tr>\n",
       "      <th>UNK</th>\n",
       "      <td>1.0</td>\n",
       "      <td>0.0</td>\n",
       "      <td>0.0</td>\n",
       "      <td>2.0</td>\n",
       "      <td>0.0</td>\n",
       "      <td>2.0</td>\n",
       "      <td>0.000000</td>\n",
       "    </tr>\n",
       "    <tr>\n",
       "      <th>Unknown</th>\n",
       "      <td>131.0</td>\n",
       "      <td>3712.0</td>\n",
       "      <td>1124.0</td>\n",
       "      <td>1734.0</td>\n",
       "      <td>12665.0</td>\n",
       "      <td>19235.0</td>\n",
       "      <td>0.658435</td>\n",
       "    </tr>\n",
       "  </tbody>\n",
       "</table>\n",
       "</div>"
      ],
      "text/plain": [
       "                 Number.of.Engines  Total.Fatal.Injuries  \\\n",
       "Engine.Type                                                \n",
       "Electric                      24.0                   2.0   \n",
       "Geared Turbofan               22.0                   0.0   \n",
       "Hybrid Rocket                  1.0                   1.0   \n",
       "LR                            16.0                   0.0   \n",
       "None                          11.0                   1.0   \n",
       "Reciprocating              74452.0               23126.0   \n",
       "Turbo Fan                   5344.0                4419.0   \n",
       "Turbo Jet                   1446.0                 841.0   \n",
       "Turbo Prop                  5126.0                2448.0   \n",
       "Turbo Shaft                 4006.0                1666.0   \n",
       "UNK                            1.0                   0.0   \n",
       "Unknown                      131.0                3712.0   \n",
       "\n",
       "                 Total.Serious.Injuries  Total.Minor.Injuries  \\\n",
       "Engine.Type                                                     \n",
       "Electric                            1.0                   0.0   \n",
       "Geared Turbofan                     0.0                   0.0   \n",
       "Hybrid Rocket                       0.0                   1.0   \n",
       "LR                                 21.0                   3.0   \n",
       "None                               12.0                   8.0   \n",
       "Reciprocating                   13366.0               17157.0   \n",
       "Turbo Fan                        1812.0                3279.0   \n",
       "Turbo Jet                         234.0                 363.0   \n",
       "Turbo Prop                        671.0                 885.0   \n",
       "Turbo Shaft                      1204.0                1530.0   \n",
       "UNK                                 0.0                   2.0   \n",
       "Unknown                          1124.0                1734.0   \n",
       "\n",
       "                 Total.Uninjured  Total Passengers  Ratio Uninjured  \n",
       "Engine.Type                                                          \n",
       "Electric                     7.0              10.0         0.700000  \n",
       "Geared Turbofan            121.0             121.0         1.000000  \n",
       "Hybrid Rocket                0.0               2.0         0.000000  \n",
       "LR                          11.0              35.0         0.314286  \n",
       "None                        92.0             113.0         0.814159  \n",
       "Reciprocating            72943.0          126592.0         0.576205  \n",
       "Turbo Fan               194409.0          203919.0         0.953364  \n",
       "Turbo Jet                32504.0           33942.0         0.957634  \n",
       "Turbo Prop               14836.0           18840.0         0.787473  \n",
       "Turbo Shaft               4789.0            9189.0         0.521167  \n",
       "UNK                          0.0               2.0         0.000000  \n",
       "Unknown                  12665.0           19235.0         0.658435  "
      ]
     },
     "execution_count": 25,
     "metadata": {},
     "output_type": "execute_result"
    }
   ],
   "source": [
    "engine_types"
   ]
  },
  {
   "cell_type": "code",
   "execution_count": 26,
   "metadata": {},
   "outputs": [],
   "source": [
    "engine_types['Ratio Uninjured'] = engine_types['Ratio Uninjured']*100 "
   ]
  },
  {
   "cell_type": "code",
   "execution_count": 27,
   "metadata": {},
   "outputs": [],
   "source": [
    "#making the column into a percentage format\n",
    "#engine_types['Ratio Uninjured'] = engine_types['Ratio Uninjured']*100 \n",
    "#engine_types['Ratio Uninjured'] = engine_types['Ratio Uninjured'].map('{:.2%}'.format)"
   ]
  },
  {
   "cell_type": "code",
   "execution_count": 28,
   "metadata": {
    "scrolled": true
   },
   "outputs": [
    {
     "name": "stderr",
     "output_type": "stream",
     "text": [
      "<ipython-input-28-48da2f0f6469>:5: UserWarning: FixedFormatter should only be used together with FixedLocator\n",
      "  ax.set_yticklabels(y_value);\n"
     ]
    },
    {
     "data": {
      "image/png": "[encoded data removed]",
      "text/plain": [
       "<Figure size 1440x576 with 1 Axes>"
      ]
     },
     "metadata": {
      "needs_background": "light"
     },
     "output_type": "display_data"
    }
   ],
   "source": [
    "fig, ax = plt.subplots(figsize=(20,8))\n",
    "\n",
    "sns.barplot(x=engine_types.index, y=engine_types['Ratio Uninjured'])\n",
    "y_value=['{:,.2f}'.format(x) + '%' for x in ax.get_yticks()]\n",
    "ax.set_yticklabels(y_value);"
   ]
  },
  {
   "cell_type": "markdown",
   "metadata": {},
   "source": [
    "*Over 95% of passengers on Turbo Fan and Turbo Jet planes are uninjured. "
   ]
  },
  {
   "cell_type": "code",
   "execution_count": 29,
   "metadata": {},
   "outputs": [
    {
     "ename": "NameError",
     "evalue": "name 'make' is not defined",
     "output_type": "error",
     "traceback": [
      "\u001b[1;31m---------------------------------------------------------------------------\u001b[0m",
      "\u001b[1;31mNameError\u001b[0m                                 Traceback (most recent call last)",
      "\u001b[1;32m<ipython-input-29-fbe5ce048a31>\u001b[0m in \u001b[0;36m<module>\u001b[1;34m\u001b[0m\n\u001b[1;32m----> 1\u001b[1;33m \u001b[0mmake\u001b[0m\u001b[1;33m[\u001b[0m\u001b[1;34m'Total Passengers'\u001b[0m\u001b[1;33m]\u001b[0m \u001b[1;33m=\u001b[0m \u001b[0mmake\u001b[0m\u001b[1;33m[\u001b[0m\u001b[1;34m'Total.Fatal.Injuries'\u001b[0m\u001b[1;33m]\u001b[0m \u001b[1;33m+\u001b[0m \u001b[0mmake\u001b[0m\u001b[1;33m[\u001b[0m\u001b[1;34m'Total.Serious.Injuries'\u001b[0m\u001b[1;33m]\u001b[0m \u001b[1;33m+\u001b[0m \u001b[0mmake\u001b[0m\u001b[1;33m[\u001b[0m\u001b[1;34m'Total.Minor.Injuries'\u001b[0m\u001b[1;33m]\u001b[0m \u001b[1;33m+\u001b[0m \u001b[0mmake\u001b[0m\u001b[1;33m[\u001b[0m\u001b[1;34m'Total.Uninjured'\u001b[0m\u001b[1;33m]\u001b[0m\u001b[1;33m\u001b[0m\u001b[1;33m\u001b[0m\u001b[0m\n\u001b[0m",
      "\u001b[1;31mNameError\u001b[0m: name 'make' is not defined"
     ]
    }
   ],
   "source": [
    "make['Total Passengers'] = make['Total.Fatal.Injuries'] + make['Total.Serious.Injuries'] + make['Total.Minor.Injuries'] + make['Total.Uninjured']"
   ]
  },
  {
   "cell_type": "code",
   "execution_count": 30,
   "metadata": {},
   "outputs": [
    {
     "ename": "NameError",
     "evalue": "name 'make' is not defined",
     "output_type": "error",
     "traceback": [
      "\u001b[1;31m---------------------------------------------------------------------------\u001b[0m",
      "\u001b[1;31mNameError\u001b[0m                                 Traceback (most recent call last)",
      "\u001b[1;32m<ipython-input-30-97127c89847b>\u001b[0m in \u001b[0;36m<module>\u001b[1;34m\u001b[0m\n\u001b[1;32m----> 1\u001b[1;33m \u001b[0mmake\u001b[0m\u001b[1;33m\u001b[0m\u001b[1;33m\u001b[0m\u001b[0m\n\u001b[0m",
      "\u001b[1;31mNameError\u001b[0m: name 'make' is not defined"
     ]
    }
   ],
   "source": [
    "make"
   ]
  },
  {
   "cell_type": "markdown",
   "metadata": {},
   "source": [
    "# 4. AIRCRAFT DAMAGE - Exploring Trends"
   ]
  },
  {
   "cell_type": "markdown",
   "metadata": {},
   "source": [
    "Performed by: Kendall"
   ]
  },
  {
   "cell_type": "code",
   "execution_count": 31,
   "metadata": {
    "scrolled": true
   },
   "outputs": [
    {
     "data": {
      "image/png": "[encoded data removed]",
      "text/plain": [
       "<Figure size 1440x576 with 1 Axes>"
      ]
     },
     "metadata": {
      "needs_background": "light"
     },
     "output_type": "display_data"
    }
   ],
   "source": [
    "fig, ax = plt.subplots(figsize=(20,8))\n",
    "\n",
    "sns.barplot(x=aviation['Aircraft.damage'], y=aviation['Number.of.Engines'])\n",
    "\n",
    "ax.set_title('Number of Engines and Aircraft Damage')\n",
    "ax.set_xlabel('Aircraft Damage')\n",
    "ax.set_ylabel('Number of Engines');"
   ]
  },
  {
   "cell_type": "code",
   "execution_count": null,
   "metadata": {
    "scrolled": true
   },
   "outputs": [],
   "source": [
    "aviation.groupby('Aircraft.damage').sum()"
   ]
  },
  {
   "cell_type": "code",
   "execution_count": null,
   "metadata": {
    "scrolled": true
   },
   "outputs": [],
   "source": [
    "aviation.groupby('Aircraft.damage').mean()"
   ]
  },
  {
   "cell_type": "code",
   "execution_count": null,
   "metadata": {
    "scrolled": false
   },
   "outputs": [],
   "source": [
    "fig, ax = plt.subplots(figsize=(20,8))\n",
    "\n",
    "sns.barplot(x=aviation['Aircraft.damage'], y=aviation['Total.Fatal.Injuries'])\n",
    "\n",
    "ax.set_title('Aircraft Damage and Total Fatal Injuries')\n",
    "ax.set_xlabel('Aircraft Damage')\n",
    "ax.set_ylabel('Total Fatal Injuries');"
   ]
  },
  {
   "cell_type": "code",
   "execution_count": null,
   "metadata": {
    "scrolled": true
   },
   "outputs": [],
   "source": [
    "aviation.groupby(['Aircraft.damage','Number.of.Engines']).mean()"
   ]
  },
  {
   "cell_type": "code",
   "execution_count": null,
   "metadata": {},
   "outputs": [],
   "source": [
    "aviation.groupby(['Number.of.Engines','Engine.Type']).mean()"
   ]
  },
  {
   "cell_type": "code",
   "execution_count": null,
   "metadata": {},
   "outputs": [],
   "source": [
    "pd.set_option('display.max_columns', None)"
   ]
  },
  {
   "cell_type": "code",
   "execution_count": null,
   "metadata": {
    "scrolled": true
   },
   "outputs": [],
   "source": [
    "aviation.groupby(['Number.of.Engines','Purpose.of.flight']).mean()"
   ]
  },
  {
   "cell_type": "code",
   "execution_count": null,
   "metadata": {},
   "outputs": [],
   "source": [
    "aviation.groupby(['Year']).mean()"
   ]
  },
  {
   "cell_type": "code",
   "execution_count": null,
   "metadata": {
    "scrolled": true
   },
   "outputs": [],
   "source": [
    "aviation['Aircraft.damage'].value_counts()"
   ]
  },
  {
   "cell_type": "code",
   "execution_count": null,
   "metadata": {},
   "outputs": [],
   "source": [
    "aviation['Aircraft.damage'].value_counts()"
   ]
  },
  {
   "cell_type": "markdown",
   "metadata": {},
   "source": [
    "# 5A. Creating an \"Aviation Severe\" DataFrame "
   ]
  },
  {
   "cell_type": "markdown",
   "metadata": {},
   "source": [
    "Performed by: Kendall and Andrew"
   ]
  },
  {
   "cell_type": "markdown",
   "metadata": {},
   "source": [
    "This includes accidents with at least one fatality, at least one serious injury, or a completely destroyed aircraft."
   ]
  },
  {
   "cell_type": "code",
   "execution_count": null,
   "metadata": {},
   "outputs": [],
   "source": [
    "aviation_severe = aviation.loc[\n",
    "    (aviation['Total.Fatal.Injuries'] >= 1) | \n",
    "    (aviation['Total.Serious.Injuries'] >= 1) |\n",
    "    (aviation['Aircraft.damage'] == 'Destroyed')\n",
    "]"
   ]
  },
  {
   "cell_type": "code",
   "execution_count": null,
   "metadata": {},
   "outputs": [],
   "source": [
    "aviation_severe.head(50)"
   ]
  },
  {
   "cell_type": "code",
   "execution_count": null,
   "metadata": {
    "scrolled": false
   },
   "outputs": [],
   "source": [
    "aviation_severe.describe()"
   ]
  },
  {
   "cell_type": "code",
   "execution_count": null,
   "metadata": {
    "scrolled": true
   },
   "outputs": [],
   "source": [
    "aviation_severe.shape"
   ]
  },
  {
   "cell_type": "code",
   "execution_count": null,
   "metadata": {},
   "outputs": [],
   "source": [
    "aviation.info()"
   ]
  },
  {
   "cell_type": "code",
   "execution_count": null,
   "metadata": {},
   "outputs": [],
   "source": [
    "aviation_severe.groupby(['Total.Fatal.Injuries']).sum()"
   ]
  },
  {
   "cell_type": "code",
   "execution_count": null,
   "metadata": {},
   "outputs": [],
   "source": [
    "aviation_severe.groupby(['Total.Fatal.Injuries']).mean()"
   ]
  },
  {
   "cell_type": "code",
   "execution_count": null,
   "metadata": {
    "scrolled": false
   },
   "outputs": [],
   "source": [
    "aviation_severe['Year'] = aviation_severe['Year'].astype(int)"
   ]
  },
  {
   "cell_type": "markdown",
   "metadata": {},
   "source": [
    "# 5B. Creating a \"Recent Aviation Severe\" (Since 2000) DataFrame "
   ]
  },
  {
   "cell_type": "markdown",
   "metadata": {},
   "source": [
    "Performed by: Kendall and Andrew"
   ]
  },
  {
   "cell_type": "markdown",
   "metadata": {},
   "source": [
    "This includes accidents *since 2000* with at least one fatality, at least one serious injury, or a completely destroyed aircraft."
   ]
  },
  {
   "cell_type": "code",
   "execution_count": null,
   "metadata": {},
   "outputs": [],
   "source": [
    "recent_aviation_severe = aviation_severe.loc[aviation['Year'] >= 2000]"
   ]
  },
  {
   "cell_type": "code",
   "execution_count": null,
   "metadata": {},
   "outputs": [],
   "source": [
    "recent_aviation_severe['Engine.Type'].value_counts()"
   ]
  },
  {
   "cell_type": "code",
   "execution_count": null,
   "metadata": {},
   "outputs": [],
   "source": [
    "recent_aviation_severe['Number.of.Engines'].value_counts()"
   ]
  },
  {
   "cell_type": "code",
   "execution_count": null,
   "metadata": {},
   "outputs": [],
   "source": [
    "recent_aviation_severe['Purpose.of.flight'].value_counts()"
   ]
  },
  {
   "cell_type": "code",
   "execution_count": null,
   "metadata": {
    "scrolled": false
   },
   "outputs": [],
   "source": [
    "recent_aviation_severe['Make'].value_counts()"
   ]
  },
  {
   "cell_type": "code",
   "execution_count": null,
   "metadata": {},
   "outputs": [],
   "source": [
    "recent_aviation_severe['Purpose.of.flight'].value_counts()"
   ]
  },
  {
   "cell_type": "markdown",
   "metadata": {},
   "source": [
    "# 6A. Aviation Severe - ENGINE COUNT - Ratio of Uninjured to All Passengers"
   ]
  },
  {
   "cell_type": "markdown",
   "metadata": {},
   "source": [
    "Performed by Kendall"
   ]
  },
  {
   "cell_type": "code",
   "execution_count": null,
   "metadata": {},
   "outputs": [],
   "source": [
    "aviation_severe_engine_counts = aviation_severe.groupby(['Number.of.Engines']).mean()"
   ]
  },
  {
   "cell_type": "code",
   "execution_count": null,
   "metadata": {},
   "outputs": [],
   "source": [
    "aviation_severe_engine_counts['Total Passengers'] = aviation_severe_engine_counts['Total.Fatal.Injuries'] + aviation_severe_engine_counts['Total.Serious.Injuries'] + aviation_severe_engine_counts['Total.Minor.Injuries'] + aviation_severe_engine_counts['Total.Uninjured']"
   ]
  },
  {
   "cell_type": "code",
   "execution_count": null,
   "metadata": {
    "scrolled": true
   },
   "outputs": [],
   "source": [
    "aviation_severe_engine_counts"
   ]
  },
  {
   "cell_type": "code",
   "execution_count": null,
   "metadata": {},
   "outputs": [],
   "source": [
    "aviation_severe_engine_counts['Ratio of Uninjured'] = aviation_severe_engine_counts['Total.Uninjured'] / aviation_severe_engine_counts['Total Passengers'] "
   ]
  },
  {
   "cell_type": "code",
   "execution_count": null,
   "metadata": {},
   "outputs": [],
   "source": [
    "aviation_severe_engine_counts"
   ]
  },
  {
   "cell_type": "code",
   "execution_count": null,
   "metadata": {},
   "outputs": [],
   "source": [
    "fig, ax = plt.subplots(figsize=(12,8))\n",
    "\n",
    "sns.barplot(x=aviation_severe_engine_counts.index, y=aviation_severe_engine_counts['Ratio of Uninjured'])\n",
    "y_value=['{:,.2f}'.format(x) + '%' for x in ax.get_yticks()]\n",
    "ax.set_yticklabels(y_value);"
   ]
  },
  {
   "cell_type": "markdown",
   "metadata": {},
   "source": [
    "# 6B. Aviation Severe - ENGINE TYPE - Ratio of Uninjured to All Passengers"
   ]
  },
  {
   "cell_type": "code",
   "execution_count": null,
   "metadata": {},
   "outputs": [],
   "source": [
    "aviation_severe_engine_types = recent_aviation_severe.groupby(['Engine.Type']).mean()"
   ]
  },
  {
   "cell_type": "code",
   "execution_count": null,
   "metadata": {},
   "outputs": [],
   "source": [
    "aviation_severe_engine_types['Total Passengers'] = aviation_severe_engine_types['Total.Fatal.Injuries'] + aviation_severe_engine_types['Total.Serious.Injuries'] + aviation_severe_engine_types['Total.Minor.Injuries'] + aviation_severe_engine_types['Total.Uninjured']"
   ]
  },
  {
   "cell_type": "code",
   "execution_count": null,
   "metadata": {},
   "outputs": [],
   "source": [
    "aviation_severe_engine_types"
   ]
  },
  {
   "cell_type": "code",
   "execution_count": null,
   "metadata": {},
   "outputs": [],
   "source": [
    "aviation_severe_engine_types['Ratio of Uninjured'] = aviation_severe_engine_types['Total.Uninjured'] / aviation_severe_engine_types['Total Passengers'] "
   ]
  },
  {
   "cell_type": "code",
   "execution_count": null,
   "metadata": {},
   "outputs": [],
   "source": [
    "aviation_severe_engine_types"
   ]
  },
  {
   "cell_type": "code",
   "execution_count": null,
   "metadata": {},
   "outputs": [],
   "source": [
    "fig, ax = plt.subplots(figsize=(12,8))\n",
    "\n",
    "sns.barplot(x=aviation_severe_engine_types.index, y=aviation_severe_engine_types['Ratio of Uninjured'])\n",
    "y_value=['{:,.2f}'.format(x) + '%' for x in ax.get_yticks()]\n",
    "ax.set_yticklabels(y_value);"
   ]
  },
  {
   "cell_type": "markdown",
   "metadata": {},
   "source": [
    "# 6C. Exploring Engine Counts for Turbo Fan and Turbo Jet Planes"
   ]
  },
  {
   "cell_type": "markdown",
   "metadata": {},
   "source": [
    "Performed by: Kendall"
   ]
  },
  {
   "cell_type": "code",
   "execution_count": null,
   "metadata": {},
   "outputs": [],
   "source": [
    "turbo_jets = aviation.loc[aviation['Engine.Type'] == 'Turbo Jet']"
   ]
  },
  {
   "cell_type": "code",
   "execution_count": null,
   "metadata": {
    "scrolled": false
   },
   "outputs": [],
   "source": [
    "turbo_jets['Number.of.Engines'].value_counts()"
   ]
  },
  {
   "cell_type": "code",
   "execution_count": null,
   "metadata": {},
   "outputs": [],
   "source": [
    "turbo_fan = aviation.loc[aviation['Engine.Type'] == 'Turbo Fan']"
   ]
  },
  {
   "cell_type": "code",
   "execution_count": null,
   "metadata": {},
   "outputs": [],
   "source": [
    "turbo_fan['Number.of.Engines'].value_counts()"
   ]
  },
  {
   "cell_type": "code",
   "execution_count": null,
   "metadata": {
    "scrolled": false
   },
   "outputs": [],
   "source": [
    "turbo_jets['Purpose.of.flight'].value_counts()"
   ]
  },
  {
   "cell_type": "code",
   "execution_count": null,
   "metadata": {
    "scrolled": true
   },
   "outputs": [],
   "source": [
    "turbo_fan['Purpose.of.flight'].value_counts()"
   ]
  },
  {
   "cell_type": "markdown",
   "metadata": {},
   "source": [
    "# 6D. Creating Separate 1-2 Engines and Greater than 3 Engines DataFrames"
   ]
  },
  {
   "cell_type": "markdown",
   "metadata": {},
   "source": [
    "Performed by: Kendall and Andrew"
   ]
  },
  {
   "cell_type": "code",
   "execution_count": null,
   "metadata": {},
   "outputs": [],
   "source": [
    "one_and_two_engines = aviation.loc[(aviation['Number.of.Engines'] < 3) & (aviation['Number.of.Engines'] > 0)]"
   ]
  },
  {
   "cell_type": "code",
   "execution_count": null,
   "metadata": {},
   "outputs": [],
   "source": [
    "greater_than_three_engines = aviation.loc[aviation['Number.of.Engines'] >= 3]"
   ]
  },
  {
   "cell_type": "code",
   "execution_count": null,
   "metadata": {
    "scrolled": true
   },
   "outputs": [],
   "source": [
    "one_and_two_engines.shape"
   ]
  },
  {
   "cell_type": "code",
   "execution_count": null,
   "metadata": {
    "scrolled": false
   },
   "outputs": [],
   "source": [
    "greater_than_three_engines.shape"
   ]
  },
  {
   "cell_type": "code",
   "execution_count": null,
   "metadata": {},
   "outputs": [],
   "source": [
    "aviation['Make'].value_counts()[0:50]"
   ]
  },
  {
   "cell_type": "code",
   "execution_count": null,
   "metadata": {},
   "outputs": [],
   "source": [
    "greater_than_three_engines.groupby('Make').mean()"
   ]
  },
  {
   "cell_type": "code",
   "execution_count": null,
   "metadata": {},
   "outputs": [],
   "source": [
    "greater_than_three_engines['Make'].value_counts()"
   ]
  },
  {
   "cell_type": "code",
   "execution_count": null,
   "metadata": {
    "scrolled": false
   },
   "outputs": [],
   "source": [
    "greater_than_three_engines['Purpose.of.flight'].value_counts()"
   ]
  },
  {
   "cell_type": "code",
   "execution_count": null,
   "metadata": {
    "scrolled": true
   },
   "outputs": [],
   "source": [
    "greater_than_three_engines['Engine.Type'].value_counts()"
   ]
  },
  {
   "cell_type": "code",
   "execution_count": null,
   "metadata": {
    "scrolled": true
   },
   "outputs": [],
   "source": [
    "greater_than_three_engines['Make'].value_counts()"
   ]
  },
  {
   "cell_type": "code",
   "execution_count": null,
   "metadata": {},
   "outputs": [],
   "source": [
    "recent_aviation_severe['Make'].value_counts()[0:60]"
   ]
  },
  {
   "cell_type": "code",
   "execution_count": null,
   "metadata": {},
   "outputs": [],
   "source": [
    "recent_aviation = aviation.loc[aviation['Year'] >= 2000]"
   ]
  },
  {
   "cell_type": "code",
   "execution_count": null,
   "metadata": {},
   "outputs": [],
   "source": [
    "recent_aviation['Make'].value_counts()[0:60]"
   ]
  },
  {
   "cell_type": "code",
   "execution_count": null,
   "metadata": {
    "scrolled": true
   },
   "outputs": [],
   "source": [
    "recent_aviation.groupby('Make').sum()"
   ]
  },
  {
   "cell_type": "markdown",
   "metadata": {},
   "source": [
    "# 7A. MAKE - Creating a Top Makes DataFrame that Includes Makes with Value Counts over 500 in the Entire Dataset"
   ]
  },
  {
   "cell_type": "markdown",
   "metadata": {},
   "source": [
    "Performed by: Kendall and Andrew"
   ]
  },
  {
   "cell_type": "code",
   "execution_count": null,
   "metadata": {
    "scrolled": true
   },
   "outputs": [],
   "source": [
    "top_makes = make.loc[(make.index =='Cessna') | (make.index == 'Piper') | (make.index == 'Beech') | (make.index == 'Boeing') | (make.index == 'Bell') | (make.index == 'Piper') | (make.index == 'Robinson')| (make.index == 'Mooney')| (make.index == 'Air Tractor')| (make.index == 'Hughes')| (make.index == 'Schweizer')| (make.index == 'Bellanca')| (make.index == 'Maule')| (make.index == 'Airbus')| (make.index == 'Aeronca')| (make.index == 'Mcdonnell Douglas')| (make.index == 'Robinson Helicopter')| (make.index == 'Grumman')| (make.index == 'Cirrus Design Corp')| (make.index == 'Air Tractor Inc')| (make.index == 'Champion')]"
   ]
  },
  {
   "cell_type": "code",
   "execution_count": null,
   "metadata": {
    "scrolled": true
   },
   "outputs": [],
   "source": [
    "top_makes"
   ]
  },
  {
   "cell_type": "markdown",
   "metadata": {},
   "source": [
    "# 7B. MAKE - Ratio of Uninjured to All Passengers"
   ]
  },
  {
   "cell_type": "markdown",
   "metadata": {},
   "source": [
    "Performed by: Kendall "
   ]
  },
  {
   "cell_type": "code",
   "execution_count": null,
   "metadata": {
    "scrolled": false
   },
   "outputs": [],
   "source": [
    "top_makes['Ratio Uninjured'] = top_makes['Ratio Uninjured'] * 100"
   ]
  },
  {
   "cell_type": "code",
   "execution_count": null,
   "metadata": {},
   "outputs": [],
   "source": [
    "fig, ax = plt.subplots(figsize=(25,8))\n",
    "\n",
    "sns.barplot(x=top_makes.index, y=top_makes['Ratio Uninjured'])\n",
    "y_value=['{:,.2f}'.format(x) + '%' for x in ax.get_yticks()]\n",
    "ax.set_yticklabels(y_value);"
   ]
  },
  {
   "cell_type": "code",
   "execution_count": null,
   "metadata": {},
   "outputs": [],
   "source": [
    "top_makes"
   ]
  },
  {
   "cell_type": "code",
   "execution_count": null,
   "metadata": {
    "scrolled": false
   },
   "outputs": [],
   "source": [
    "make.loc[make['Number.of.Engines'] >= 3][0:60]"
   ]
  },
  {
   "cell_type": "markdown",
   "metadata": {},
   "source": [
    "# AH Additions"
   ]
  },
  {
   "cell_type": "markdown",
   "metadata": {},
   "source": [
    "How often is the pilot mentioned in the report status?"
   ]
  },
  {
   "cell_type": "code",
   "execution_count": 33,
   "metadata": {},
   "outputs": [
    {
     "data": {
      "text/plain": [
       "{'pilot': 13414}"
      ]
     },
     "execution_count": 33,
     "metadata": {},
     "output_type": "execute_result"
    }
   ],
   "source": [
    "pilot = {'pilot' : 0}\n",
    "\n",
    "for status in aviation['Report.Status']:\n",
    "    if 'pilot' in str(status):\n",
    "        pilot['pilot'] += 1\n",
    "        \n",
    "pilot"
   ]
  },
  {
   "cell_type": "markdown",
   "metadata": {},
   "source": [
    "Adding a Five_Year column to bin years into 5-year chunks:"
   ]
  },
  {
   "cell_type": "code",
   "execution_count": 36,
   "metadata": {},
   "outputs": [],
   "source": [
    "aviation['Five_Year'] = pd.cut(aviation['Year'].astype(int), \n",
    "                              bins = [1940,1982, 1987, 1992, 1997, 2002, 2007, 2012, 2017, 2022], \n",
    "                              labels=['1942-1981','1982-1986', '1987-1991', '1992-1996', '1997-2001', '2002-2006', '2007-2011', '2012-2016', '2017-2021'],\n",
    "                              right=False)"
   ]
  },
  {
   "cell_type": "markdown",
   "metadata": {},
   "source": [
    "Comparing injury and damage from the early '80's to the data from 2017-2021:"
   ]
  },
  {
   "cell_type": "code",
   "execution_count": 37,
   "metadata": {},
   "outputs": [],
   "source": [
    "eightytwo = aviation.loc[aviation['Five_Year'] == '1982-1986']"
   ]
  },
  {
   "cell_type": "code",
   "execution_count": 38,
   "metadata": {},
   "outputs": [
    {
     "name": "stdout",
     "output_type": "stream",
     "text": [
      "16351\n",
      "6608.0\n",
      "3270.0\n",
      "5089.0\n",
      "54590.0\n"
     ]
    }
   ],
   "source": [
    "print(eightytwo['Event.Id'].count())\n",
    "print(eightytwo['Total.Fatal.Injuries'].sum())\n",
    "print(eightytwo['Total.Serious.Injuries'].sum())\n",
    "print(eightytwo['Total.Minor.Injuries'].sum())\n",
    "print(eightytwo['Total.Uninjured'].sum())"
   ]
  },
  {
   "cell_type": "code",
   "execution_count": 39,
   "metadata": {},
   "outputs": [],
   "source": [
    "seventeen = aviation.loc[aviation['Five_Year'] == '2017-2021']"
   ]
  },
  {
   "cell_type": "code",
   "execution_count": 40,
   "metadata": {},
   "outputs": [
    {
     "name": "stdout",
     "output_type": "stream",
     "text": [
      "7880\n",
      "4003.0\n",
      "2245.0\n",
      "1463.0\n",
      "43452.0\n"
     ]
    }
   ],
   "source": [
    "print(seventeen['Event.Id'].count())\n",
    "print(seventeen['Total.Fatal.Injuries'].sum())\n",
    "print(seventeen['Total.Serious.Injuries'].sum())\n",
    "print(seventeen['Total.Minor.Injuries'].sum())\n",
    "print(seventeen['Total.Uninjured'].sum())"
   ]
  },
  {
   "cell_type": "code",
   "execution_count": 41,
   "metadata": {},
   "outputs": [],
   "source": [
    "categories = ['Total Fatal Injuries', 'Total Serious Injuries', 'Total Minor Injuries']\n",
    "values1 = [6608, 3270, 5089]\n",
    "values2 = [4003, 2245, 1463]"
   ]
  },
  {
   "cell_type": "code",
   "execution_count": 42,
   "metadata": {},
   "outputs": [
    {
     "data": {
      "image/png": "[encoded data removed]",
      "text/plain": [
       "<Figure size 1080x432 with 2 Axes>"
      ]
     },
     "metadata": {
      "needs_background": "light"
     },
     "output_type": "display_data"
    }
   ],
   "source": [
    "fig, ax = plt.subplots(1, 2, figsize = (15,6))\n",
    "\n",
    "ax[0].bar(categories, values1, color=\"purple\", label=\"1982-1986\")\n",
    "ax[0].set_ylim(0,7000)\n",
    "ax[0].set_xlabel('Injury Types')\n",
    "ax[0].set_ylabel('Injury Counts')\n",
    "ax[0].set_title(\"1982-1986 Injury Data\")\n",
    "\n",
    "ax[1].bar(categories, values2, color=\"green\", label=\"2017-2021\")\n",
    "ax[1].set_ylim(0,7000)\n",
    "ax[1].set_xlabel('Injury Types')\n",
    "ax[1].set_ylabel('Injury Counts')\n",
    "ax[1].set_title(\"2017-2021 Injury Data\");"
   ]
  },
  {
   "cell_type": "code",
   "execution_count": 43,
   "metadata": {},
   "outputs": [],
   "source": [
    "damage17 = seventeen['Aircraft.damage'].value_counts()"
   ]
  },
  {
   "cell_type": "code",
   "execution_count": 44,
   "metadata": {},
   "outputs": [],
   "source": [
    "damage82 = eightytwo['Aircraft.damage'].value_counts()"
   ]
  },
  {
   "cell_type": "code",
   "execution_count": 45,
   "metadata": {},
   "outputs": [
    {
     "data": {
      "image/png": "[encoded data removed]",
      "text/plain": [
       "<Figure size 1080x432 with 2 Axes>"
      ]
     },
     "metadata": {
      "needs_background": "light"
     },
     "output_type": "display_data"
    }
   ],
   "source": [
    "fig, ax = plt.subplots(1, 2, figsize = (15,6))\n",
    "\n",
    "ax[0].bar(damage82.keys(), damage82.values, color=\"purple\", label=\"1982-1986\")\n",
    "ax[0].set_ylim(0,12000)\n",
    "ax[0].set_xlabel('Damage Types')\n",
    "ax[0].set_ylabel('Instances')\n",
    "ax[0].set_title(\"1982-1986 Plane Damage\")\n",
    "\n",
    "ax[1].bar(damage17.keys(), damage17.values, color=\"green\", label=\"2017-2021\")\n",
    "ax[1].set_ylim(0,12000)\n",
    "ax[1].set_xlabel('Damange Types')\n",
    "ax[1].set_ylabel('Instances')\n",
    "ax[1].set_title(\"2017-2021 Plane Damage\");"
   ]
  },
  {
   "cell_type": "markdown",
   "metadata": {},
   "source": [
    "# Writing the Aviation Data Frame to a CSV"
   ]
  },
  {
   "cell_type": "code",
   "execution_count": 46,
   "metadata": {},
   "outputs": [],
   "source": [
    "aviation.to_csv(\"aviation.csv\")"
   ]
  },
  {
   "cell_type": "code",
   "execution_count": 48,
   "metadata": {},
   "outputs": [
    {
     "name": "stdout",
     "output_type": "stream",
     "text": [
      "<class 'pandas.core.frame.DataFrame'>\n",
      "Int64Index: 87951 entries, 0 to 90347\n",
      "Data columns (total 33 columns):\n",
      " #   Column                  Non-Null Count  Dtype   \n",
      "---  ------                  --------------  -----   \n",
      " 0   Event.Id                87951 non-null  object  \n",
      " 1   Investigation.Type      87951 non-null  object  \n",
      " 2   Accident.Number         87951 non-null  object  \n",
      " 3   Event.Date              87951 non-null  object  \n",
      " 4   Location                87899 non-null  object  \n",
      " 5   Country                 87729 non-null  object  \n",
      " 6   Latitude                34212 non-null  object  \n",
      " 7   Longitude               34203 non-null  object  \n",
      " 8   Airport.Code            49601 non-null  object  \n",
      " 9   Airport.Name            52117 non-null  object  \n",
      " 10  Injury.Severity         86961 non-null  object  \n",
      " 11  Aircraft.damage         84848 non-null  object  \n",
      " 12  Aircraft.Category       32181 non-null  object  \n",
      " 13  Registration.Number     86666 non-null  object  \n",
      " 14  Make                    87951 non-null  object  \n",
      " 15  Model                   87859 non-null  object  \n",
      " 16  Amateur.Built           87851 non-null  object  \n",
      " 17  Number.of.Engines       81924 non-null  float64 \n",
      " 18  Engine.Type             80927 non-null  object  \n",
      " 19  FAR.Description         31915 non-null  object  \n",
      " 20  Schedule                12360 non-null  object  \n",
      " 21  Purpose.of.flight       81829 non-null  object  \n",
      " 22  Air.carrier             16533 non-null  object  \n",
      " 23  Total.Fatal.Injuries    76684 non-null  float64 \n",
      " 24  Total.Serious.Injuries  75629 non-null  float64 \n",
      " 25  Total.Minor.Injuries    76191 non-null  float64 \n",
      " 26  Total.Uninjured         82088 non-null  float64 \n",
      " 27  Weather.Condition       83478 non-null  object  \n",
      " 28  Broad.phase.of.flight   60837 non-null  object  \n",
      " 29  Report.Status           81590 non-null  object  \n",
      " 30  Publication.Date        72894 non-null  object  \n",
      " 31  Year                    87951 non-null  object  \n",
      " 32  Five_Year               86370 non-null  category\n",
      "dtypes: category(1), float64(5), object(27)\n",
      "memory usage: 24.7+ MB\n"
     ]
    }
   ],
   "source": [
    "aviation.info()"
   ]
  },
  {
   "cell_type": "code",
   "execution_count": null,
   "metadata": {},
   "outputs": [],
   "source": []
  }
 ],
 "metadata": {
  "kernelspec": {
   "display_name": "Python (learn-env)",
   "language": "python",
   "name": "learn-env"
  },
  "language_info": {
   "codemirror_mode": {
    "name": "ipython",
    "version": 3
   },
   "file_extension": ".py",
   "mimetype": "text/x-python",
   "name": "python",
   "nbconvert_exporter": "python",
   "pygments_lexer": "ipython3",
   "version": "3.8.5"
  }
 },
 "nbformat": 4,
 "nbformat_minor": 4
}
