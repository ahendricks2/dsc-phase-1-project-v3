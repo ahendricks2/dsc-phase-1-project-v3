{
 "cells": [
  {
   "cell_type": "markdown",
   "metadata": {},
   "source": [
    "# 1. Importing and Browsing Data "
   ]
  },
  {
   "cell_type": "markdown",
   "metadata": {},
   "source": [
    "Performed by: Kendall and Andrew"
   ]
  },
  {
   "cell_type": "code",
   "execution_count": 5,
   "metadata": {
    "scrolled": false
   },
   "outputs": [
    {
     "name": "stdout",
     "output_type": "stream",
     "text": [
      "C:\\Users\\Jackson\\Documents\\flatiron\\project1\\dsc-phase-1-project-v3\\data\n"
     ]
    }
   ],
   "source": [
    "cd data"
   ]
  },
  {
   "cell_type": "code",
   "execution_count": 6,
   "metadata": {},
   "outputs": [
    {
     "name": "stderr",
     "output_type": "stream",
     "text": [
      "C:\\Users\\Jackson\\anaconda\\anaconda-this one\\envs\\learn-env\\lib\\site-packages\\IPython\\core\\interactiveshell.py:3145: DtypeWarning: Columns (6,7,28) have mixed types.Specify dtype option on import or set low_memory=False.\n",
      "  has_raised = await self.run_ast_nodes(code_ast.body, cell_name,\n"
     ]
    }
   ],
   "source": [
    "import pandas as pd\n",
    "import matplotlib.pyplot as plt\n",
    "%matplotlib inline\n",
    "import numpy as np\n",
    "import seaborn as sns\n",
    "import matplotlib.ticker as mticker\n",
    "aviation = pd.read_csv('Aviation_Data.csv')"
   ]
  },
  {
   "cell_type": "code",
   "execution_count": 7,
   "metadata": {
    "scrolled": true
   },
   "outputs": [
    {
     "name": "stdout",
     "output_type": "stream",
     "text": [
      "<class 'pandas.core.frame.DataFrame'>\n",
      "RangeIndex: 90348 entries, 0 to 90347\n",
      "Data columns (total 31 columns):\n",
      " #   Column                  Non-Null Count  Dtype  \n",
      "---  ------                  --------------  -----  \n",
      " 0   Event.Id                88889 non-null  object \n",
      " 1   Investigation.Type      90348 non-null  object \n",
      " 2   Accident.Number         88889 non-null  object \n",
      " 3   Event.Date              88889 non-null  object \n",
      " 4   Location                88837 non-null  object \n",
      " 5   Country                 88663 non-null  object \n",
      " 6   Latitude                34382 non-null  object \n",
      " 7   Longitude               34373 non-null  object \n",
      " 8   Airport.Code            50249 non-null  object \n",
      " 9   Airport.Name            52790 non-null  object \n",
      " 10  Injury.Severity         87889 non-null  object \n",
      " 11  Aircraft.damage         85695 non-null  object \n",
      " 12  Aircraft.Category       32287 non-null  object \n",
      " 13  Registration.Number     87572 non-null  object \n",
      " 14  Make                    88826 non-null  object \n",
      " 15  Model                   88797 non-null  object \n",
      " 16  Amateur.Built           88787 non-null  object \n",
      " 17  Number.of.Engines       82805 non-null  float64\n",
      " 18  Engine.Type             81812 non-null  object \n",
      " 19  FAR.Description         32023 non-null  object \n",
      " 20  Schedule                12582 non-null  object \n",
      " 21  Purpose.of.flight       82697 non-null  object \n",
      " 22  Air.carrier             16648 non-null  object \n",
      " 23  Total.Fatal.Injuries    77488 non-null  float64\n",
      " 24  Total.Serious.Injuries  76379 non-null  float64\n",
      " 25  Total.Minor.Injuries    76956 non-null  float64\n",
      " 26  Total.Uninjured         82977 non-null  float64\n",
      " 27  Weather.Condition       84397 non-null  object \n",
      " 28  Broad.phase.of.flight   61724 non-null  object \n",
      " 29  Report.Status           82508 non-null  object \n",
      " 30  Publication.Date        73659 non-null  object \n",
      "dtypes: float64(5), object(26)\n",
      "memory usage: 21.4+ MB\n"
     ]
    }
   ],
   "source": [
    "aviation.info()"
   ]
  },
  {
   "cell_type": "code",
   "execution_count": 8,
   "metadata": {
    "scrolled": true
   },
   "outputs": [
    {
     "data": {
      "text/html": [
       "<div>\n",
       "<style scoped>\n",
       "    .dataframe tbody tr th:only-of-type {\n",
       "        vertical-align: middle;\n",
       "    }\n",
       "\n",
       "    .dataframe tbody tr th {\n",
       "        vertical-align: top;\n",
       "    }\n",
       "\n",
       "    .dataframe thead th {\n",
       "        text-align: right;\n",
       "    }\n",
       "</style>\n",
       "<table border=\"1\" class=\"dataframe\">\n",
       "  <thead>\n",
       "    <tr style=\"text-align: right;\">\n",
       "      <th></th>\n",
       "      <th>Number.of.Engines</th>\n",
       "      <th>Total.Fatal.Injuries</th>\n",
       "      <th>Total.Serious.Injuries</th>\n",
       "      <th>Total.Minor.Injuries</th>\n",
       "      <th>Total.Uninjured</th>\n",
       "    </tr>\n",
       "  </thead>\n",
       "  <tbody>\n",
       "    <tr>\n",
       "      <th>count</th>\n",
       "      <td>82805.000000</td>\n",
       "      <td>77488.000000</td>\n",
       "      <td>76379.000000</td>\n",
       "      <td>76956.000000</td>\n",
       "      <td>82977.000000</td>\n",
       "    </tr>\n",
       "    <tr>\n",
       "      <th>mean</th>\n",
       "      <td>1.146585</td>\n",
       "      <td>0.647855</td>\n",
       "      <td>0.279881</td>\n",
       "      <td>0.357061</td>\n",
       "      <td>5.325440</td>\n",
       "    </tr>\n",
       "    <tr>\n",
       "      <th>std</th>\n",
       "      <td>0.446510</td>\n",
       "      <td>5.485960</td>\n",
       "      <td>1.544084</td>\n",
       "      <td>2.235625</td>\n",
       "      <td>27.913634</td>\n",
       "    </tr>\n",
       "    <tr>\n",
       "      <th>min</th>\n",
       "      <td>0.000000</td>\n",
       "      <td>0.000000</td>\n",
       "      <td>0.000000</td>\n",
       "      <td>0.000000</td>\n",
       "      <td>0.000000</td>\n",
       "    </tr>\n",
       "    <tr>\n",
       "      <th>25%</th>\n",
       "      <td>1.000000</td>\n",
       "      <td>0.000000</td>\n",
       "      <td>0.000000</td>\n",
       "      <td>0.000000</td>\n",
       "      <td>0.000000</td>\n",
       "    </tr>\n",
       "    <tr>\n",
       "      <th>50%</th>\n",
       "      <td>1.000000</td>\n",
       "      <td>0.000000</td>\n",
       "      <td>0.000000</td>\n",
       "      <td>0.000000</td>\n",
       "      <td>1.000000</td>\n",
       "    </tr>\n",
       "    <tr>\n",
       "      <th>75%</th>\n",
       "      <td>1.000000</td>\n",
       "      <td>0.000000</td>\n",
       "      <td>0.000000</td>\n",
       "      <td>0.000000</td>\n",
       "      <td>2.000000</td>\n",
       "    </tr>\n",
       "    <tr>\n",
       "      <th>max</th>\n",
       "      <td>8.000000</td>\n",
       "      <td>349.000000</td>\n",
       "      <td>161.000000</td>\n",
       "      <td>380.000000</td>\n",
       "      <td>699.000000</td>\n",
       "    </tr>\n",
       "  </tbody>\n",
       "</table>\n",
       "</div>"
      ],
      "text/plain": [
       "       Number.of.Engines  Total.Fatal.Injuries  Total.Serious.Injuries  \\\n",
       "count       82805.000000          77488.000000            76379.000000   \n",
       "mean            1.146585              0.647855                0.279881   \n",
       "std             0.446510              5.485960                1.544084   \n",
       "min             0.000000              0.000000                0.000000   \n",
       "25%             1.000000              0.000000                0.000000   \n",
       "50%             1.000000              0.000000                0.000000   \n",
       "75%             1.000000              0.000000                0.000000   \n",
       "max             8.000000            349.000000              161.000000   \n",
       "\n",
       "       Total.Minor.Injuries  Total.Uninjured  \n",
       "count          76956.000000     82977.000000  \n",
       "mean               0.357061         5.325440  \n",
       "std                2.235625        27.913634  \n",
       "min                0.000000         0.000000  \n",
       "25%                0.000000         0.000000  \n",
       "50%                0.000000         1.000000  \n",
       "75%                0.000000         2.000000  \n",
       "max              380.000000       699.000000  "
      ]
     },
     "execution_count": 8,
     "metadata": {},
     "output_type": "execute_result"
    }
   ],
   "source": [
    "aviation.describe()"
   ]
  },
  {
   "cell_type": "markdown",
   "metadata": {},
   "source": [
    "# 2. Cleaning Data"
   ]
  },
  {
   "cell_type": "markdown",
   "metadata": {},
   "source": [
    "Performed by: Kendall and Andrew"
   ]
  },
  {
   "cell_type": "markdown",
   "metadata": {},
   "source": [
    "1. Drop duplicates based on event ID: 1390 entries.\n",
    "2. Standardized weather conditions (upper/lower casing)\n",
    "3. Standardized make names (upper/lower casing)\n",
    "4. Drop null values for event date: 1 entry.\n",
    "4. Created Year column."
   ]
  },
  {
   "cell_type": "code",
   "execution_count": 9,
   "metadata": {},
   "outputs": [
    {
     "name": "stdout",
     "output_type": "stream",
     "text": [
      "1390\n"
     ]
    }
   ],
   "source": [
    "#dropping dupliates\n",
    "duplicates = aviation[aviation.duplicated()]\n",
    "print(len(duplicates))\n",
    "duplicates.head(30)\n",
    "aviation = aviation.drop_duplicates(subset='Event.Id')"
   ]
  },
  {
   "cell_type": "code",
   "execution_count": 10,
   "metadata": {
    "scrolled": true
   },
   "outputs": [],
   "source": [
    "#dropping event ID N/A\n",
    "aviation.dropna(subset=['Event.Id'], inplace=True)"
   ]
  },
  {
   "cell_type": "code",
   "execution_count": 11,
   "metadata": {},
   "outputs": [],
   "source": [
    "#standardizing weather conditions\n",
    "aviation['Weather.Condition'] = aviation['Weather.Condition'].replace('Unk', 'UNK')"
   ]
  },
  {
   "cell_type": "code",
   "execution_count": 12,
   "metadata": {},
   "outputs": [],
   "source": [
    "aviation['Engine.Type'] = aviation['Engine.Type'].replace('NONE', 'None')"
   ]
  },
  {
   "cell_type": "code",
   "execution_count": 13,
   "metadata": {},
   "outputs": [],
   "source": [
    "#standardizing make names\n",
    "aviation['Make'] = aviation['Make'].apply(lambda x: str(x).title())\n",
    "aviation['Make'] = aviation['Make'].replace('PIPER', 'Piper')\n",
    "aviation['Make'] = aviation['Make'].replace('CESSNA', 'Cessna')\n",
    "aviation['Make'] = aviation['Make'].replace('BEECH', 'Beech')\n",
    "aviation['Make'] = aviation['Make'].replace('BELL', 'Bell')"
   ]
  },
  {
   "cell_type": "code",
   "execution_count": 14,
   "metadata": {},
   "outputs": [
    {
     "data": {
      "text/plain": [
       "Cessna                       26839\n",
       "Piper                        14744\n",
       "Beech                         5332\n",
       "Bell                          2706\n",
       "Boeing                        2652\n",
       "                             ...  \n",
       "Ammeter                          1\n",
       "Nasa Ames Research Center        1\n",
       "Madewell                         1\n",
       "Mcfaul, Daniel D.                1\n",
       "Stys                             1\n",
       "Name: Make, Length: 7553, dtype: int64"
      ]
     },
     "execution_count": 14,
     "metadata": {},
     "output_type": "execute_result"
    }
   ],
   "source": [
    "aviation['Make'].value_counts()"
   ]
  },
  {
   "cell_type": "code",
   "execution_count": 15,
   "metadata": {},
   "outputs": [],
   "source": [
    "#dropping nans for event date\n",
    "aviation.dropna(subset=['Event.Date'], inplace=True)"
   ]
  },
  {
   "cell_type": "code",
   "execution_count": 16,
   "metadata": {},
   "outputs": [],
   "source": [
    "#creating year column\n",
    "aviation['Year'] = aviation['Event.Date'].astype(str).str[:4]"
   ]
  },
  {
   "cell_type": "code",
   "execution_count": 17,
   "metadata": {},
   "outputs": [],
   "source": [
    "#how can a plane have 0 engines? what are these 0 engine values?\n",
    "zero_engine_aircrafts = aviation.loc[aviation['Number.of.Engines'] == 0]"
   ]
  },
  {
   "cell_type": "code",
   "execution_count": 18,
   "metadata": {},
   "outputs": [
    {
     "data": {
      "text/plain": [
       "(1210,\n",
       " Glider          344\n",
       " Balloon         150\n",
       " Airplane          9\n",
       " Weight-Shift      1\n",
       " Name: Aircraft.Category, dtype: int64)"
      ]
     },
     "execution_count": 18,
     "metadata": {},
     "output_type": "execute_result"
    }
   ],
   "source": [
    "#counting entires with 0 engines and looking more into the aircraft category\n",
    "len(zero_engine_aircrafts), zero_engine_aircrafts['Aircraft.Category'].value_counts()"
   ]
  },
  {
   "cell_type": "code",
   "execution_count": 19,
   "metadata": {},
   "outputs": [],
   "source": [
    "#dropping aircrafts with zero engines from our aviation dataset\n",
    "aviation = aviation.loc[aviation['Number.of.Engines'] != 0]"
   ]
  },
  {
   "cell_type": "markdown",
   "metadata": {},
   "source": [
    "# 3A. ENGINE COUNT & TYPE - Trend Exploration"
   ]
  },
  {
   "cell_type": "raw",
   "metadata": {},
   "source": [
    "Performed by: Kendall"
   ]
  },
  {
   "cell_type": "code",
   "execution_count": 20,
   "metadata": {},
   "outputs": [
    {
     "data": {
      "image/png": "[encoded data removed]",
      "text/plain": [
       "<Figure size 1440x576 with 1 Axes>"
      ]
     },
     "metadata": {
      "needs_background": "light"
     },
     "output_type": "display_data"
    }
   ],
   "source": [
    "#plot of engine count and fatal injuries\n",
    "fig, ax = plt.subplots(figsize=(20,8))\n",
    "\n",
    "sns.barplot(x=aviation['Number.of.Engines'], y=aviation['Total.Fatal.Injuries'])\n",
    "\n",
    "ax.set_title('Number of Engines and Total Fatal Injuries')\n",
    "ax.set_xlabel('# of Engines')\n",
    "ax.set_ylabel('Total Fatal Injuries');"
   ]
  },
  {
   "cell_type": "code",
   "execution_count": 21,
   "metadata": {
    "scrolled": false
   },
   "outputs": [
    {
     "data": {
      "text/html": [
       "<div>\n",
       "<style scoped>\n",
       "    .dataframe tbody tr th:only-of-type {\n",
       "        vertical-align: middle;\n",
       "    }\n",
       "\n",
       "    .dataframe tbody tr th {\n",
       "        vertical-align: top;\n",
       "    }\n",
       "\n",
       "    .dataframe thead th {\n",
       "        text-align: right;\n",
       "    }\n",
       "</style>\n",
       "<table border=\"1\" class=\"dataframe\">\n",
       "  <thead>\n",
       "    <tr style=\"text-align: right;\">\n",
       "      <th></th>\n",
       "      <th>Total.Fatal.Injuries</th>\n",
       "      <th>Total.Serious.Injuries</th>\n",
       "      <th>Total.Minor.Injuries</th>\n",
       "      <th>Total.Uninjured</th>\n",
       "    </tr>\n",
       "    <tr>\n",
       "      <th>Number.of.Engines</th>\n",
       "      <th></th>\n",
       "      <th></th>\n",
       "      <th></th>\n",
       "      <th></th>\n",
       "    </tr>\n",
       "  </thead>\n",
       "  <tbody>\n",
       "    <tr>\n",
       "      <th>1.0</th>\n",
       "      <td>21627.0</td>\n",
       "      <td>13818.0</td>\n",
       "      <td>17592.0</td>\n",
       "      <td>71816.0</td>\n",
       "    </tr>\n",
       "    <tr>\n",
       "      <th>2.0</th>\n",
       "      <td>10048.0</td>\n",
       "      <td>3385.0</td>\n",
       "      <td>4416.0</td>\n",
       "      <td>183081.0</td>\n",
       "    </tr>\n",
       "    <tr>\n",
       "      <th>3.0</th>\n",
       "      <td>861.0</td>\n",
       "      <td>316.0</td>\n",
       "      <td>1141.0</td>\n",
       "      <td>46148.0</td>\n",
       "    </tr>\n",
       "    <tr>\n",
       "      <th>4.0</th>\n",
       "      <td>1651.0</td>\n",
       "      <td>231.0</td>\n",
       "      <td>506.0</td>\n",
       "      <td>37622.0</td>\n",
       "    </tr>\n",
       "    <tr>\n",
       "      <th>6.0</th>\n",
       "      <td>0.0</td>\n",
       "      <td>0.0</td>\n",
       "      <td>0.0</td>\n",
       "      <td>0.0</td>\n",
       "    </tr>\n",
       "    <tr>\n",
       "      <th>8.0</th>\n",
       "      <td>0.0</td>\n",
       "      <td>21.0</td>\n",
       "      <td>3.0</td>\n",
       "      <td>11.0</td>\n",
       "    </tr>\n",
       "  </tbody>\n",
       "</table>\n",
       "</div>"
      ],
      "text/plain": [
       "                   Total.Fatal.Injuries  Total.Serious.Injuries  \\\n",
       "Number.of.Engines                                                 \n",
       "1.0                             21627.0                 13818.0   \n",
       "2.0                             10048.0                  3385.0   \n",
       "3.0                               861.0                   316.0   \n",
       "4.0                              1651.0                   231.0   \n",
       "6.0                                 0.0                     0.0   \n",
       "8.0                                 0.0                    21.0   \n",
       "\n",
       "                   Total.Minor.Injuries  Total.Uninjured  \n",
       "Number.of.Engines                                         \n",
       "1.0                             17592.0          71816.0  \n",
       "2.0                              4416.0         183081.0  \n",
       "3.0                              1141.0          46148.0  \n",
       "4.0                               506.0          37622.0  \n",
       "6.0                                 0.0              0.0  \n",
       "8.0                                 3.0             11.0  "
      ]
     },
     "execution_count": 21,
     "metadata": {},
     "output_type": "execute_result"
    }
   ],
   "source": [
    "#sum of injuries for engine count\n",
    "engine_count = aviation.groupby('Number.of.Engines').sum()\n",
    "engine_count"
   ]
  },
  {
   "cell_type": "code",
   "execution_count": 22,
   "metadata": {
    "scrolled": true
   },
   "outputs": [
    {
     "data": {
      "text/html": [
       "<div>\n",
       "<style scoped>\n",
       "    .dataframe tbody tr th:only-of-type {\n",
       "        vertical-align: middle;\n",
       "    }\n",
       "\n",
       "    .dataframe tbody tr th {\n",
       "        vertical-align: top;\n",
       "    }\n",
       "\n",
       "    .dataframe thead th {\n",
       "        text-align: right;\n",
       "    }\n",
       "</style>\n",
       "<table border=\"1\" class=\"dataframe\">\n",
       "  <thead>\n",
       "    <tr style=\"text-align: right;\">\n",
       "      <th></th>\n",
       "      <th>Total.Fatal.Injuries</th>\n",
       "      <th>Total.Serious.Injuries</th>\n",
       "      <th>Total.Minor.Injuries</th>\n",
       "      <th>Total.Uninjured</th>\n",
       "    </tr>\n",
       "    <tr>\n",
       "      <th>Number.of.Engines</th>\n",
       "      <th></th>\n",
       "      <th></th>\n",
       "      <th></th>\n",
       "      <th></th>\n",
       "    </tr>\n",
       "  </thead>\n",
       "  <tbody>\n",
       "    <tr>\n",
       "      <th>1.0</th>\n",
       "      <td>0.359444</td>\n",
       "      <td>0.232056</td>\n",
       "      <td>0.291925</td>\n",
       "      <td>1.109916</td>\n",
       "    </tr>\n",
       "    <tr>\n",
       "      <th>2.0</th>\n",
       "      <td>1.052918</td>\n",
       "      <td>0.361839</td>\n",
       "      <td>0.474227</td>\n",
       "      <td>17.838936</td>\n",
       "    </tr>\n",
       "    <tr>\n",
       "      <th>3.0</th>\n",
       "      <td>2.190840</td>\n",
       "      <td>0.784119</td>\n",
       "      <td>2.881313</td>\n",
       "      <td>104.171558</td>\n",
       "    </tr>\n",
       "    <tr>\n",
       "      <th>4.0</th>\n",
       "      <td>4.560773</td>\n",
       "      <td>0.634615</td>\n",
       "      <td>1.390110</td>\n",
       "      <td>93.354839</td>\n",
       "    </tr>\n",
       "    <tr>\n",
       "      <th>6.0</th>\n",
       "      <td>0.000000</td>\n",
       "      <td>0.000000</td>\n",
       "      <td>0.000000</td>\n",
       "      <td>0.000000</td>\n",
       "    </tr>\n",
       "    <tr>\n",
       "      <th>8.0</th>\n",
       "      <td>0.000000</td>\n",
       "      <td>7.000000</td>\n",
       "      <td>1.000000</td>\n",
       "      <td>3.666667</td>\n",
       "    </tr>\n",
       "  </tbody>\n",
       "</table>\n",
       "</div>"
      ],
      "text/plain": [
       "                   Total.Fatal.Injuries  Total.Serious.Injuries  \\\n",
       "Number.of.Engines                                                 \n",
       "1.0                            0.359444                0.232056   \n",
       "2.0                            1.052918                0.361839   \n",
       "3.0                            2.190840                0.784119   \n",
       "4.0                            4.560773                0.634615   \n",
       "6.0                            0.000000                0.000000   \n",
       "8.0                            0.000000                7.000000   \n",
       "\n",
       "                   Total.Minor.Injuries  Total.Uninjured  \n",
       "Number.of.Engines                                         \n",
       "1.0                            0.291925         1.109916  \n",
       "2.0                            0.474227        17.838936  \n",
       "3.0                            2.881313       104.171558  \n",
       "4.0                            1.390110        93.354839  \n",
       "6.0                            0.000000         0.000000  \n",
       "8.0                            1.000000         3.666667  "
      ]
     },
     "execution_count": 22,
     "metadata": {},
     "output_type": "execute_result"
    }
   ],
   "source": [
    "#means of injueries for engine count\n",
    "aviation.groupby('Number.of.Engines').mean()"
   ]
  },
  {
   "cell_type": "code",
   "execution_count": 23,
   "metadata": {},
   "outputs": [
    {
     "data": {
      "image/png": "[encoded data removed]",
      "text/plain": [
       "<Figure size 1440x576 with 1 Axes>"
      ]
     },
     "metadata": {
      "needs_background": "light"
     },
     "output_type": "display_data"
    }
   ],
   "source": [
    "#plot of engine type and total fatal injuries\n",
    "fig, ax = plt.subplots(figsize=(20,8))\n",
    "\n",
    "sns.barplot(x=aviation['Engine.Type'], y=aviation['Total.Fatal.Injuries'])\n",
    "\n",
    "ax.set_title('Engine Type and Total Fatal Injuries')\n",
    "ax.set_xlabel('Engine Type')\n",
    "ax.set_ylabel('Total Fatal Injuries');"
   ]
  },
  {
   "cell_type": "code",
   "execution_count": 24,
   "metadata": {},
   "outputs": [],
   "source": [
    "engine_count['Total Passengers'] = engine_count['Total.Fatal.Injuries'] + engine_count['Total.Serious.Injuries'] + engine_count['Total.Minor.Injuries'] + engine_count['Total.Uninjured']"
   ]
  },
  {
   "cell_type": "markdown",
   "metadata": {},
   "source": [
    "# 3B: ENGINE COUNT - Ratio of Uninjured to All Passengers "
   ]
  },
  {
   "cell_type": "markdown",
   "metadata": {},
   "source": [
    "Performed by: Kendall "
   ]
  },
  {
   "cell_type": "code",
   "execution_count": 25,
   "metadata": {},
   "outputs": [
    {
     "data": {
      "text/html": [
       "<div>\n",
       "<style scoped>\n",
       "    .dataframe tbody tr th:only-of-type {\n",
       "        vertical-align: middle;\n",
       "    }\n",
       "\n",
       "    .dataframe tbody tr th {\n",
       "        vertical-align: top;\n",
       "    }\n",
       "\n",
       "    .dataframe thead th {\n",
       "        text-align: right;\n",
       "    }\n",
       "</style>\n",
       "<table border=\"1\" class=\"dataframe\">\n",
       "  <thead>\n",
       "    <tr style=\"text-align: right;\">\n",
       "      <th></th>\n",
       "      <th>Total.Fatal.Injuries</th>\n",
       "      <th>Total.Serious.Injuries</th>\n",
       "      <th>Total.Minor.Injuries</th>\n",
       "      <th>Total.Uninjured</th>\n",
       "      <th>Total Passengers</th>\n",
       "      <th>Ratio Uninjured</th>\n",
       "    </tr>\n",
       "    <tr>\n",
       "      <th>Number.of.Engines</th>\n",
       "      <th></th>\n",
       "      <th></th>\n",
       "      <th></th>\n",
       "      <th></th>\n",
       "      <th></th>\n",
       "      <th></th>\n",
       "    </tr>\n",
       "  </thead>\n",
       "  <tbody>\n",
       "    <tr>\n",
       "      <th>1.0</th>\n",
       "      <td>21627.0</td>\n",
       "      <td>13818.0</td>\n",
       "      <td>17592.0</td>\n",
       "      <td>71816.0</td>\n",
       "      <td>124853.0</td>\n",
       "      <td>0.575204</td>\n",
       "    </tr>\n",
       "    <tr>\n",
       "      <th>2.0</th>\n",
       "      <td>10048.0</td>\n",
       "      <td>3385.0</td>\n",
       "      <td>4416.0</td>\n",
       "      <td>183081.0</td>\n",
       "      <td>200930.0</td>\n",
       "      <td>0.911168</td>\n",
       "    </tr>\n",
       "    <tr>\n",
       "      <th>3.0</th>\n",
       "      <td>861.0</td>\n",
       "      <td>316.0</td>\n",
       "      <td>1141.0</td>\n",
       "      <td>46148.0</td>\n",
       "      <td>48466.0</td>\n",
       "      <td>0.952173</td>\n",
       "    </tr>\n",
       "    <tr>\n",
       "      <th>4.0</th>\n",
       "      <td>1651.0</td>\n",
       "      <td>231.0</td>\n",
       "      <td>506.0</td>\n",
       "      <td>37622.0</td>\n",
       "      <td>40010.0</td>\n",
       "      <td>0.940315</td>\n",
       "    </tr>\n",
       "    <tr>\n",
       "      <th>6.0</th>\n",
       "      <td>0.0</td>\n",
       "      <td>0.0</td>\n",
       "      <td>0.0</td>\n",
       "      <td>0.0</td>\n",
       "      <td>0.0</td>\n",
       "      <td>NaN</td>\n",
       "    </tr>\n",
       "    <tr>\n",
       "      <th>8.0</th>\n",
       "      <td>0.0</td>\n",
       "      <td>21.0</td>\n",
       "      <td>3.0</td>\n",
       "      <td>11.0</td>\n",
       "      <td>35.0</td>\n",
       "      <td>0.314286</td>\n",
       "    </tr>\n",
       "  </tbody>\n",
       "</table>\n",
       "</div>"
      ],
      "text/plain": [
       "                   Total.Fatal.Injuries  Total.Serious.Injuries  \\\n",
       "Number.of.Engines                                                 \n",
       "1.0                             21627.0                 13818.0   \n",
       "2.0                             10048.0                  3385.0   \n",
       "3.0                               861.0                   316.0   \n",
       "4.0                              1651.0                   231.0   \n",
       "6.0                                 0.0                     0.0   \n",
       "8.0                                 0.0                    21.0   \n",
       "\n",
       "                   Total.Minor.Injuries  Total.Uninjured  Total Passengers  \\\n",
       "Number.of.Engines                                                            \n",
       "1.0                             17592.0          71816.0          124853.0   \n",
       "2.0                              4416.0         183081.0          200930.0   \n",
       "3.0                              1141.0          46148.0           48466.0   \n",
       "4.0                               506.0          37622.0           40010.0   \n",
       "6.0                                 0.0              0.0               0.0   \n",
       "8.0                                 3.0             11.0              35.0   \n",
       "\n",
       "                   Ratio Uninjured  \n",
       "Number.of.Engines                   \n",
       "1.0                       0.575204  \n",
       "2.0                       0.911168  \n",
       "3.0                       0.952173  \n",
       "4.0                       0.940315  \n",
       "6.0                            NaN  \n",
       "8.0                       0.314286  "
      ]
     },
     "execution_count": 25,
     "metadata": {},
     "output_type": "execute_result"
    }
   ],
   "source": [
    "engine_count['Ratio Uninjured'] = engine_count['Total.Uninjured'] / engine_count['Total Passengers']\n",
    "engine_count"
   ]
  },
  {
   "cell_type": "code",
   "execution_count": 32,
   "metadata": {},
   "outputs": [],
   "source": [
    "engine_count['Ratio Uninjured'] = engine_count['Ratio Uninjured']/100 "
   ]
  },
  {
   "cell_type": "code",
   "execution_count": 33,
   "metadata": {},
   "outputs": [
    {
     "data": {
      "text/html": [
       "<div>\n",
       "<style scoped>\n",
       "    .dataframe tbody tr th:only-of-type {\n",
       "        vertical-align: middle;\n",
       "    }\n",
       "\n",
       "    .dataframe tbody tr th {\n",
       "        vertical-align: top;\n",
       "    }\n",
       "\n",
       "    .dataframe thead th {\n",
       "        text-align: right;\n",
       "    }\n",
       "</style>\n",
       "<table border=\"1\" class=\"dataframe\">\n",
       "  <thead>\n",
       "    <tr style=\"text-align: right;\">\n",
       "      <th></th>\n",
       "      <th>Total.Fatal.Injuries</th>\n",
       "      <th>Total.Serious.Injuries</th>\n",
       "      <th>Total.Minor.Injuries</th>\n",
       "      <th>Total.Uninjured</th>\n",
       "      <th>Total Passengers</th>\n",
       "      <th>Ratio Uninjured</th>\n",
       "    </tr>\n",
       "    <tr>\n",
       "      <th>Number.of.Engines</th>\n",
       "      <th></th>\n",
       "      <th></th>\n",
       "      <th></th>\n",
       "      <th></th>\n",
       "      <th></th>\n",
       "      <th></th>\n",
       "    </tr>\n",
       "  </thead>\n",
       "  <tbody>\n",
       "    <tr>\n",
       "      <th>1.0</th>\n",
       "      <td>21627.0</td>\n",
       "      <td>13818.0</td>\n",
       "      <td>17592.0</td>\n",
       "      <td>71816.0</td>\n",
       "      <td>124853.0</td>\n",
       "      <td>0.575204</td>\n",
       "    </tr>\n",
       "    <tr>\n",
       "      <th>2.0</th>\n",
       "      <td>10048.0</td>\n",
       "      <td>3385.0</td>\n",
       "      <td>4416.0</td>\n",
       "      <td>183081.0</td>\n",
       "      <td>200930.0</td>\n",
       "      <td>0.911168</td>\n",
       "    </tr>\n",
       "    <tr>\n",
       "      <th>3.0</th>\n",
       "      <td>861.0</td>\n",
       "      <td>316.0</td>\n",
       "      <td>1141.0</td>\n",
       "      <td>46148.0</td>\n",
       "      <td>48466.0</td>\n",
       "      <td>0.952173</td>\n",
       "    </tr>\n",
       "    <tr>\n",
       "      <th>4.0</th>\n",
       "      <td>1651.0</td>\n",
       "      <td>231.0</td>\n",
       "      <td>506.0</td>\n",
       "      <td>37622.0</td>\n",
       "      <td>40010.0</td>\n",
       "      <td>0.940315</td>\n",
       "    </tr>\n",
       "    <tr>\n",
       "      <th>6.0</th>\n",
       "      <td>0.0</td>\n",
       "      <td>0.0</td>\n",
       "      <td>0.0</td>\n",
       "      <td>0.0</td>\n",
       "      <td>0.0</td>\n",
       "      <td>NaN</td>\n",
       "    </tr>\n",
       "    <tr>\n",
       "      <th>8.0</th>\n",
       "      <td>0.0</td>\n",
       "      <td>21.0</td>\n",
       "      <td>3.0</td>\n",
       "      <td>11.0</td>\n",
       "      <td>35.0</td>\n",
       "      <td>0.314286</td>\n",
       "    </tr>\n",
       "  </tbody>\n",
       "</table>\n",
       "</div>"
      ],
      "text/plain": [
       "                   Total.Fatal.Injuries  Total.Serious.Injuries  \\\n",
       "Number.of.Engines                                                 \n",
       "1.0                             21627.0                 13818.0   \n",
       "2.0                             10048.0                  3385.0   \n",
       "3.0                               861.0                   316.0   \n",
       "4.0                              1651.0                   231.0   \n",
       "6.0                                 0.0                     0.0   \n",
       "8.0                                 0.0                    21.0   \n",
       "\n",
       "                   Total.Minor.Injuries  Total.Uninjured  Total Passengers  \\\n",
       "Number.of.Engines                                                            \n",
       "1.0                             17592.0          71816.0          124853.0   \n",
       "2.0                              4416.0         183081.0          200930.0   \n",
       "3.0                              1141.0          46148.0           48466.0   \n",
       "4.0                               506.0          37622.0           40010.0   \n",
       "6.0                                 0.0              0.0               0.0   \n",
       "8.0                                 3.0             11.0              35.0   \n",
       "\n",
       "                   Ratio Uninjured  \n",
       "Number.of.Engines                   \n",
       "1.0                       0.575204  \n",
       "2.0                       0.911168  \n",
       "3.0                       0.952173  \n",
       "4.0                       0.940315  \n",
       "6.0                            NaN  \n",
       "8.0                       0.314286  "
      ]
     },
     "execution_count": 33,
     "metadata": {},
     "output_type": "execute_result"
    }
   ],
   "source": [
    "engine_count"
   ]
  },
  {
   "cell_type": "code",
   "execution_count": 34,
   "metadata": {},
   "outputs": [],
   "source": [
    "from matplotlib.ticker import PercentFormatter"
   ]
  },
  {
   "cell_type": "code",
   "execution_count": 35,
   "metadata": {},
   "outputs": [
    {
     "data": {
      "image/png": "[encoded data removed]",
      "text/plain": [
       "<Figure size 864x576 with 1 Axes>"
      ]
     },
     "metadata": {
      "needs_background": "light"
     },
     "output_type": "display_data"
    }
   ],
   "source": [
    "fig, ax = plt.subplots(figsize=(12,8))\n",
    "\n",
    "sns.barplot(x=engine_count.index, y=engine_count['Ratio Uninjured'])\n",
    "ax.set_title('Percentage of Passengers Uninjured by Engine Count')\n",
    "ax.set_xlabel('Engine Count')\n",
    "ax.set_ylabel('Percentage of Passengers Uninjured')\n",
    "ax.axes.yaxis.set_major_formatter(PercentFormatter(1));"
   ]
  },
  {
   "cell_type": "code",
   "execution_count": 114,
   "metadata": {
    "scrolled": true
   },
   "outputs": [
    {
     "name": "stderr",
     "output_type": "stream",
     "text": [
      "<ipython-input-114-f3f1274aab0c>:8: UserWarning: FixedFormatter should only be used together with FixedLocator\n",
      "  ax.set_yticklabels(y_value);\n"
     ]
    },
    {
     "data": {
      "image/png": "[encoded data removed]",
      "text/plain": [
       "<Figure size 864x576 with 1 Axes>"
      ]
     },
     "metadata": {
      "needs_background": "light"
     },
     "output_type": "display_data"
    }
   ],
   "source": [
    "fig, ax = plt.subplots(figsize=(12,8))\n",
    "\n",
    "sns.barplot(x=engine_count.index, y=engine_count['Ratio Uninjured'])\n",
    "ax.set_title('Percentage of Passengers Uninjured by Engine Count')\n",
    "ax.set_xlabel('Engine Count')\n",
    "ax.set_ylabel('Percentage of Passengers Uninjured')\n",
    "y_value=['{:,.2f}'.format(x) + '%' for x in ax.get_yticks()]\n",
    "ax.set_yticklabels(y_value);"
   ]
  },
  {
   "cell_type": "markdown",
   "metadata": {},
   "source": [
    "*94-95% of passengers in accidents of planes with 3 and 4 engines were uninjured."
   ]
  },
  {
   "cell_type": "markdown",
   "metadata": {},
   "source": [
    "# 3C: ENGINE TYPE - Ratio of Uninjured to All Passengers \n"
   ]
  },
  {
   "cell_type": "markdown",
   "metadata": {},
   "source": [
    "Performed by: Kendall"
   ]
  },
  {
   "cell_type": "code",
   "execution_count": 102,
   "metadata": {
    "scrolled": true
   },
   "outputs": [
    {
     "data": {
      "text/html": [
       "<div>\n",
       "<style scoped>\n",
       "    .dataframe tbody tr th:only-of-type {\n",
       "        vertical-align: middle;\n",
       "    }\n",
       "\n",
       "    .dataframe tbody tr th {\n",
       "        vertical-align: top;\n",
       "    }\n",
       "\n",
       "    .dataframe thead th {\n",
       "        text-align: right;\n",
       "    }\n",
       "</style>\n",
       "<table border=\"1\" class=\"dataframe\">\n",
       "  <thead>\n",
       "    <tr style=\"text-align: right;\">\n",
       "      <th></th>\n",
       "      <th>Number.of.Engines</th>\n",
       "      <th>Total.Fatal.Injuries</th>\n",
       "      <th>Total.Serious.Injuries</th>\n",
       "      <th>Total.Minor.Injuries</th>\n",
       "      <th>Total.Uninjured</th>\n",
       "    </tr>\n",
       "    <tr>\n",
       "      <th>Engine.Type</th>\n",
       "      <th></th>\n",
       "      <th></th>\n",
       "      <th></th>\n",
       "      <th></th>\n",
       "      <th></th>\n",
       "    </tr>\n",
       "  </thead>\n",
       "  <tbody>\n",
       "    <tr>\n",
       "      <th>Electric</th>\n",
       "      <td>24.0</td>\n",
       "      <td>2.0</td>\n",
       "      <td>1.0</td>\n",
       "      <td>0.0</td>\n",
       "      <td>7.0</td>\n",
       "    </tr>\n",
       "    <tr>\n",
       "      <th>Geared Turbofan</th>\n",
       "      <td>22.0</td>\n",
       "      <td>0.0</td>\n",
       "      <td>0.0</td>\n",
       "      <td>0.0</td>\n",
       "      <td>121.0</td>\n",
       "    </tr>\n",
       "    <tr>\n",
       "      <th>Hybrid Rocket</th>\n",
       "      <td>1.0</td>\n",
       "      <td>1.0</td>\n",
       "      <td>0.0</td>\n",
       "      <td>1.0</td>\n",
       "      <td>0.0</td>\n",
       "    </tr>\n",
       "    <tr>\n",
       "      <th>LR</th>\n",
       "      <td>16.0</td>\n",
       "      <td>0.0</td>\n",
       "      <td>21.0</td>\n",
       "      <td>3.0</td>\n",
       "      <td>11.0</td>\n",
       "    </tr>\n",
       "    <tr>\n",
       "      <th>None</th>\n",
       "      <td>11.0</td>\n",
       "      <td>1.0</td>\n",
       "      <td>8.0</td>\n",
       "      <td>7.0</td>\n",
       "      <td>65.0</td>\n",
       "    </tr>\n",
       "    <tr>\n",
       "      <th>Reciprocating</th>\n",
       "      <td>74452.0</td>\n",
       "      <td>23125.0</td>\n",
       "      <td>13366.0</td>\n",
       "      <td>17157.0</td>\n",
       "      <td>72941.0</td>\n",
       "    </tr>\n",
       "    <tr>\n",
       "      <th>Turbo Fan</th>\n",
       "      <td>5344.0</td>\n",
       "      <td>4419.0</td>\n",
       "      <td>1812.0</td>\n",
       "      <td>3279.0</td>\n",
       "      <td>194409.0</td>\n",
       "    </tr>\n",
       "    <tr>\n",
       "      <th>Turbo Jet</th>\n",
       "      <td>1446.0</td>\n",
       "      <td>841.0</td>\n",
       "      <td>234.0</td>\n",
       "      <td>363.0</td>\n",
       "      <td>32504.0</td>\n",
       "    </tr>\n",
       "    <tr>\n",
       "      <th>Turbo Prop</th>\n",
       "      <td>5126.0</td>\n",
       "      <td>2448.0</td>\n",
       "      <td>671.0</td>\n",
       "      <td>885.0</td>\n",
       "      <td>14836.0</td>\n",
       "    </tr>\n",
       "    <tr>\n",
       "      <th>Turbo Shaft</th>\n",
       "      <td>4006.0</td>\n",
       "      <td>1666.0</td>\n",
       "      <td>1204.0</td>\n",
       "      <td>1530.0</td>\n",
       "      <td>4789.0</td>\n",
       "    </tr>\n",
       "    <tr>\n",
       "      <th>UNK</th>\n",
       "      <td>1.0</td>\n",
       "      <td>0.0</td>\n",
       "      <td>0.0</td>\n",
       "      <td>2.0</td>\n",
       "      <td>0.0</td>\n",
       "    </tr>\n",
       "    <tr>\n",
       "      <th>Unknown</th>\n",
       "      <td>131.0</td>\n",
       "      <td>3392.0</td>\n",
       "      <td>875.0</td>\n",
       "      <td>1489.0</td>\n",
       "      <td>10440.0</td>\n",
       "    </tr>\n",
       "  </tbody>\n",
       "</table>\n",
       "</div>"
      ],
      "text/plain": [
       "                 Number.of.Engines  Total.Fatal.Injuries  \\\n",
       "Engine.Type                                                \n",
       "Electric                      24.0                   2.0   \n",
       "Geared Turbofan               22.0                   0.0   \n",
       "Hybrid Rocket                  1.0                   1.0   \n",
       "LR                            16.0                   0.0   \n",
       "None                          11.0                   1.0   \n",
       "Reciprocating              74452.0               23125.0   \n",
       "Turbo Fan                   5344.0                4419.0   \n",
       "Turbo Jet                   1446.0                 841.0   \n",
       "Turbo Prop                  5126.0                2448.0   \n",
       "Turbo Shaft                 4006.0                1666.0   \n",
       "UNK                            1.0                   0.0   \n",
       "Unknown                      131.0                3392.0   \n",
       "\n",
       "                 Total.Serious.Injuries  Total.Minor.Injuries  Total.Uninjured  \n",
       "Engine.Type                                                                     \n",
       "Electric                            1.0                   0.0              7.0  \n",
       "Geared Turbofan                     0.0                   0.0            121.0  \n",
       "Hybrid Rocket                       0.0                   1.0              0.0  \n",
       "LR                                 21.0                   3.0             11.0  \n",
       "None                                8.0                   7.0             65.0  \n",
       "Reciprocating                   13366.0               17157.0          72941.0  \n",
       "Turbo Fan                        1812.0                3279.0         194409.0  \n",
       "Turbo Jet                         234.0                 363.0          32504.0  \n",
       "Turbo Prop                        671.0                 885.0          14836.0  \n",
       "Turbo Shaft                      1204.0                1530.0           4789.0  \n",
       "UNK                                 0.0                   2.0              0.0  \n",
       "Unknown                           875.0                1489.0          10440.0  "
      ]
     },
     "execution_count": 102,
     "metadata": {},
     "output_type": "execute_result"
    }
   ],
   "source": [
    "#sums of engine types and total injuries\n",
    "aviation.groupby('Engine.Type').sum()"
   ]
  },
  {
   "cell_type": "code",
   "execution_count": 103,
   "metadata": {
    "scrolled": true
   },
   "outputs": [
    {
     "data": {
      "text/html": [
       "<div>\n",
       "<style scoped>\n",
       "    .dataframe tbody tr th:only-of-type {\n",
       "        vertical-align: middle;\n",
       "    }\n",
       "\n",
       "    .dataframe tbody tr th {\n",
       "        vertical-align: top;\n",
       "    }\n",
       "\n",
       "    .dataframe thead th {\n",
       "        text-align: right;\n",
       "    }\n",
       "</style>\n",
       "<table border=\"1\" class=\"dataframe\">\n",
       "  <thead>\n",
       "    <tr style=\"text-align: right;\">\n",
       "      <th></th>\n",
       "      <th>Number.of.Engines</th>\n",
       "      <th>Total.Fatal.Injuries</th>\n",
       "      <th>Total.Serious.Injuries</th>\n",
       "      <th>Total.Minor.Injuries</th>\n",
       "      <th>Total.Uninjured</th>\n",
       "    </tr>\n",
       "    <tr>\n",
       "      <th>Engine.Type</th>\n",
       "      <th></th>\n",
       "      <th></th>\n",
       "      <th></th>\n",
       "      <th></th>\n",
       "      <th></th>\n",
       "    </tr>\n",
       "  </thead>\n",
       "  <tbody>\n",
       "    <tr>\n",
       "      <th>Electric</th>\n",
       "      <td>3.000000</td>\n",
       "      <td>0.200000</td>\n",
       "      <td>0.100000</td>\n",
       "      <td>0.000000</td>\n",
       "      <td>0.700000</td>\n",
       "    </tr>\n",
       "    <tr>\n",
       "      <th>Geared Turbofan</th>\n",
       "      <td>2.000000</td>\n",
       "      <td>0.000000</td>\n",
       "      <td>0.000000</td>\n",
       "      <td>0.000000</td>\n",
       "      <td>10.083333</td>\n",
       "    </tr>\n",
       "    <tr>\n",
       "      <th>Hybrid Rocket</th>\n",
       "      <td>1.000000</td>\n",
       "      <td>1.000000</td>\n",
       "      <td>0.000000</td>\n",
       "      <td>1.000000</td>\n",
       "      <td>0.000000</td>\n",
       "    </tr>\n",
       "    <tr>\n",
       "      <th>LR</th>\n",
       "      <td>8.000000</td>\n",
       "      <td>0.000000</td>\n",
       "      <td>10.500000</td>\n",
       "      <td>1.500000</td>\n",
       "      <td>5.500000</td>\n",
       "    </tr>\n",
       "    <tr>\n",
       "      <th>None</th>\n",
       "      <td>1.571429</td>\n",
       "      <td>0.090909</td>\n",
       "      <td>0.727273</td>\n",
       "      <td>0.636364</td>\n",
       "      <td>5.909091</td>\n",
       "    </tr>\n",
       "    <tr>\n",
       "      <th>Reciprocating</th>\n",
       "      <td>1.088830</td>\n",
       "      <td>0.383728</td>\n",
       "      <td>0.224571</td>\n",
       "      <td>0.285223</td>\n",
       "      <td>1.128524</td>\n",
       "    </tr>\n",
       "    <tr>\n",
       "      <th>Turbo Fan</th>\n",
       "      <td>2.337708</td>\n",
       "      <td>2.294393</td>\n",
       "      <td>0.908726</td>\n",
       "      <td>1.675524</td>\n",
       "      <td>83.688765</td>\n",
       "    </tr>\n",
       "    <tr>\n",
       "      <th>Turbo Jet</th>\n",
       "      <td>2.139053</td>\n",
       "      <td>1.460069</td>\n",
       "      <td>0.406957</td>\n",
       "      <td>0.640212</td>\n",
       "      <td>50.083205</td>\n",
       "    </tr>\n",
       "    <tr>\n",
       "      <th>Turbo Prop</th>\n",
       "      <td>1.572875</td>\n",
       "      <td>0.869936</td>\n",
       "      <td>0.248151</td>\n",
       "      <td>0.323111</td>\n",
       "      <td>4.851537</td>\n",
       "    </tr>\n",
       "    <tr>\n",
       "      <th>Turbo Shaft</th>\n",
       "      <td>1.142939</td>\n",
       "      <td>0.552570</td>\n",
       "      <td>0.399734</td>\n",
       "      <td>0.500327</td>\n",
       "      <td>1.451652</td>\n",
       "    </tr>\n",
       "    <tr>\n",
       "      <th>UNK</th>\n",
       "      <td>1.000000</td>\n",
       "      <td>0.000000</td>\n",
       "      <td>0.000000</td>\n",
       "      <td>2.000000</td>\n",
       "      <td>0.000000</td>\n",
       "    </tr>\n",
       "    <tr>\n",
       "      <th>Unknown</th>\n",
       "      <td>1.455556</td>\n",
       "      <td>2.726688</td>\n",
       "      <td>0.718391</td>\n",
       "      <td>1.220492</td>\n",
       "      <td>8.266033</td>\n",
       "    </tr>\n",
       "  </tbody>\n",
       "</table>\n",
       "</div>"
      ],
      "text/plain": [
       "                 Number.of.Engines  Total.Fatal.Injuries  \\\n",
       "Engine.Type                                                \n",
       "Electric                  3.000000              0.200000   \n",
       "Geared Turbofan           2.000000              0.000000   \n",
       "Hybrid Rocket             1.000000              1.000000   \n",
       "LR                        8.000000              0.000000   \n",
       "None                      1.571429              0.090909   \n",
       "Reciprocating             1.088830              0.383728   \n",
       "Turbo Fan                 2.337708              2.294393   \n",
       "Turbo Jet                 2.139053              1.460069   \n",
       "Turbo Prop                1.572875              0.869936   \n",
       "Turbo Shaft               1.142939              0.552570   \n",
       "UNK                       1.000000              0.000000   \n",
       "Unknown                   1.455556              2.726688   \n",
       "\n",
       "                 Total.Serious.Injuries  Total.Minor.Injuries  Total.Uninjured  \n",
       "Engine.Type                                                                     \n",
       "Electric                       0.100000              0.000000         0.700000  \n",
       "Geared Turbofan                0.000000              0.000000        10.083333  \n",
       "Hybrid Rocket                  0.000000              1.000000         0.000000  \n",
       "LR                            10.500000              1.500000         5.500000  \n",
       "None                           0.727273              0.636364         5.909091  \n",
       "Reciprocating                  0.224571              0.285223         1.128524  \n",
       "Turbo Fan                      0.908726              1.675524        83.688765  \n",
       "Turbo Jet                      0.406957              0.640212        50.083205  \n",
       "Turbo Prop                     0.248151              0.323111         4.851537  \n",
       "Turbo Shaft                    0.399734              0.500327         1.451652  \n",
       "UNK                            0.000000              2.000000         0.000000  \n",
       "Unknown                        0.718391              1.220492         8.266033  "
      ]
     },
     "execution_count": 103,
     "metadata": {},
     "output_type": "execute_result"
    }
   ],
   "source": [
    "#means of engine type and number of injuries\n",
    "aviation.groupby('Engine.Type').mean()"
   ]
  },
  {
   "cell_type": "code",
   "execution_count": 104,
   "metadata": {},
   "outputs": [],
   "source": [
    "engine_types = aviation.groupby('Engine.Type').sum()"
   ]
  },
  {
   "cell_type": "code",
   "execution_count": 105,
   "metadata": {},
   "outputs": [],
   "source": [
    "#creating a total passengers column and then a ratio of total uninjured to total passengers\n",
    "engine_types['Total Passengers'] = engine_types['Total.Fatal.Injuries'] + engine_types['Total.Serious.Injuries'] + engine_types['Total.Minor.Injuries'] + engine_types['Total.Uninjured']\n",
    "engine_types['Ratio Uninjured'] = engine_types['Total.Uninjured'] / engine_types['Total Passengers']"
   ]
  },
  {
   "cell_type": "code",
   "execution_count": 106,
   "metadata": {
    "scrolled": true
   },
   "outputs": [
    {
     "data": {
      "text/html": [
       "<div>\n",
       "<style scoped>\n",
       "    .dataframe tbody tr th:only-of-type {\n",
       "        vertical-align: middle;\n",
       "    }\n",
       "\n",
       "    .dataframe tbody tr th {\n",
       "        vertical-align: top;\n",
       "    }\n",
       "\n",
       "    .dataframe thead th {\n",
       "        text-align: right;\n",
       "    }\n",
       "</style>\n",
       "<table border=\"1\" class=\"dataframe\">\n",
       "  <thead>\n",
       "    <tr style=\"text-align: right;\">\n",
       "      <th></th>\n",
       "      <th>Number.of.Engines</th>\n",
       "      <th>Total.Fatal.Injuries</th>\n",
       "      <th>Total.Serious.Injuries</th>\n",
       "      <th>Total.Minor.Injuries</th>\n",
       "      <th>Total.Uninjured</th>\n",
       "      <th>Total Passengers</th>\n",
       "      <th>Ratio Uninjured</th>\n",
       "    </tr>\n",
       "    <tr>\n",
       "      <th>Engine.Type</th>\n",
       "      <th></th>\n",
       "      <th></th>\n",
       "      <th></th>\n",
       "      <th></th>\n",
       "      <th></th>\n",
       "      <th></th>\n",
       "      <th></th>\n",
       "    </tr>\n",
       "  </thead>\n",
       "  <tbody>\n",
       "    <tr>\n",
       "      <th>Electric</th>\n",
       "      <td>24.0</td>\n",
       "      <td>2.0</td>\n",
       "      <td>1.0</td>\n",
       "      <td>0.0</td>\n",
       "      <td>7.0</td>\n",
       "      <td>10.0</td>\n",
       "      <td>0.700000</td>\n",
       "    </tr>\n",
       "    <tr>\n",
       "      <th>Geared Turbofan</th>\n",
       "      <td>22.0</td>\n",
       "      <td>0.0</td>\n",
       "      <td>0.0</td>\n",
       "      <td>0.0</td>\n",
       "      <td>121.0</td>\n",
       "      <td>121.0</td>\n",
       "      <td>1.000000</td>\n",
       "    </tr>\n",
       "    <tr>\n",
       "      <th>Hybrid Rocket</th>\n",
       "      <td>1.0</td>\n",
       "      <td>1.0</td>\n",
       "      <td>0.0</td>\n",
       "      <td>1.0</td>\n",
       "      <td>0.0</td>\n",
       "      <td>2.0</td>\n",
       "      <td>0.000000</td>\n",
       "    </tr>\n",
       "    <tr>\n",
       "      <th>LR</th>\n",
       "      <td>16.0</td>\n",
       "      <td>0.0</td>\n",
       "      <td>21.0</td>\n",
       "      <td>3.0</td>\n",
       "      <td>11.0</td>\n",
       "      <td>35.0</td>\n",
       "      <td>0.314286</td>\n",
       "    </tr>\n",
       "    <tr>\n",
       "      <th>None</th>\n",
       "      <td>11.0</td>\n",
       "      <td>1.0</td>\n",
       "      <td>8.0</td>\n",
       "      <td>7.0</td>\n",
       "      <td>65.0</td>\n",
       "      <td>81.0</td>\n",
       "      <td>0.802469</td>\n",
       "    </tr>\n",
       "    <tr>\n",
       "      <th>Reciprocating</th>\n",
       "      <td>74452.0</td>\n",
       "      <td>23125.0</td>\n",
       "      <td>13366.0</td>\n",
       "      <td>17157.0</td>\n",
       "      <td>72941.0</td>\n",
       "      <td>126589.0</td>\n",
       "      <td>0.576203</td>\n",
       "    </tr>\n",
       "    <tr>\n",
       "      <th>Turbo Fan</th>\n",
       "      <td>5344.0</td>\n",
       "      <td>4419.0</td>\n",
       "      <td>1812.0</td>\n",
       "      <td>3279.0</td>\n",
       "      <td>194409.0</td>\n",
       "      <td>203919.0</td>\n",
       "      <td>0.953364</td>\n",
       "    </tr>\n",
       "    <tr>\n",
       "      <th>Turbo Jet</th>\n",
       "      <td>1446.0</td>\n",
       "      <td>841.0</td>\n",
       "      <td>234.0</td>\n",
       "      <td>363.0</td>\n",
       "      <td>32504.0</td>\n",
       "      <td>33942.0</td>\n",
       "      <td>0.957634</td>\n",
       "    </tr>\n",
       "    <tr>\n",
       "      <th>Turbo Prop</th>\n",
       "      <td>5126.0</td>\n",
       "      <td>2448.0</td>\n",
       "      <td>671.0</td>\n",
       "      <td>885.0</td>\n",
       "      <td>14836.0</td>\n",
       "      <td>18840.0</td>\n",
       "      <td>0.787473</td>\n",
       "    </tr>\n",
       "    <tr>\n",
       "      <th>Turbo Shaft</th>\n",
       "      <td>4006.0</td>\n",
       "      <td>1666.0</td>\n",
       "      <td>1204.0</td>\n",
       "      <td>1530.0</td>\n",
       "      <td>4789.0</td>\n",
       "      <td>9189.0</td>\n",
       "      <td>0.521167</td>\n",
       "    </tr>\n",
       "    <tr>\n",
       "      <th>UNK</th>\n",
       "      <td>1.0</td>\n",
       "      <td>0.0</td>\n",
       "      <td>0.0</td>\n",
       "      <td>2.0</td>\n",
       "      <td>0.0</td>\n",
       "      <td>2.0</td>\n",
       "      <td>0.000000</td>\n",
       "    </tr>\n",
       "    <tr>\n",
       "      <th>Unknown</th>\n",
       "      <td>131.0</td>\n",
       "      <td>3392.0</td>\n",
       "      <td>875.0</td>\n",
       "      <td>1489.0</td>\n",
       "      <td>10440.0</td>\n",
       "      <td>16196.0</td>\n",
       "      <td>0.644604</td>\n",
       "    </tr>\n",
       "  </tbody>\n",
       "</table>\n",
       "</div>"
      ],
      "text/plain": [
       "                 Number.of.Engines  Total.Fatal.Injuries  \\\n",
       "Engine.Type                                                \n",
       "Electric                      24.0                   2.0   \n",
       "Geared Turbofan               22.0                   0.0   \n",
       "Hybrid Rocket                  1.0                   1.0   \n",
       "LR                            16.0                   0.0   \n",
       "None                          11.0                   1.0   \n",
       "Reciprocating              74452.0               23125.0   \n",
       "Turbo Fan                   5344.0                4419.0   \n",
       "Turbo Jet                   1446.0                 841.0   \n",
       "Turbo Prop                  5126.0                2448.0   \n",
       "Turbo Shaft                 4006.0                1666.0   \n",
       "UNK                            1.0                   0.0   \n",
       "Unknown                      131.0                3392.0   \n",
       "\n",
       "                 Total.Serious.Injuries  Total.Minor.Injuries  \\\n",
       "Engine.Type                                                     \n",
       "Electric                            1.0                   0.0   \n",
       "Geared Turbofan                     0.0                   0.0   \n",
       "Hybrid Rocket                       0.0                   1.0   \n",
       "LR                                 21.0                   3.0   \n",
       "None                                8.0                   7.0   \n",
       "Reciprocating                   13366.0               17157.0   \n",
       "Turbo Fan                        1812.0                3279.0   \n",
       "Turbo Jet                         234.0                 363.0   \n",
       "Turbo Prop                        671.0                 885.0   \n",
       "Turbo Shaft                      1204.0                1530.0   \n",
       "UNK                                 0.0                   2.0   \n",
       "Unknown                           875.0                1489.0   \n",
       "\n",
       "                 Total.Uninjured  Total Passengers  Ratio Uninjured  \n",
       "Engine.Type                                                          \n",
       "Electric                     7.0              10.0         0.700000  \n",
       "Geared Turbofan            121.0             121.0         1.000000  \n",
       "Hybrid Rocket                0.0               2.0         0.000000  \n",
       "LR                          11.0              35.0         0.314286  \n",
       "None                        65.0              81.0         0.802469  \n",
       "Reciprocating            72941.0          126589.0         0.576203  \n",
       "Turbo Fan               194409.0          203919.0         0.953364  \n",
       "Turbo Jet                32504.0           33942.0         0.957634  \n",
       "Turbo Prop               14836.0           18840.0         0.787473  \n",
       "Turbo Shaft               4789.0            9189.0         0.521167  \n",
       "UNK                          0.0               2.0         0.000000  \n",
       "Unknown                  10440.0           16196.0         0.644604  "
      ]
     },
     "execution_count": 106,
     "metadata": {},
     "output_type": "execute_result"
    }
   ],
   "source": [
    "engine_types"
   ]
  },
  {
   "cell_type": "code",
   "execution_count": 107,
   "metadata": {},
   "outputs": [],
   "source": [
    "engine_types['Ratio Uninjured'] = engine_types['Ratio Uninjured']*100 "
   ]
  },
  {
   "cell_type": "code",
   "execution_count": 108,
   "metadata": {},
   "outputs": [],
   "source": [
    "#making the column into a percentage format\n",
    "#engine_types['Ratio Uninjured'] = engine_types['Ratio Uninjured']*100 \n",
    "#engine_types['Ratio Uninjured'] = engine_types['Ratio Uninjured'].map('{:.2%}'.format)"
   ]
  },
  {
   "cell_type": "code",
   "execution_count": 109,
   "metadata": {
    "scrolled": true
   },
   "outputs": [
    {
     "name": "stderr",
     "output_type": "stream",
     "text": [
      "<ipython-input-109-b3bddda0bf0e>:5: UserWarning: FixedFormatter should only be used together with FixedLocator\n",
      "  ax.set_yticklabels(y_value)\n"
     ]
    },
    {
     "data": {
      "image/png": "[encoded data removed]",
      "text/plain": [
       "<Figure size 1440x576 with 1 Axes>"
      ]
     },
     "metadata": {
      "needs_background": "light"
     },
     "output_type": "display_data"
    }
   ],
   "source": [
    "fig, ax = plt.subplots(figsize=(20,8))\n",
    "\n",
    "sns.barplot(x=engine_types.index, y=engine_types['Ratio Uninjured'])\n",
    "y_value=['{:,.2f}'.format(x) + '%' for x in ax.get_yticks()]\n",
    "ax.set_yticklabels(y_value)\n",
    "ax.set_title('Percentage of Passengers Uninjured by Engine Type')\n",
    "ax.set_xlabel('Engine Type')\n",
    "ax.set_ylabel('Percentage of Passengers Uninjured');"
   ]
  },
  {
   "cell_type": "markdown",
   "metadata": {},
   "source": [
    "*Over 95% of passengers on Turbo Fan and Turbo Jet planes are uninjured. "
   ]
  },
  {
   "cell_type": "markdown",
   "metadata": {},
   "source": [
    "# 4A. AIRCRAFT DAMAGE - Trend Exploration"
   ]
  },
  {
   "cell_type": "markdown",
   "metadata": {},
   "source": [
    "Performed by: Kendall"
   ]
  },
  {
   "cell_type": "code",
   "execution_count": 58,
   "metadata": {
    "scrolled": true
   },
   "outputs": [
    {
     "data": {
      "image/png": "[encoded data removed]",
      "text/plain": [
       "<Figure size 1440x576 with 1 Axes>"
      ]
     },
     "metadata": {
      "needs_background": "light"
     },
     "output_type": "display_data"
    }
   ],
   "source": [
    "fig, ax = plt.subplots(figsize=(20,8))\n",
    "\n",
    "sns.barplot(x=aviation['Aircraft.damage'], y=aviation['Number.of.Engines'])\n",
    "\n",
    "ax.set_title('Number of Engines and Aircraft Damage')\n",
    "ax.set_xlabel('Aircraft Damage')\n",
    "ax.set_ylabel('Number of Engines');"
   ]
  },
  {
   "cell_type": "code",
   "execution_count": 59,
   "metadata": {
    "scrolled": true
   },
   "outputs": [
    {
     "data": {
      "text/html": [
       "<div>\n",
       "<style scoped>\n",
       "    .dataframe tbody tr th:only-of-type {\n",
       "        vertical-align: middle;\n",
       "    }\n",
       "\n",
       "    .dataframe tbody tr th {\n",
       "        vertical-align: top;\n",
       "    }\n",
       "\n",
       "    .dataframe thead th {\n",
       "        text-align: right;\n",
       "    }\n",
       "</style>\n",
       "<table border=\"1\" class=\"dataframe\">\n",
       "  <thead>\n",
       "    <tr style=\"text-align: right;\">\n",
       "      <th></th>\n",
       "      <th>Number.of.Engines</th>\n",
       "      <th>Total.Fatal.Injuries</th>\n",
       "      <th>Total.Serious.Injuries</th>\n",
       "      <th>Total.Minor.Injuries</th>\n",
       "      <th>Total.Uninjured</th>\n",
       "    </tr>\n",
       "    <tr>\n",
       "      <th>Aircraft.damage</th>\n",
       "      <th></th>\n",
       "      <th></th>\n",
       "      <th></th>\n",
       "      <th></th>\n",
       "      <th></th>\n",
       "    </tr>\n",
       "  </thead>\n",
       "  <tbody>\n",
       "    <tr>\n",
       "      <th>Destroyed</th>\n",
       "      <td>19650.0</td>\n",
       "      <td>39366.0</td>\n",
       "      <td>6836.0</td>\n",
       "      <td>5972.0</td>\n",
       "      <td>8403.0</td>\n",
       "    </tr>\n",
       "    <tr>\n",
       "      <th>Minor</th>\n",
       "      <td>3918.0</td>\n",
       "      <td>275.0</td>\n",
       "      <td>461.0</td>\n",
       "      <td>1727.0</td>\n",
       "      <td>104974.0</td>\n",
       "    </tr>\n",
       "    <tr>\n",
       "      <th>Substantial</th>\n",
       "      <td>66512.0</td>\n",
       "      <td>7660.0</td>\n",
       "      <td>12147.0</td>\n",
       "      <td>17335.0</td>\n",
       "      <td>145011.0</td>\n",
       "    </tr>\n",
       "    <tr>\n",
       "      <th>Unknown</th>\n",
       "      <td>68.0</td>\n",
       "      <td>55.0</td>\n",
       "      <td>16.0</td>\n",
       "      <td>25.0</td>\n",
       "      <td>477.0</td>\n",
       "    </tr>\n",
       "  </tbody>\n",
       "</table>\n",
       "</div>"
      ],
      "text/plain": [
       "                 Number.of.Engines  Total.Fatal.Injuries  \\\n",
       "Aircraft.damage                                            \n",
       "Destroyed                  19650.0               39366.0   \n",
       "Minor                       3918.0                 275.0   \n",
       "Substantial                66512.0                7660.0   \n",
       "Unknown                       68.0                  55.0   \n",
       "\n",
       "                 Total.Serious.Injuries  Total.Minor.Injuries  Total.Uninjured  \n",
       "Aircraft.damage                                                                 \n",
       "Destroyed                        6836.0                5972.0           8403.0  \n",
       "Minor                             461.0                1727.0         104974.0  \n",
       "Substantial                     12147.0               17335.0         145011.0  \n",
       "Unknown                            16.0                  25.0            477.0  "
      ]
     },
     "execution_count": 59,
     "metadata": {},
     "output_type": "execute_result"
    }
   ],
   "source": [
    "aviation.groupby('Aircraft.damage').sum()"
   ]
  },
  {
   "cell_type": "code",
   "execution_count": 60,
   "metadata": {
    "scrolled": true
   },
   "outputs": [
    {
     "data": {
      "text/html": [
       "<div>\n",
       "<style scoped>\n",
       "    .dataframe tbody tr th:only-of-type {\n",
       "        vertical-align: middle;\n",
       "    }\n",
       "\n",
       "    .dataframe tbody tr th {\n",
       "        vertical-align: top;\n",
       "    }\n",
       "\n",
       "    .dataframe thead th {\n",
       "        text-align: right;\n",
       "    }\n",
       "</style>\n",
       "<table border=\"1\" class=\"dataframe\">\n",
       "  <thead>\n",
       "    <tr style=\"text-align: right;\">\n",
       "      <th></th>\n",
       "      <th>Number.of.Engines</th>\n",
       "      <th>Total.Fatal.Injuries</th>\n",
       "      <th>Total.Serious.Injuries</th>\n",
       "      <th>Total.Minor.Injuries</th>\n",
       "      <th>Total.Uninjured</th>\n",
       "    </tr>\n",
       "    <tr>\n",
       "      <th>Aircraft.damage</th>\n",
       "      <th></th>\n",
       "      <th></th>\n",
       "      <th></th>\n",
       "      <th></th>\n",
       "      <th></th>\n",
       "    </tr>\n",
       "  </thead>\n",
       "  <tbody>\n",
       "    <tr>\n",
       "      <th>Destroyed</th>\n",
       "      <td>1.183022</td>\n",
       "      <td>2.238358</td>\n",
       "      <td>0.427758</td>\n",
       "      <td>0.378598</td>\n",
       "      <td>0.534100</td>\n",
       "    </tr>\n",
       "    <tr>\n",
       "      <th>Minor</th>\n",
       "      <td>1.910288</td>\n",
       "      <td>0.123043</td>\n",
       "      <td>0.205162</td>\n",
       "      <td>0.770638</td>\n",
       "      <td>41.312082</td>\n",
       "    </tr>\n",
       "    <tr>\n",
       "      <th>Substantial</th>\n",
       "      <td>1.105328</td>\n",
       "      <td>0.143850</td>\n",
       "      <td>0.226644</td>\n",
       "      <td>0.317986</td>\n",
       "      <td>2.427694</td>\n",
       "    </tr>\n",
       "    <tr>\n",
       "      <th>Unknown</th>\n",
       "      <td>1.152542</td>\n",
       "      <td>0.470085</td>\n",
       "      <td>0.136752</td>\n",
       "      <td>0.213675</td>\n",
       "      <td>4.076923</td>\n",
       "    </tr>\n",
       "  </tbody>\n",
       "</table>\n",
       "</div>"
      ],
      "text/plain": [
       "                 Number.of.Engines  Total.Fatal.Injuries  \\\n",
       "Aircraft.damage                                            \n",
       "Destroyed                 1.183022              2.238358   \n",
       "Minor                     1.910288              0.123043   \n",
       "Substantial               1.105328              0.143850   \n",
       "Unknown                   1.152542              0.470085   \n",
       "\n",
       "                 Total.Serious.Injuries  Total.Minor.Injuries  Total.Uninjured  \n",
       "Aircraft.damage                                                                 \n",
       "Destroyed                      0.427758              0.378598         0.534100  \n",
       "Minor                          0.205162              0.770638        41.312082  \n",
       "Substantial                    0.226644              0.317986         2.427694  \n",
       "Unknown                        0.136752              0.213675         4.076923  "
      ]
     },
     "execution_count": 60,
     "metadata": {},
     "output_type": "execute_result"
    }
   ],
   "source": [
    "aviation.groupby('Aircraft.damage').mean()"
   ]
  },
  {
   "cell_type": "code",
   "execution_count": 61,
   "metadata": {
    "scrolled": false
   },
   "outputs": [
    {
     "data": {
      "image/png": "[encoded data removed]",
      "text/plain": [
       "<Figure size 1440x576 with 1 Axes>"
      ]
     },
     "metadata": {
      "needs_background": "light"
     },
     "output_type": "display_data"
    }
   ],
   "source": [
    "fig, ax = plt.subplots(figsize=(20,8))\n",
    "\n",
    "sns.barplot(x=aviation['Aircraft.damage'], y=aviation['Total.Fatal.Injuries'])\n",
    "\n",
    "ax.set_title('Aircraft Damage and Total Fatal Injuries')\n",
    "ax.set_xlabel('Aircraft Damage')\n",
    "ax.set_ylabel('Total Fatal Injuries');"
   ]
  },
  {
   "cell_type": "code",
   "execution_count": 62,
   "metadata": {
    "scrolled": true
   },
   "outputs": [
    {
     "data": {
      "text/html": [
       "<div>\n",
       "<style scoped>\n",
       "    .dataframe tbody tr th:only-of-type {\n",
       "        vertical-align: middle;\n",
       "    }\n",
       "\n",
       "    .dataframe tbody tr th {\n",
       "        vertical-align: top;\n",
       "    }\n",
       "\n",
       "    .dataframe thead th {\n",
       "        text-align: right;\n",
       "    }\n",
       "</style>\n",
       "<table border=\"1\" class=\"dataframe\">\n",
       "  <thead>\n",
       "    <tr style=\"text-align: right;\">\n",
       "      <th></th>\n",
       "      <th></th>\n",
       "      <th>Total.Fatal.Injuries</th>\n",
       "      <th>Total.Serious.Injuries</th>\n",
       "      <th>Total.Minor.Injuries</th>\n",
       "      <th>Total.Uninjured</th>\n",
       "    </tr>\n",
       "    <tr>\n",
       "      <th>Aircraft.damage</th>\n",
       "      <th>Number.of.Engines</th>\n",
       "      <th></th>\n",
       "      <th></th>\n",
       "      <th></th>\n",
       "      <th></th>\n",
       "    </tr>\n",
       "  </thead>\n",
       "  <tbody>\n",
       "    <tr>\n",
       "      <th rowspan=\"4\" valign=\"top\">Destroyed</th>\n",
       "      <th>1.0</th>\n",
       "      <td>1.209835</td>\n",
       "      <td>0.332518</td>\n",
       "      <td>0.276398</td>\n",
       "      <td>0.254960</td>\n",
       "    </tr>\n",
       "    <tr>\n",
       "      <th>2.0</th>\n",
       "      <td>3.244898</td>\n",
       "      <td>0.505700</td>\n",
       "      <td>0.546093</td>\n",
       "      <td>0.729201</td>\n",
       "    </tr>\n",
       "    <tr>\n",
       "      <th>3.0</th>\n",
       "      <td>43.111111</td>\n",
       "      <td>6.368421</td>\n",
       "      <td>13.315789</td>\n",
       "      <td>29.888889</td>\n",
       "    </tr>\n",
       "    <tr>\n",
       "      <th>4.0</th>\n",
       "      <td>30.185185</td>\n",
       "      <td>2.489796</td>\n",
       "      <td>0.877551</td>\n",
       "      <td>5.958333</td>\n",
       "    </tr>\n",
       "    <tr>\n",
       "      <th rowspan=\"4\" valign=\"top\">Minor</th>\n",
       "      <th>1.0</th>\n",
       "      <td>0.107692</td>\n",
       "      <td>0.127731</td>\n",
       "      <td>0.104274</td>\n",
       "      <td>2.282407</td>\n",
       "    </tr>\n",
       "    <tr>\n",
       "      <th>2.0</th>\n",
       "      <td>0.204545</td>\n",
       "      <td>0.159215</td>\n",
       "      <td>0.541893</td>\n",
       "      <td>47.590521</td>\n",
       "    </tr>\n",
       "    <tr>\n",
       "      <th>3.0</th>\n",
       "      <td>0.023256</td>\n",
       "      <td>0.580460</td>\n",
       "      <td>2.086207</td>\n",
       "      <td>112.520833</td>\n",
       "    </tr>\n",
       "    <tr>\n",
       "      <th>4.0</th>\n",
       "      <td>0.000000</td>\n",
       "      <td>0.274194</td>\n",
       "      <td>1.184000</td>\n",
       "      <td>102.949640</td>\n",
       "    </tr>\n",
       "    <tr>\n",
       "      <th rowspan=\"6\" valign=\"top\">Substantial</th>\n",
       "      <th>1.0</th>\n",
       "      <td>0.117554</td>\n",
       "      <td>0.205748</td>\n",
       "      <td>0.299101</td>\n",
       "      <td>1.267851</td>\n",
       "    </tr>\n",
       "    <tr>\n",
       "      <th>2.0</th>\n",
       "      <td>0.179160</td>\n",
       "      <td>0.272653</td>\n",
       "      <td>0.379891</td>\n",
       "      <td>8.489107</td>\n",
       "    </tr>\n",
       "    <tr>\n",
       "      <th>3.0</th>\n",
       "      <td>1.025974</td>\n",
       "      <td>0.333333</td>\n",
       "      <td>2.207792</td>\n",
       "      <td>68.204082</td>\n",
       "    </tr>\n",
       "    <tr>\n",
       "      <th>4.0</th>\n",
       "      <td>0.168421</td>\n",
       "      <td>0.210526</td>\n",
       "      <td>1.114583</td>\n",
       "      <td>70.800000</td>\n",
       "    </tr>\n",
       "    <tr>\n",
       "      <th>6.0</th>\n",
       "      <td>0.000000</td>\n",
       "      <td>0.000000</td>\n",
       "      <td>0.000000</td>\n",
       "      <td>0.000000</td>\n",
       "    </tr>\n",
       "    <tr>\n",
       "      <th>8.0</th>\n",
       "      <td>0.000000</td>\n",
       "      <td>4.000000</td>\n",
       "      <td>0.500000</td>\n",
       "      <td>5.000000</td>\n",
       "    </tr>\n",
       "    <tr>\n",
       "      <th rowspan=\"2\" valign=\"top\">Unknown</th>\n",
       "      <th>1.0</th>\n",
       "      <td>0.260000</td>\n",
       "      <td>0.280000</td>\n",
       "      <td>0.240000</td>\n",
       "      <td>0.900000</td>\n",
       "    </tr>\n",
       "    <tr>\n",
       "      <th>2.0</th>\n",
       "      <td>0.222222</td>\n",
       "      <td>0.000000</td>\n",
       "      <td>0.777778</td>\n",
       "      <td>1.666667</td>\n",
       "    </tr>\n",
       "  </tbody>\n",
       "</table>\n",
       "</div>"
      ],
      "text/plain": [
       "                                   Total.Fatal.Injuries  \\\n",
       "Aircraft.damage Number.of.Engines                         \n",
       "Destroyed       1.0                            1.209835   \n",
       "                2.0                            3.244898   \n",
       "                3.0                           43.111111   \n",
       "                4.0                           30.185185   \n",
       "Minor           1.0                            0.107692   \n",
       "                2.0                            0.204545   \n",
       "                3.0                            0.023256   \n",
       "                4.0                            0.000000   \n",
       "Substantial     1.0                            0.117554   \n",
       "                2.0                            0.179160   \n",
       "                3.0                            1.025974   \n",
       "                4.0                            0.168421   \n",
       "                6.0                            0.000000   \n",
       "                8.0                            0.000000   \n",
       "Unknown         1.0                            0.260000   \n",
       "                2.0                            0.222222   \n",
       "\n",
       "                                   Total.Serious.Injuries  \\\n",
       "Aircraft.damage Number.of.Engines                           \n",
       "Destroyed       1.0                              0.332518   \n",
       "                2.0                              0.505700   \n",
       "                3.0                              6.368421   \n",
       "                4.0                              2.489796   \n",
       "Minor           1.0                              0.127731   \n",
       "                2.0                              0.159215   \n",
       "                3.0                              0.580460   \n",
       "                4.0                              0.274194   \n",
       "Substantial     1.0                              0.205748   \n",
       "                2.0                              0.272653   \n",
       "                3.0                              0.333333   \n",
       "                4.0                              0.210526   \n",
       "                6.0                              0.000000   \n",
       "                8.0                              4.000000   \n",
       "Unknown         1.0                              0.280000   \n",
       "                2.0                              0.000000   \n",
       "\n",
       "                                   Total.Minor.Injuries  Total.Uninjured  \n",
       "Aircraft.damage Number.of.Engines                                         \n",
       "Destroyed       1.0                            0.276398         0.254960  \n",
       "                2.0                            0.546093         0.729201  \n",
       "                3.0                           13.315789        29.888889  \n",
       "                4.0                            0.877551         5.958333  \n",
       "Minor           1.0                            0.104274         2.282407  \n",
       "                2.0                            0.541893        47.590521  \n",
       "                3.0                            2.086207       112.520833  \n",
       "                4.0                            1.184000       102.949640  \n",
       "Substantial     1.0                            0.299101         1.267851  \n",
       "                2.0                            0.379891         8.489107  \n",
       "                3.0                            2.207792        68.204082  \n",
       "                4.0                            1.114583        70.800000  \n",
       "                6.0                            0.000000         0.000000  \n",
       "                8.0                            0.500000         5.000000  \n",
       "Unknown         1.0                            0.240000         0.900000  \n",
       "                2.0                            0.777778         1.666667  "
      ]
     },
     "execution_count": 62,
     "metadata": {},
     "output_type": "execute_result"
    }
   ],
   "source": [
    "aviation.groupby(['Aircraft.damage','Number.of.Engines']).mean()"
   ]
  },
  {
   "cell_type": "code",
   "execution_count": 63,
   "metadata": {},
   "outputs": [
    {
     "data": {
      "text/html": [
       "<div>\n",
       "<style scoped>\n",
       "    .dataframe tbody tr th:only-of-type {\n",
       "        vertical-align: middle;\n",
       "    }\n",
       "\n",
       "    .dataframe tbody tr th {\n",
       "        vertical-align: top;\n",
       "    }\n",
       "\n",
       "    .dataframe thead th {\n",
       "        text-align: right;\n",
       "    }\n",
       "</style>\n",
       "<table border=\"1\" class=\"dataframe\">\n",
       "  <thead>\n",
       "    <tr style=\"text-align: right;\">\n",
       "      <th></th>\n",
       "      <th></th>\n",
       "      <th>Total.Fatal.Injuries</th>\n",
       "      <th>Total.Serious.Injuries</th>\n",
       "      <th>Total.Minor.Injuries</th>\n",
       "      <th>Total.Uninjured</th>\n",
       "    </tr>\n",
       "    <tr>\n",
       "      <th>Number.of.Engines</th>\n",
       "      <th>Engine.Type</th>\n",
       "      <th></th>\n",
       "      <th></th>\n",
       "      <th></th>\n",
       "      <th></th>\n",
       "    </tr>\n",
       "  </thead>\n",
       "  <tbody>\n",
       "    <tr>\n",
       "      <th rowspan=\"10\" valign=\"top\">1.0</th>\n",
       "      <th>Electric</th>\n",
       "      <td>0.250000</td>\n",
       "      <td>0.250000</td>\n",
       "      <td>0.000000</td>\n",
       "      <td>0.500000</td>\n",
       "    </tr>\n",
       "    <tr>\n",
       "      <th>Hybrid Rocket</th>\n",
       "      <td>1.000000</td>\n",
       "      <td>0.000000</td>\n",
       "      <td>1.000000</td>\n",
       "      <td>0.000000</td>\n",
       "    </tr>\n",
       "    <tr>\n",
       "      <th>None</th>\n",
       "      <td>0.000000</td>\n",
       "      <td>0.800000</td>\n",
       "      <td>0.400000</td>\n",
       "      <td>8.400000</td>\n",
       "    </tr>\n",
       "    <tr>\n",
       "      <th>Reciprocating</th>\n",
       "      <td>0.343138</td>\n",
       "      <td>0.223722</td>\n",
       "      <td>0.285287</td>\n",
       "      <td>1.090234</td>\n",
       "    </tr>\n",
       "    <tr>\n",
       "      <th>Turbo Fan</th>\n",
       "      <td>0.840000</td>\n",
       "      <td>0.157895</td>\n",
       "      <td>0.500000</td>\n",
       "      <td>19.315789</td>\n",
       "    </tr>\n",
       "    <tr>\n",
       "      <th>Turbo Jet</th>\n",
       "      <td>0.593023</td>\n",
       "      <td>0.250000</td>\n",
       "      <td>0.205128</td>\n",
       "      <td>0.607143</td>\n",
       "    </tr>\n",
       "    <tr>\n",
       "      <th>Turbo Prop</th>\n",
       "      <td>0.509322</td>\n",
       "      <td>0.214539</td>\n",
       "      <td>0.250214</td>\n",
       "      <td>1.215866</td>\n",
       "    </tr>\n",
       "    <tr>\n",
       "      <th>Turbo Shaft</th>\n",
       "      <td>0.488731</td>\n",
       "      <td>0.397076</td>\n",
       "      <td>0.492218</td>\n",
       "      <td>1.338267</td>\n",
       "    </tr>\n",
       "    <tr>\n",
       "      <th>UNK</th>\n",
       "      <td>0.000000</td>\n",
       "      <td>0.000000</td>\n",
       "      <td>2.000000</td>\n",
       "      <td>0.000000</td>\n",
       "    </tr>\n",
       "    <tr>\n",
       "      <th>Unknown</th>\n",
       "      <td>0.381818</td>\n",
       "      <td>0.333333</td>\n",
       "      <td>0.263158</td>\n",
       "      <td>10.423729</td>\n",
       "    </tr>\n",
       "    <tr>\n",
       "      <th rowspan=\"8\" valign=\"top\">2.0</th>\n",
       "      <th>Geared Turbofan</th>\n",
       "      <td>0.000000</td>\n",
       "      <td>0.000000</td>\n",
       "      <td>0.000000</td>\n",
       "      <td>11.000000</td>\n",
       "    </tr>\n",
       "    <tr>\n",
       "      <th>None</th>\n",
       "      <td>0.000000</td>\n",
       "      <td>3.000000</td>\n",
       "      <td>0.000000</td>\n",
       "      <td>1.000000</td>\n",
       "    </tr>\n",
       "    <tr>\n",
       "      <th>Reciprocating</th>\n",
       "      <td>0.767911</td>\n",
       "      <td>0.227868</td>\n",
       "      <td>0.287195</td>\n",
       "      <td>1.563421</td>\n",
       "    </tr>\n",
       "    <tr>\n",
       "      <th>Turbo Fan</th>\n",
       "      <td>1.562312</td>\n",
       "      <td>0.853852</td>\n",
       "      <td>1.298013</td>\n",
       "      <td>73.327879</td>\n",
       "    </tr>\n",
       "    <tr>\n",
       "      <th>Turbo Jet</th>\n",
       "      <td>1.081921</td>\n",
       "      <td>0.501393</td>\n",
       "      <td>0.572650</td>\n",
       "      <td>45.157005</td>\n",
       "    </tr>\n",
       "    <tr>\n",
       "      <th>Turbo Prop</th>\n",
       "      <td>1.074675</td>\n",
       "      <td>0.275792</td>\n",
       "      <td>0.370946</td>\n",
       "      <td>7.824029</td>\n",
       "    </tr>\n",
       "    <tr>\n",
       "      <th>Turbo Shaft</th>\n",
       "      <td>0.912833</td>\n",
       "      <td>0.414216</td>\n",
       "      <td>0.577670</td>\n",
       "      <td>2.191209</td>\n",
       "    </tr>\n",
       "    <tr>\n",
       "      <th>Unknown</th>\n",
       "      <td>0.555556</td>\n",
       "      <td>0.315789</td>\n",
       "      <td>0.176471</td>\n",
       "      <td>39.944444</td>\n",
       "    </tr>\n",
       "    <tr>\n",
       "      <th rowspan=\"4\" valign=\"top\">3.0</th>\n",
       "      <th>Reciprocating</th>\n",
       "      <td>0.000000</td>\n",
       "      <td>0.400000</td>\n",
       "      <td>1.200000</td>\n",
       "      <td>4.250000</td>\n",
       "    </tr>\n",
       "    <tr>\n",
       "      <th>Turbo Fan</th>\n",
       "      <td>2.333333</td>\n",
       "      <td>0.979592</td>\n",
       "      <td>3.568966</td>\n",
       "      <td>111.375000</td>\n",
       "    </tr>\n",
       "    <tr>\n",
       "      <th>Turbo Jet</th>\n",
       "      <td>0.094118</td>\n",
       "      <td>0.238636</td>\n",
       "      <td>1.094118</td>\n",
       "      <td>96.073684</td>\n",
       "    </tr>\n",
       "    <tr>\n",
       "      <th>Unknown</th>\n",
       "      <td>0.000000</td>\n",
       "      <td>0.000000</td>\n",
       "      <td>0.500000</td>\n",
       "      <td>8.000000</td>\n",
       "    </tr>\n",
       "    <tr>\n",
       "      <th rowspan=\"7\" valign=\"top\">4.0</th>\n",
       "      <th>Electric</th>\n",
       "      <td>0.000000</td>\n",
       "      <td>0.000000</td>\n",
       "      <td>0.000000</td>\n",
       "      <td>1.666667</td>\n",
       "    </tr>\n",
       "    <tr>\n",
       "      <th>None</th>\n",
       "      <td>0.000000</td>\n",
       "      <td>0.000000</td>\n",
       "      <td>1.000000</td>\n",
       "      <td>14.000000</td>\n",
       "    </tr>\n",
       "    <tr>\n",
       "      <th>Reciprocating</th>\n",
       "      <td>1.122449</td>\n",
       "      <td>0.255319</td>\n",
       "      <td>0.395833</td>\n",
       "      <td>2.192308</td>\n",
       "    </tr>\n",
       "    <tr>\n",
       "      <th>Turbo Fan</th>\n",
       "      <td>6.153061</td>\n",
       "      <td>0.950000</td>\n",
       "      <td>2.115578</td>\n",
       "      <td>139.324561</td>\n",
       "    </tr>\n",
       "    <tr>\n",
       "      <th>Turbo Jet</th>\n",
       "      <td>6.181818</td>\n",
       "      <td>0.222222</td>\n",
       "      <td>0.869565</td>\n",
       "      <td>86.833333</td>\n",
       "    </tr>\n",
       "    <tr>\n",
       "      <th>Turbo Prop</th>\n",
       "      <td>3.375000</td>\n",
       "      <td>0.193548</td>\n",
       "      <td>0.666667</td>\n",
       "      <td>7.852941</td>\n",
       "    </tr>\n",
       "    <tr>\n",
       "      <th>Unknown</th>\n",
       "      <td>0.000000</td>\n",
       "      <td>0.000000</td>\n",
       "      <td>0.500000</td>\n",
       "      <td>108.000000</td>\n",
       "    </tr>\n",
       "    <tr>\n",
       "      <th rowspan=\"2\" valign=\"top\">8.0</th>\n",
       "      <th>Electric</th>\n",
       "      <td>0.000000</td>\n",
       "      <td>0.000000</td>\n",
       "      <td>0.000000</td>\n",
       "      <td>0.000000</td>\n",
       "    </tr>\n",
       "    <tr>\n",
       "      <th>LR</th>\n",
       "      <td>0.000000</td>\n",
       "      <td>10.500000</td>\n",
       "      <td>1.500000</td>\n",
       "      <td>5.500000</td>\n",
       "    </tr>\n",
       "  </tbody>\n",
       "</table>\n",
       "</div>"
      ],
      "text/plain": [
       "                                   Total.Fatal.Injuries  \\\n",
       "Number.of.Engines Engine.Type                             \n",
       "1.0               Electric                     0.250000   \n",
       "                  Hybrid Rocket                1.000000   \n",
       "                  None                         0.000000   \n",
       "                  Reciprocating                0.343138   \n",
       "                  Turbo Fan                    0.840000   \n",
       "                  Turbo Jet                    0.593023   \n",
       "                  Turbo Prop                   0.509322   \n",
       "                  Turbo Shaft                  0.488731   \n",
       "                  UNK                          0.000000   \n",
       "                  Unknown                      0.381818   \n",
       "2.0               Geared Turbofan              0.000000   \n",
       "                  None                         0.000000   \n",
       "                  Reciprocating                0.767911   \n",
       "                  Turbo Fan                    1.562312   \n",
       "                  Turbo Jet                    1.081921   \n",
       "                  Turbo Prop                   1.074675   \n",
       "                  Turbo Shaft                  0.912833   \n",
       "                  Unknown                      0.555556   \n",
       "3.0               Reciprocating                0.000000   \n",
       "                  Turbo Fan                    2.333333   \n",
       "                  Turbo Jet                    0.094118   \n",
       "                  Unknown                      0.000000   \n",
       "4.0               Electric                     0.000000   \n",
       "                  None                         0.000000   \n",
       "                  Reciprocating                1.122449   \n",
       "                  Turbo Fan                    6.153061   \n",
       "                  Turbo Jet                    6.181818   \n",
       "                  Turbo Prop                   3.375000   \n",
       "                  Unknown                      0.000000   \n",
       "8.0               Electric                     0.000000   \n",
       "                  LR                           0.000000   \n",
       "\n",
       "                                   Total.Serious.Injuries  \\\n",
       "Number.of.Engines Engine.Type                               \n",
       "1.0               Electric                       0.250000   \n",
       "                  Hybrid Rocket                  0.000000   \n",
       "                  None                           0.800000   \n",
       "                  Reciprocating                  0.223722   \n",
       "                  Turbo Fan                      0.157895   \n",
       "                  Turbo Jet                      0.250000   \n",
       "                  Turbo Prop                     0.214539   \n",
       "                  Turbo Shaft                    0.397076   \n",
       "                  UNK                            0.000000   \n",
       "                  Unknown                        0.333333   \n",
       "2.0               Geared Turbofan                0.000000   \n",
       "                  None                           3.000000   \n",
       "                  Reciprocating                  0.227868   \n",
       "                  Turbo Fan                      0.853852   \n",
       "                  Turbo Jet                      0.501393   \n",
       "                  Turbo Prop                     0.275792   \n",
       "                  Turbo Shaft                    0.414216   \n",
       "                  Unknown                        0.315789   \n",
       "3.0               Reciprocating                  0.400000   \n",
       "                  Turbo Fan                      0.979592   \n",
       "                  Turbo Jet                      0.238636   \n",
       "                  Unknown                        0.000000   \n",
       "4.0               Electric                       0.000000   \n",
       "                  None                           0.000000   \n",
       "                  Reciprocating                  0.255319   \n",
       "                  Turbo Fan                      0.950000   \n",
       "                  Turbo Jet                      0.222222   \n",
       "                  Turbo Prop                     0.193548   \n",
       "                  Unknown                        0.000000   \n",
       "8.0               Electric                       0.000000   \n",
       "                  LR                            10.500000   \n",
       "\n",
       "                                   Total.Minor.Injuries  Total.Uninjured  \n",
       "Number.of.Engines Engine.Type                                             \n",
       "1.0               Electric                     0.000000         0.500000  \n",
       "                  Hybrid Rocket                1.000000         0.000000  \n",
       "                  None                         0.400000         8.400000  \n",
       "                  Reciprocating                0.285287         1.090234  \n",
       "                  Turbo Fan                    0.500000        19.315789  \n",
       "                  Turbo Jet                    0.205128         0.607143  \n",
       "                  Turbo Prop                   0.250214         1.215866  \n",
       "                  Turbo Shaft                  0.492218         1.338267  \n",
       "                  UNK                          2.000000         0.000000  \n",
       "                  Unknown                      0.263158        10.423729  \n",
       "2.0               Geared Turbofan              0.000000        11.000000  \n",
       "                  None                         0.000000         1.000000  \n",
       "                  Reciprocating                0.287195         1.563421  \n",
       "                  Turbo Fan                    1.298013        73.327879  \n",
       "                  Turbo Jet                    0.572650        45.157005  \n",
       "                  Turbo Prop                   0.370946         7.824029  \n",
       "                  Turbo Shaft                  0.577670         2.191209  \n",
       "                  Unknown                      0.176471        39.944444  \n",
       "3.0               Reciprocating                1.200000         4.250000  \n",
       "                  Turbo Fan                    3.568966       111.375000  \n",
       "                  Turbo Jet                    1.094118        96.073684  \n",
       "                  Unknown                      0.500000         8.000000  \n",
       "4.0               Electric                     0.000000         1.666667  \n",
       "                  None                         1.000000        14.000000  \n",
       "                  Reciprocating                0.395833         2.192308  \n",
       "                  Turbo Fan                    2.115578       139.324561  \n",
       "                  Turbo Jet                    0.869565        86.833333  \n",
       "                  Turbo Prop                   0.666667         7.852941  \n",
       "                  Unknown                      0.500000       108.000000  \n",
       "8.0               Electric                     0.000000         0.000000  \n",
       "                  LR                           1.500000         5.500000  "
      ]
     },
     "execution_count": 63,
     "metadata": {},
     "output_type": "execute_result"
    }
   ],
   "source": [
    "aviation.groupby(['Number.of.Engines','Engine.Type']).mean()"
   ]
  },
  {
   "cell_type": "code",
   "execution_count": 64,
   "metadata": {},
   "outputs": [],
   "source": [
    "pd.set_option('display.max_columns', None)"
   ]
  },
  {
   "cell_type": "code",
   "execution_count": 65,
   "metadata": {
    "scrolled": true
   },
   "outputs": [
    {
     "data": {
      "text/html": [
       "<div>\n",
       "<style scoped>\n",
       "    .dataframe tbody tr th:only-of-type {\n",
       "        vertical-align: middle;\n",
       "    }\n",
       "\n",
       "    .dataframe tbody tr th {\n",
       "        vertical-align: top;\n",
       "    }\n",
       "\n",
       "    .dataframe thead th {\n",
       "        text-align: right;\n",
       "    }\n",
       "</style>\n",
       "<table border=\"1\" class=\"dataframe\">\n",
       "  <thead>\n",
       "    <tr style=\"text-align: right;\">\n",
       "      <th></th>\n",
       "      <th></th>\n",
       "      <th>Total.Fatal.Injuries</th>\n",
       "      <th>Total.Serious.Injuries</th>\n",
       "      <th>Total.Minor.Injuries</th>\n",
       "      <th>Total.Uninjured</th>\n",
       "    </tr>\n",
       "    <tr>\n",
       "      <th>Number.of.Engines</th>\n",
       "      <th>Purpose.of.flight</th>\n",
       "      <th></th>\n",
       "      <th></th>\n",
       "      <th></th>\n",
       "      <th></th>\n",
       "    </tr>\n",
       "  </thead>\n",
       "  <tbody>\n",
       "    <tr>\n",
       "      <th rowspan=\"5\" valign=\"top\">1.0</th>\n",
       "      <th>ASHO</th>\n",
       "      <td>1.600000</td>\n",
       "      <td>0.200000</td>\n",
       "      <td>0.000000</td>\n",
       "      <td>0.200000</td>\n",
       "    </tr>\n",
       "    <tr>\n",
       "      <th>Aerial Application</th>\n",
       "      <td>0.115517</td>\n",
       "      <td>0.141089</td>\n",
       "      <td>0.187530</td>\n",
       "      <td>0.661354</td>\n",
       "    </tr>\n",
       "    <tr>\n",
       "      <th>Aerial Observation</th>\n",
       "      <td>0.511864</td>\n",
       "      <td>0.380623</td>\n",
       "      <td>0.409168</td>\n",
       "      <td>0.991790</td>\n",
       "    </tr>\n",
       "    <tr>\n",
       "      <th>Air Drop</th>\n",
       "      <td>0.142857</td>\n",
       "      <td>0.571429</td>\n",
       "      <td>0.000000</td>\n",
       "      <td>1.333333</td>\n",
       "    </tr>\n",
       "    <tr>\n",
       "      <th>Air Race show</th>\n",
       "      <td>0.437500</td>\n",
       "      <td>0.109375</td>\n",
       "      <td>0.109375</td>\n",
       "      <td>0.562500</td>\n",
       "    </tr>\n",
       "    <tr>\n",
       "      <th>...</th>\n",
       "      <th>...</th>\n",
       "      <td>...</td>\n",
       "      <td>...</td>\n",
       "      <td>...</td>\n",
       "      <td>...</td>\n",
       "    </tr>\n",
       "    <tr>\n",
       "      <th rowspan=\"2\" valign=\"top\">4.0</th>\n",
       "      <th>Public Aircraft - Federal</th>\n",
       "      <td>2.000000</td>\n",
       "      <td>0.000000</td>\n",
       "      <td>0.000000</td>\n",
       "      <td>3.000000</td>\n",
       "    </tr>\n",
       "    <tr>\n",
       "      <th>Unknown</th>\n",
       "      <td>7.068807</td>\n",
       "      <td>0.759091</td>\n",
       "      <td>1.671233</td>\n",
       "      <td>122.022422</td>\n",
       "    </tr>\n",
       "    <tr>\n",
       "      <th>6.0</th>\n",
       "      <th>Flight Test</th>\n",
       "      <td>0.000000</td>\n",
       "      <td>0.000000</td>\n",
       "      <td>0.000000</td>\n",
       "      <td>0.000000</td>\n",
       "    </tr>\n",
       "    <tr>\n",
       "      <th rowspan=\"2\" valign=\"top\">8.0</th>\n",
       "      <th>Business</th>\n",
       "      <td>0.000000</td>\n",
       "      <td>10.500000</td>\n",
       "      <td>1.500000</td>\n",
       "      <td>5.500000</td>\n",
       "    </tr>\n",
       "    <tr>\n",
       "      <th>Flight Test</th>\n",
       "      <td>0.000000</td>\n",
       "      <td>0.000000</td>\n",
       "      <td>0.000000</td>\n",
       "      <td>0.000000</td>\n",
       "    </tr>\n",
       "  </tbody>\n",
       "</table>\n",
       "<p>72 rows × 4 columns</p>\n",
       "</div>"
      ],
      "text/plain": [
       "                                             Total.Fatal.Injuries  \\\n",
       "Number.of.Engines Purpose.of.flight                                 \n",
       "1.0               ASHO                                   1.600000   \n",
       "                  Aerial Application                     0.115517   \n",
       "                  Aerial Observation                     0.511864   \n",
       "                  Air Drop                               0.142857   \n",
       "                  Air Race show                          0.437500   \n",
       "...                                                           ...   \n",
       "4.0               Public Aircraft - Federal              2.000000   \n",
       "                  Unknown                                7.068807   \n",
       "6.0               Flight Test                            0.000000   \n",
       "8.0               Business                               0.000000   \n",
       "                  Flight Test                            0.000000   \n",
       "\n",
       "                                             Total.Serious.Injuries  \\\n",
       "Number.of.Engines Purpose.of.flight                                   \n",
       "1.0               ASHO                                     0.200000   \n",
       "                  Aerial Application                       0.141089   \n",
       "                  Aerial Observation                       0.380623   \n",
       "                  Air Drop                                 0.571429   \n",
       "                  Air Race show                            0.109375   \n",
       "...                                                             ...   \n",
       "4.0               Public Aircraft - Federal                0.000000   \n",
       "                  Unknown                                  0.759091   \n",
       "6.0               Flight Test                              0.000000   \n",
       "8.0               Business                                10.500000   \n",
       "                  Flight Test                              0.000000   \n",
       "\n",
       "                                             Total.Minor.Injuries  \\\n",
       "Number.of.Engines Purpose.of.flight                                 \n",
       "1.0               ASHO                                   0.000000   \n",
       "                  Aerial Application                     0.187530   \n",
       "                  Aerial Observation                     0.409168   \n",
       "                  Air Drop                               0.000000   \n",
       "                  Air Race show                          0.109375   \n",
       "...                                                           ...   \n",
       "4.0               Public Aircraft - Federal              0.000000   \n",
       "                  Unknown                                1.671233   \n",
       "6.0               Flight Test                            0.000000   \n",
       "8.0               Business                               1.500000   \n",
       "                  Flight Test                            0.000000   \n",
       "\n",
       "                                             Total.Uninjured  \n",
       "Number.of.Engines Purpose.of.flight                           \n",
       "1.0               ASHO                              0.200000  \n",
       "                  Aerial Application                0.661354  \n",
       "                  Aerial Observation                0.991790  \n",
       "                  Air Drop                          1.333333  \n",
       "                  Air Race show                     0.562500  \n",
       "...                                                      ...  \n",
       "4.0               Public Aircraft - Federal         3.000000  \n",
       "                  Unknown                         122.022422  \n",
       "6.0               Flight Test                       0.000000  \n",
       "8.0               Business                          5.500000  \n",
       "                  Flight Test                       0.000000  \n",
       "\n",
       "[72 rows x 4 columns]"
      ]
     },
     "execution_count": 65,
     "metadata": {},
     "output_type": "execute_result"
    }
   ],
   "source": [
    "aviation.groupby(['Number.of.Engines','Purpose.of.flight']).mean()"
   ]
  },
  {
   "cell_type": "code",
   "execution_count": 66,
   "metadata": {},
   "outputs": [
    {
     "data": {
      "text/html": [
       "<div>\n",
       "<style scoped>\n",
       "    .dataframe tbody tr th:only-of-type {\n",
       "        vertical-align: middle;\n",
       "    }\n",
       "\n",
       "    .dataframe tbody tr th {\n",
       "        vertical-align: top;\n",
       "    }\n",
       "\n",
       "    .dataframe thead th {\n",
       "        text-align: right;\n",
       "    }\n",
       "</style>\n",
       "<table border=\"1\" class=\"dataframe\">\n",
       "  <thead>\n",
       "    <tr style=\"text-align: right;\">\n",
       "      <th></th>\n",
       "      <th>Number.of.Engines</th>\n",
       "      <th>Total.Fatal.Injuries</th>\n",
       "      <th>Total.Serious.Injuries</th>\n",
       "      <th>Total.Minor.Injuries</th>\n",
       "      <th>Total.Uninjured</th>\n",
       "    </tr>\n",
       "    <tr>\n",
       "      <th>Year</th>\n",
       "      <th></th>\n",
       "      <th></th>\n",
       "      <th></th>\n",
       "      <th></th>\n",
       "      <th></th>\n",
       "    </tr>\n",
       "  </thead>\n",
       "  <tbody>\n",
       "    <tr>\n",
       "      <th>1948</th>\n",
       "      <td>1.000000</td>\n",
       "      <td>2.000000</td>\n",
       "      <td>0.000000</td>\n",
       "      <td>0.000000</td>\n",
       "      <td>0.000000</td>\n",
       "    </tr>\n",
       "    <tr>\n",
       "      <th>1962</th>\n",
       "      <td>1.000000</td>\n",
       "      <td>4.000000</td>\n",
       "      <td>0.000000</td>\n",
       "      <td>0.000000</td>\n",
       "      <td>0.000000</td>\n",
       "    </tr>\n",
       "    <tr>\n",
       "      <th>1974</th>\n",
       "      <td>1.000000</td>\n",
       "      <td>3.000000</td>\n",
       "      <td>NaN</td>\n",
       "      <td>NaN</td>\n",
       "      <td>NaN</td>\n",
       "    </tr>\n",
       "    <tr>\n",
       "      <th>1977</th>\n",
       "      <td>1.000000</td>\n",
       "      <td>2.000000</td>\n",
       "      <td>0.000000</td>\n",
       "      <td>0.000000</td>\n",
       "      <td>0.000000</td>\n",
       "    </tr>\n",
       "    <tr>\n",
       "      <th>1979</th>\n",
       "      <td>2.000000</td>\n",
       "      <td>1.000000</td>\n",
       "      <td>2.000000</td>\n",
       "      <td>1.000000</td>\n",
       "      <td>22.000000</td>\n",
       "    </tr>\n",
       "    <tr>\n",
       "      <th>1981</th>\n",
       "      <td>1.000000</td>\n",
       "      <td>4.000000</td>\n",
       "      <td>0.000000</td>\n",
       "      <td>0.000000</td>\n",
       "      <td>0.000000</td>\n",
       "    </tr>\n",
       "    <tr>\n",
       "      <th>1982</th>\n",
       "      <td>1.161142</td>\n",
       "      <td>0.439478</td>\n",
       "      <td>0.197269</td>\n",
       "      <td>0.280569</td>\n",
       "      <td>2.353077</td>\n",
       "    </tr>\n",
       "    <tr>\n",
       "      <th>1983</th>\n",
       "      <td>1.168227</td>\n",
       "      <td>0.358915</td>\n",
       "      <td>0.188150</td>\n",
       "      <td>0.298322</td>\n",
       "      <td>3.978650</td>\n",
       "    </tr>\n",
       "    <tr>\n",
       "      <th>1984</th>\n",
       "      <td>1.182174</td>\n",
       "      <td>0.351642</td>\n",
       "      <td>0.199164</td>\n",
       "      <td>0.304569</td>\n",
       "      <td>3.347230</td>\n",
       "    </tr>\n",
       "    <tr>\n",
       "      <th>1985</th>\n",
       "      <td>1.178201</td>\n",
       "      <td>0.533865</td>\n",
       "      <td>0.192959</td>\n",
       "      <td>0.356383</td>\n",
       "      <td>3.491193</td>\n",
       "    </tr>\n",
       "    <tr>\n",
       "      <th>1986</th>\n",
       "      <td>1.164723</td>\n",
       "      <td>0.371152</td>\n",
       "      <td>0.212393</td>\n",
       "      <td>0.340265</td>\n",
       "      <td>3.826710</td>\n",
       "    </tr>\n",
       "    <tr>\n",
       "      <th>1987</th>\n",
       "      <td>1.191725</td>\n",
       "      <td>0.435991</td>\n",
       "      <td>0.197364</td>\n",
       "      <td>0.334674</td>\n",
       "      <td>4.880029</td>\n",
       "    </tr>\n",
       "    <tr>\n",
       "      <th>1988</th>\n",
       "      <td>1.169374</td>\n",
       "      <td>0.444103</td>\n",
       "      <td>0.228495</td>\n",
       "      <td>0.411923</td>\n",
       "      <td>4.658238</td>\n",
       "    </tr>\n",
       "    <tr>\n",
       "      <th>1989</th>\n",
       "      <td>1.160212</td>\n",
       "      <td>0.602351</td>\n",
       "      <td>0.205201</td>\n",
       "      <td>0.406085</td>\n",
       "      <td>4.276268</td>\n",
       "    </tr>\n",
       "    <tr>\n",
       "      <th>1990</th>\n",
       "      <td>1.158225</td>\n",
       "      <td>0.389487</td>\n",
       "      <td>0.232239</td>\n",
       "      <td>0.350914</td>\n",
       "      <td>3.372257</td>\n",
       "    </tr>\n",
       "    <tr>\n",
       "      <th>1991</th>\n",
       "      <td>1.154076</td>\n",
       "      <td>0.421569</td>\n",
       "      <td>0.212575</td>\n",
       "      <td>0.354577</td>\n",
       "      <td>3.453459</td>\n",
       "    </tr>\n",
       "    <tr>\n",
       "      <th>1992</th>\n",
       "      <td>1.153112</td>\n",
       "      <td>0.478182</td>\n",
       "      <td>0.251249</td>\n",
       "      <td>0.328786</td>\n",
       "      <td>3.884038</td>\n",
       "    </tr>\n",
       "    <tr>\n",
       "      <th>1993</th>\n",
       "      <td>1.164016</td>\n",
       "      <td>0.371830</td>\n",
       "      <td>0.214805</td>\n",
       "      <td>0.383742</td>\n",
       "      <td>3.727891</td>\n",
       "    </tr>\n",
       "    <tr>\n",
       "      <th>1994</th>\n",
       "      <td>1.147448</td>\n",
       "      <td>0.522799</td>\n",
       "      <td>0.236997</td>\n",
       "      <td>0.342676</td>\n",
       "      <td>3.158465</td>\n",
       "    </tr>\n",
       "    <tr>\n",
       "      <th>1995</th>\n",
       "      <td>1.175206</td>\n",
       "      <td>0.534156</td>\n",
       "      <td>0.209364</td>\n",
       "      <td>0.321712</td>\n",
       "      <td>4.836268</td>\n",
       "    </tr>\n",
       "    <tr>\n",
       "      <th>1996</th>\n",
       "      <td>1.171761</td>\n",
       "      <td>1.002802</td>\n",
       "      <td>0.247543</td>\n",
       "      <td>0.335520</td>\n",
       "      <td>5.228972</td>\n",
       "    </tr>\n",
       "    <tr>\n",
       "      <th>1997</th>\n",
       "      <td>1.174747</td>\n",
       "      <td>0.605062</td>\n",
       "      <td>0.237866</td>\n",
       "      <td>0.488227</td>\n",
       "      <td>6.167384</td>\n",
       "    </tr>\n",
       "    <tr>\n",
       "      <th>1998</th>\n",
       "      <td>1.163347</td>\n",
       "      <td>0.597112</td>\n",
       "      <td>0.178805</td>\n",
       "      <td>0.372549</td>\n",
       "      <td>5.253352</td>\n",
       "    </tr>\n",
       "    <tr>\n",
       "      <th>1999</th>\n",
       "      <td>1.157320</td>\n",
       "      <td>0.562911</td>\n",
       "      <td>0.228882</td>\n",
       "      <td>0.564623</td>\n",
       "      <td>5.188345</td>\n",
       "    </tr>\n",
       "    <tr>\n",
       "      <th>2000</th>\n",
       "      <td>1.175600</td>\n",
       "      <td>0.819398</td>\n",
       "      <td>0.241912</td>\n",
       "      <td>0.597696</td>\n",
       "      <td>5.673739</td>\n",
       "    </tr>\n",
       "    <tr>\n",
       "      <th>2001</th>\n",
       "      <td>1.163355</td>\n",
       "      <td>3.788835</td>\n",
       "      <td>1.555932</td>\n",
       "      <td>1.717647</td>\n",
       "      <td>7.014888</td>\n",
       "    </tr>\n",
       "    <tr>\n",
       "      <th>2002</th>\n",
       "      <td>1.165752</td>\n",
       "      <td>3.142512</td>\n",
       "      <td>1.551852</td>\n",
       "      <td>1.877049</td>\n",
       "      <td>7.758853</td>\n",
       "    </tr>\n",
       "    <tr>\n",
       "      <th>2003</th>\n",
       "      <td>1.161530</td>\n",
       "      <td>3.075342</td>\n",
       "      <td>1.462500</td>\n",
       "      <td>1.867500</td>\n",
       "      <td>7.793015</td>\n",
       "    </tr>\n",
       "    <tr>\n",
       "      <th>2004</th>\n",
       "      <td>1.155852</td>\n",
       "      <td>2.314904</td>\n",
       "      <td>1.765182</td>\n",
       "      <td>1.800623</td>\n",
       "      <td>6.989267</td>\n",
       "    </tr>\n",
       "    <tr>\n",
       "      <th>2005</th>\n",
       "      <td>1.151633</td>\n",
       "      <td>3.926887</td>\n",
       "      <td>1.650407</td>\n",
       "      <td>1.668524</td>\n",
       "      <td>9.331878</td>\n",
       "    </tr>\n",
       "    <tr>\n",
       "      <th>2006</th>\n",
       "      <td>1.155034</td>\n",
       "      <td>3.233415</td>\n",
       "      <td>1.767241</td>\n",
       "      <td>1.506623</td>\n",
       "      <td>8.910196</td>\n",
       "    </tr>\n",
       "    <tr>\n",
       "      <th>2007</th>\n",
       "      <td>1.152235</td>\n",
       "      <td>3.067442</td>\n",
       "      <td>1.171779</td>\n",
       "      <td>1.198630</td>\n",
       "      <td>8.454693</td>\n",
       "    </tr>\n",
       "    <tr>\n",
       "      <th>2008</th>\n",
       "      <td>1.165020</td>\n",
       "      <td>0.640192</td>\n",
       "      <td>0.401386</td>\n",
       "      <td>0.212687</td>\n",
       "      <td>5.569829</td>\n",
       "    </tr>\n",
       "    <tr>\n",
       "      <th>2009</th>\n",
       "      <td>1.151390</td>\n",
       "      <td>0.675444</td>\n",
       "      <td>0.337149</td>\n",
       "      <td>0.199771</td>\n",
       "      <td>5.751002</td>\n",
       "    </tr>\n",
       "    <tr>\n",
       "      <th>2010</th>\n",
       "      <td>1.208982</td>\n",
       "      <td>0.779429</td>\n",
       "      <td>0.346857</td>\n",
       "      <td>0.182286</td>\n",
       "      <td>6.310857</td>\n",
       "    </tr>\n",
       "    <tr>\n",
       "      <th>2011</th>\n",
       "      <td>1.166082</td>\n",
       "      <td>0.507701</td>\n",
       "      <td>0.257976</td>\n",
       "      <td>0.191969</td>\n",
       "      <td>7.892189</td>\n",
       "    </tr>\n",
       "    <tr>\n",
       "      <th>2012</th>\n",
       "      <td>1.143552</td>\n",
       "      <td>0.571111</td>\n",
       "      <td>0.243333</td>\n",
       "      <td>0.177778</td>\n",
       "      <td>6.511667</td>\n",
       "    </tr>\n",
       "    <tr>\n",
       "      <th>2013</th>\n",
       "      <td>1.150482</td>\n",
       "      <td>0.531860</td>\n",
       "      <td>0.427828</td>\n",
       "      <td>0.215865</td>\n",
       "      <td>5.936931</td>\n",
       "    </tr>\n",
       "    <tr>\n",
       "      <th>2014</th>\n",
       "      <td>1.137040</td>\n",
       "      <td>0.937623</td>\n",
       "      <td>0.296126</td>\n",
       "      <td>0.202232</td>\n",
       "      <td>6.384110</td>\n",
       "    </tr>\n",
       "    <tr>\n",
       "      <th>2015</th>\n",
       "      <td>1.127190</td>\n",
       "      <td>0.699746</td>\n",
       "      <td>0.294529</td>\n",
       "      <td>0.218830</td>\n",
       "      <td>6.172392</td>\n",
       "    </tr>\n",
       "    <tr>\n",
       "      <th>2016</th>\n",
       "      <td>1.133381</td>\n",
       "      <td>0.495468</td>\n",
       "      <td>0.293656</td>\n",
       "      <td>0.184290</td>\n",
       "      <td>6.104532</td>\n",
       "    </tr>\n",
       "    <tr>\n",
       "      <th>2017</th>\n",
       "      <td>1.146324</td>\n",
       "      <td>0.392989</td>\n",
       "      <td>0.259533</td>\n",
       "      <td>0.174047</td>\n",
       "      <td>7.362239</td>\n",
       "    </tr>\n",
       "    <tr>\n",
       "      <th>2018</th>\n",
       "      <td>1.138930</td>\n",
       "      <td>0.623128</td>\n",
       "      <td>0.355303</td>\n",
       "      <td>0.203715</td>\n",
       "      <td>6.594368</td>\n",
       "    </tr>\n",
       "    <tr>\n",
       "      <th>2019</th>\n",
       "      <td>1.164495</td>\n",
       "      <td>0.592707</td>\n",
       "      <td>0.238566</td>\n",
       "      <td>0.181088</td>\n",
       "      <td>5.467862</td>\n",
       "    </tr>\n",
       "    <tr>\n",
       "      <th>2020</th>\n",
       "      <td>1.145240</td>\n",
       "      <td>0.555636</td>\n",
       "      <td>0.355491</td>\n",
       "      <td>0.188584</td>\n",
       "      <td>3.296965</td>\n",
       "    </tr>\n",
       "    <tr>\n",
       "      <th>2021</th>\n",
       "      <td>1.136441</td>\n",
       "      <td>0.382237</td>\n",
       "      <td>0.223684</td>\n",
       "      <td>0.175000</td>\n",
       "      <td>4.561184</td>\n",
       "    </tr>\n",
       "    <tr>\n",
       "      <th>2022</th>\n",
       "      <td>1.130894</td>\n",
       "      <td>0.416720</td>\n",
       "      <td>0.233441</td>\n",
       "      <td>0.179421</td>\n",
       "      <td>6.172347</td>\n",
       "    </tr>\n",
       "  </tbody>\n",
       "</table>\n",
       "</div>"
      ],
      "text/plain": [
       "      Number.of.Engines  Total.Fatal.Injuries  Total.Serious.Injuries  \\\n",
       "Year                                                                    \n",
       "1948           1.000000              2.000000                0.000000   \n",
       "1962           1.000000              4.000000                0.000000   \n",
       "1974           1.000000              3.000000                     NaN   \n",
       "1977           1.000000              2.000000                0.000000   \n",
       "1979           2.000000              1.000000                2.000000   \n",
       "1981           1.000000              4.000000                0.000000   \n",
       "1982           1.161142              0.439478                0.197269   \n",
       "1983           1.168227              0.358915                0.188150   \n",
       "1984           1.182174              0.351642                0.199164   \n",
       "1985           1.178201              0.533865                0.192959   \n",
       "1986           1.164723              0.371152                0.212393   \n",
       "1987           1.191725              0.435991                0.197364   \n",
       "1988           1.169374              0.444103                0.228495   \n",
       "1989           1.160212              0.602351                0.205201   \n",
       "1990           1.158225              0.389487                0.232239   \n",
       "1991           1.154076              0.421569                0.212575   \n",
       "1992           1.153112              0.478182                0.251249   \n",
       "1993           1.164016              0.371830                0.214805   \n",
       "1994           1.147448              0.522799                0.236997   \n",
       "1995           1.175206              0.534156                0.209364   \n",
       "1996           1.171761              1.002802                0.247543   \n",
       "1997           1.174747              0.605062                0.237866   \n",
       "1998           1.163347              0.597112                0.178805   \n",
       "1999           1.157320              0.562911                0.228882   \n",
       "2000           1.175600              0.819398                0.241912   \n",
       "2001           1.163355              3.788835                1.555932   \n",
       "2002           1.165752              3.142512                1.551852   \n",
       "2003           1.161530              3.075342                1.462500   \n",
       "2004           1.155852              2.314904                1.765182   \n",
       "2005           1.151633              3.926887                1.650407   \n",
       "2006           1.155034              3.233415                1.767241   \n",
       "2007           1.152235              3.067442                1.171779   \n",
       "2008           1.165020              0.640192                0.401386   \n",
       "2009           1.151390              0.675444                0.337149   \n",
       "2010           1.208982              0.779429                0.346857   \n",
       "2011           1.166082              0.507701                0.257976   \n",
       "2012           1.143552              0.571111                0.243333   \n",
       "2013           1.150482              0.531860                0.427828   \n",
       "2014           1.137040              0.937623                0.296126   \n",
       "2015           1.127190              0.699746                0.294529   \n",
       "2016           1.133381              0.495468                0.293656   \n",
       "2017           1.146324              0.392989                0.259533   \n",
       "2018           1.138930              0.623128                0.355303   \n",
       "2019           1.164495              0.592707                0.238566   \n",
       "2020           1.145240              0.555636                0.355491   \n",
       "2021           1.136441              0.382237                0.223684   \n",
       "2022           1.130894              0.416720                0.233441   \n",
       "\n",
       "      Total.Minor.Injuries  Total.Uninjured  \n",
       "Year                                         \n",
       "1948              0.000000         0.000000  \n",
       "1962              0.000000         0.000000  \n",
       "1974                   NaN              NaN  \n",
       "1977              0.000000         0.000000  \n",
       "1979              1.000000        22.000000  \n",
       "1981              0.000000         0.000000  \n",
       "1982              0.280569         2.353077  \n",
       "1983              0.298322         3.978650  \n",
       "1984              0.304569         3.347230  \n",
       "1985              0.356383         3.491193  \n",
       "1986              0.340265         3.826710  \n",
       "1987              0.334674         4.880029  \n",
       "1988              0.411923         4.658238  \n",
       "1989              0.406085         4.276268  \n",
       "1990              0.350914         3.372257  \n",
       "1991              0.354577         3.453459  \n",
       "1992              0.328786         3.884038  \n",
       "1993              0.383742         3.727891  \n",
       "1994              0.342676         3.158465  \n",
       "1995              0.321712         4.836268  \n",
       "1996              0.335520         5.228972  \n",
       "1997              0.488227         6.167384  \n",
       "1998              0.372549         5.253352  \n",
       "1999              0.564623         5.188345  \n",
       "2000              0.597696         5.673739  \n",
       "2001              1.717647         7.014888  \n",
       "2002              1.877049         7.758853  \n",
       "2003              1.867500         7.793015  \n",
       "2004              1.800623         6.989267  \n",
       "2005              1.668524         9.331878  \n",
       "2006              1.506623         8.910196  \n",
       "2007              1.198630         8.454693  \n",
       "2008              0.212687         5.569829  \n",
       "2009              0.199771         5.751002  \n",
       "2010              0.182286         6.310857  \n",
       "2011              0.191969         7.892189  \n",
       "2012              0.177778         6.511667  \n",
       "2013              0.215865         5.936931  \n",
       "2014              0.202232         6.384110  \n",
       "2015              0.218830         6.172392  \n",
       "2016              0.184290         6.104532  \n",
       "2017              0.174047         7.362239  \n",
       "2018              0.203715         6.594368  \n",
       "2019              0.181088         5.467862  \n",
       "2020              0.188584         3.296965  \n",
       "2021              0.175000         4.561184  \n",
       "2022              0.179421         6.172347  "
      ]
     },
     "execution_count": 66,
     "metadata": {},
     "output_type": "execute_result"
    }
   ],
   "source": [
    "aviation.groupby(['Year']).mean()"
   ]
  },
  {
   "cell_type": "code",
   "execution_count": 67,
   "metadata": {
    "scrolled": true
   },
   "outputs": [
    {
     "data": {
      "text/plain": [
       "Substantial    62812\n",
       "Destroyed      18231\n",
       "Minor           2613\n",
       "Unknown          117\n",
       "Name: Aircraft.damage, dtype: int64"
      ]
     },
     "execution_count": 67,
     "metadata": {},
     "output_type": "execute_result"
    }
   ],
   "source": [
    "aviation['Aircraft.damage'].value_counts()"
   ]
  },
  {
   "cell_type": "code",
   "execution_count": 68,
   "metadata": {},
   "outputs": [
    {
     "data": {
      "text/plain": [
       "Substantial    62812\n",
       "Destroyed      18231\n",
       "Minor           2613\n",
       "Unknown          117\n",
       "Name: Aircraft.damage, dtype: int64"
      ]
     },
     "execution_count": 68,
     "metadata": {},
     "output_type": "execute_result"
    }
   ],
   "source": [
    "aviation['Aircraft.damage'].value_counts()"
   ]
  },
  {
   "cell_type": "markdown",
   "metadata": {},
   "source": [
    "# 3B: AIRCRAFT DAMAGE - Ratio of Minor Damage to All"
   ]
  },
  {
   "cell_type": "markdown",
   "metadata": {},
   "source": [
    "Creating a Zero Engine dataframe in order to Calculate the Percentage of Zero Engine Planes with Minor Damage Relative to All Zero Engine Accidents "
   ]
  },
  {
   "cell_type": "code",
   "execution_count": 69,
   "metadata": {},
   "outputs": [],
   "source": [
    "zero_engines = aviation.loc[aviation['Number.of.Engines'] == 0]"
   ]
  },
  {
   "cell_type": "code",
   "execution_count": 70,
   "metadata": {
    "scrolled": true
   },
   "outputs": [
    {
     "data": {
      "text/plain": [
       "Series([], Name: Aircraft.damage, dtype: int64)"
      ]
     },
     "execution_count": 70,
     "metadata": {},
     "output_type": "execute_result"
    }
   ],
   "source": [
    "zero_engines['Aircraft.damage'].value_counts()"
   ]
  },
  {
   "cell_type": "code",
   "execution_count": 71,
   "metadata": {},
   "outputs": [
    {
     "ename": "IndexError",
     "evalue": "index 2 is out of bounds for axis 0 with size 0",
     "output_type": "error",
     "traceback": [
      "\u001b[1;31m---------------------------------------------------------------------------\u001b[0m",
      "\u001b[1;31mIndexError\u001b[0m                                Traceback (most recent call last)",
      "\u001b[1;32m<ipython-input-71-9890d36f15db>\u001b[0m in \u001b[0;36m<module>\u001b[1;34m\u001b[0m\n\u001b[1;32m----> 1\u001b[1;33m \u001b[0mzero_engines_minor_damage_ratio\u001b[0m \u001b[1;33m=\u001b[0m \u001b[0mzero_engines\u001b[0m\u001b[1;33m[\u001b[0m\u001b[1;34m'Aircraft.damage'\u001b[0m\u001b[1;33m]\u001b[0m\u001b[1;33m.\u001b[0m\u001b[0mvalue_counts\u001b[0m\u001b[1;33m(\u001b[0m\u001b[1;33m)\u001b[0m\u001b[1;33m.\u001b[0m\u001b[0mvalues\u001b[0m\u001b[1;33m[\u001b[0m\u001b[1;36m2\u001b[0m\u001b[1;33m]\u001b[0m \u001b[1;33m/\u001b[0m \u001b[0mzero_engines\u001b[0m\u001b[1;33m[\u001b[0m\u001b[1;34m'Aircraft.damage'\u001b[0m\u001b[1;33m]\u001b[0m\u001b[1;33m.\u001b[0m\u001b[0mvalue_counts\u001b[0m\u001b[1;33m(\u001b[0m\u001b[1;33m)\u001b[0m\u001b[1;33m.\u001b[0m\u001b[0msum\u001b[0m\u001b[1;33m(\u001b[0m\u001b[1;33m)\u001b[0m\u001b[1;33m\u001b[0m\u001b[1;33m\u001b[0m\u001b[0m\n\u001b[0m",
      "\u001b[1;31mIndexError\u001b[0m: index 2 is out of bounds for axis 0 with size 0"
     ]
    }
   ],
   "source": [
    "zero_engines_minor_damage_ratio = zero_engines['Aircraft.damage'].value_counts().values[2] / zero_engines['Aircraft.damage'].value_counts().sum()"
   ]
  },
  {
   "cell_type": "code",
   "execution_count": null,
   "metadata": {},
   "outputs": [],
   "source": [
    "zero_engines_minor_damage_ratio = zero_engines_minor_damage_ratio * 100"
   ]
  },
  {
   "cell_type": "markdown",
   "metadata": {},
   "source": [
    "6.8% of planes with zero engines come away from an accident with only minor damage. Otherwise, there is substantial damage or it is destroyed. "
   ]
  },
  {
   "cell_type": "code",
   "execution_count": null,
   "metadata": {},
   "outputs": [],
   "source": [
    "one_engine = aviation.loc[aviation['Number.of.Engines'] == 1]"
   ]
  },
  {
   "cell_type": "code",
   "execution_count": null,
   "metadata": {},
   "outputs": [],
   "source": [
    "one_engine['Aircraft.damage'].value_counts()"
   ]
  },
  {
   "cell_type": "code",
   "execution_count": null,
   "metadata": {},
   "outputs": [],
   "source": [
    "one_engine_minor_damage_ratio = one_engine['Aircraft.damage'].value_counts().values[2] / one_engine['Aircraft.damage'].value_counts().sum()"
   ]
  },
  {
   "cell_type": "code",
   "execution_count": null,
   "metadata": {},
   "outputs": [],
   "source": [
    "one_engine_minor_damage_ratio * 100"
   ]
  },
  {
   "cell_type": "markdown",
   "metadata": {},
   "source": [
    "Less than 1% of planes with one engine come away from an accident with only minor damage. Otherwise, there is substantial damage or it is destroyed."
   ]
  },
  {
   "cell_type": "code",
   "execution_count": null,
   "metadata": {},
   "outputs": [],
   "source": [
    "two_engines = aviation.loc[aviation['Number.of.Engines'] == 2]"
   ]
  },
  {
   "cell_type": "code",
   "execution_count": null,
   "metadata": {},
   "outputs": [],
   "source": [
    "two_engines['Aircraft.damage'].value_counts()"
   ]
  },
  {
   "cell_type": "code",
   "execution_count": null,
   "metadata": {},
   "outputs": [],
   "source": [
    "two_engines_minor_damage_ratio = two_engines['Aircraft.damage'].value_counts().values[2] / two_engines['Aircraft.damage'].value_counts().sum()"
   ]
  },
  {
   "cell_type": "code",
   "execution_count": null,
   "metadata": {
    "scrolled": true
   },
   "outputs": [],
   "source": [
    "two_engines_minor_damage_ratio * 100"
   ]
  },
  {
   "cell_type": "markdown",
   "metadata": {},
   "source": [
    "10.9% of planes with two engines come away from an accident with only minor damage. Otherwise, there is substantial damage or it is destroyed. "
   ]
  },
  {
   "cell_type": "code",
   "execution_count": null,
   "metadata": {},
   "outputs": [],
   "source": [
    "three_engines = aviation.loc[aviation['Number.of.Engines'] == 3]"
   ]
  },
  {
   "cell_type": "code",
   "execution_count": null,
   "metadata": {
    "scrolled": true
   },
   "outputs": [],
   "source": [
    "three_engines['Aircraft.damage'].value_counts()"
   ]
  },
  {
   "cell_type": "code",
   "execution_count": null,
   "metadata": {},
   "outputs": [],
   "source": [
    "three_engines_minor_damage_ratio = three_engines['Aircraft.damage'].value_counts().values[0] / three_engines['Aircraft.damage'].value_counts().sum()"
   ]
  },
  {
   "cell_type": "code",
   "execution_count": null,
   "metadata": {},
   "outputs": [],
   "source": [
    "three_engines_minor_damage_ratio * 100"
   ]
  },
  {
   "cell_type": "markdown",
   "metadata": {},
   "source": [
    "61.3% of planes with three engines come away from an accident with only minor damage. Otherwise, there is substantial damage or it is destroyed. It is important to note that the sample size is much smaller for three engine planes."
   ]
  },
  {
   "cell_type": "code",
   "execution_count": null,
   "metadata": {},
   "outputs": [],
   "source": [
    "four_engines = aviation.loc[aviation['Number.of.Engines'] == 4]"
   ]
  },
  {
   "cell_type": "code",
   "execution_count": null,
   "metadata": {},
   "outputs": [],
   "source": [
    "four_engines['Aircraft.damage'].value_counts()"
   ]
  },
  {
   "cell_type": "code",
   "execution_count": null,
   "metadata": {},
   "outputs": [],
   "source": [
    "four_engines_minor_damage_ratio = four_engines['Aircraft.damage'].value_counts().values[0] / four_engines['Aircraft.damage'].value_counts().sum()"
   ]
  },
  {
   "cell_type": "code",
   "execution_count": null,
   "metadata": {
    "scrolled": true
   },
   "outputs": [],
   "source": [
    "four_engines_minor_damage_ratio * 100"
   ]
  },
  {
   "cell_type": "markdown",
   "metadata": {},
   "source": [
    "45.9% of planes with four engines come away from an accident with only minor damage. Otherwise, there is substantial damage or it is destroyed. It is important to note that the sample size is much smaller for four engine planes."
   ]
  },
  {
   "cell_type": "code",
   "execution_count": null,
   "metadata": {},
   "outputs": [],
   "source": [
    "x = ['Zero Engines', 'One Engine', 'Two Engines', 'Three Engines', 'Four Engines']\n",
    "y = [zero_engines_minor_damage_ratio, one_engine_minor_damage_ratio, two_engines_minor_damage_ratio, three_engines_minor_damage_ratio, four_engines_minor_damage_ratio] "
   ]
  },
  {
   "cell_type": "code",
   "execution_count": null,
   "metadata": {},
   "outputs": [],
   "source": [
    "fig, ax = plt.subplots(figsize=(12,8))\n",
    "\n",
    "sns.barplot(x=x, y=y)\n",
    "y_value=['{:,.2f}'.format(x) + '%' for x in ax.get_yticks()]\n",
    "ax.set_yticklabels(y_value)\n",
    "ax.set_title('Percentage of Planes with Only Minor Damage by Engine Count')\n",
    "ax.set_xlabel('Engine Count')\n",
    "ax.set_ylabel('Percentage of Planes with Minor Damage');"
   ]
  },
  {
   "cell_type": "markdown",
   "metadata": {},
   "source": [
    "# 5A. Creating an \"Aviation Severe\" DataFrame "
   ]
  },
  {
   "cell_type": "markdown",
   "metadata": {},
   "source": [
    "Performed by: Kendall and Andrew"
   ]
  },
  {
   "cell_type": "markdown",
   "metadata": {},
   "source": [
    "This includes accidents with at least one fatality, at least one serious injury, or a completely destroyed aircraft."
   ]
  },
  {
   "cell_type": "code",
   "execution_count": null,
   "metadata": {},
   "outputs": [],
   "source": [
    "aviation_severe = aviation.loc[\n",
    "    (aviation['Total.Fatal.Injuries'] >= 1) | \n",
    "    (aviation['Total.Serious.Injuries'] >= 1) |\n",
    "    (aviation['Aircraft.damage'] == 'Destroyed')\n",
    "]"
   ]
  },
  {
   "cell_type": "code",
   "execution_count": null,
   "metadata": {},
   "outputs": [],
   "source": [
    "aviation_severe.head(50)"
   ]
  },
  {
   "cell_type": "code",
   "execution_count": null,
   "metadata": {
    "scrolled": false
   },
   "outputs": [],
   "source": [
    "aviation_severe.describe()"
   ]
  },
  {
   "cell_type": "code",
   "execution_count": null,
   "metadata": {
    "scrolled": true
   },
   "outputs": [],
   "source": [
    "aviation_severe.shape"
   ]
  },
  {
   "cell_type": "code",
   "execution_count": null,
   "metadata": {},
   "outputs": [],
   "source": [
    "aviation.info()"
   ]
  },
  {
   "cell_type": "code",
   "execution_count": null,
   "metadata": {},
   "outputs": [],
   "source": [
    "aviation_severe.groupby(['Total.Fatal.Injuries']).sum()"
   ]
  },
  {
   "cell_type": "code",
   "execution_count": null,
   "metadata": {},
   "outputs": [],
   "source": [
    "aviation_severe.groupby(['Total.Fatal.Injuries']).mean()"
   ]
  },
  {
   "cell_type": "code",
   "execution_count": null,
   "metadata": {
    "scrolled": false
   },
   "outputs": [],
   "source": [
    "aviation['Year'] = aviation['Year'].astype(int)"
   ]
  },
  {
   "cell_type": "markdown",
   "metadata": {},
   "source": [
    "# 5B. Creating a \"Recent Aviation Severe\" (Since 2000) DataFrame "
   ]
  },
  {
   "cell_type": "markdown",
   "metadata": {},
   "source": [
    "Performed by: Kendall and Andrew"
   ]
  },
  {
   "cell_type": "markdown",
   "metadata": {},
   "source": [
    "This includes accidents *since 2000* with at least one fatality, at least one serious injury, or a completely destroyed aircraft."
   ]
  },
  {
   "cell_type": "code",
   "execution_count": null,
   "metadata": {},
   "outputs": [],
   "source": [
    "recent_aviation_severe = aviation_severe.loc[aviation['Year'] >= 2000]"
   ]
  },
  {
   "cell_type": "code",
   "execution_count": null,
   "metadata": {},
   "outputs": [],
   "source": [
    "recent_aviation_severe['Engine.Type'].value_counts()"
   ]
  },
  {
   "cell_type": "code",
   "execution_count": null,
   "metadata": {},
   "outputs": [],
   "source": [
    "recent_aviation_severe['Number.of.Engines'].value_counts()"
   ]
  },
  {
   "cell_type": "code",
   "execution_count": null,
   "metadata": {},
   "outputs": [],
   "source": [
    "recent_aviation_severe['Purpose.of.flight'].value_counts()"
   ]
  },
  {
   "cell_type": "code",
   "execution_count": null,
   "metadata": {
    "scrolled": false
   },
   "outputs": [],
   "source": [
    "recent_aviation_severe['Make'].value_counts()"
   ]
  },
  {
   "cell_type": "code",
   "execution_count": null,
   "metadata": {},
   "outputs": [],
   "source": [
    "recent_aviation_severe['Purpose.of.flight'].value_counts()"
   ]
  },
  {
   "cell_type": "markdown",
   "metadata": {},
   "source": [
    "# 6A. Aviation Severe - ENGINE COUNT - Ratio of Uninjured to All Passengers"
   ]
  },
  {
   "cell_type": "markdown",
   "metadata": {},
   "source": [
    "Performed by Kendall"
   ]
  },
  {
   "cell_type": "code",
   "execution_count": null,
   "metadata": {},
   "outputs": [],
   "source": [
    "aviation_severe_engine_counts = aviation_severe.groupby(['Number.of.Engines']).mean()"
   ]
  },
  {
   "cell_type": "code",
   "execution_count": null,
   "metadata": {},
   "outputs": [],
   "source": [
    "aviation_severe_engine_counts['Total Passengers'] = aviation_severe_engine_counts['Total.Fatal.Injuries'] + aviation_severe_engine_counts['Total.Serious.Injuries'] + aviation_severe_engine_counts['Total.Minor.Injuries'] + aviation_severe_engine_counts['Total.Uninjured']"
   ]
  },
  {
   "cell_type": "code",
   "execution_count": null,
   "metadata": {
    "scrolled": true
   },
   "outputs": [],
   "source": [
    "aviation_severe_engine_counts"
   ]
  },
  {
   "cell_type": "code",
   "execution_count": null,
   "metadata": {},
   "outputs": [],
   "source": [
    "aviation_severe_engine_counts['Ratio of Uninjured'] = aviation_severe_engine_counts['Total.Uninjured'] / aviation_severe_engine_counts['Total Passengers'] "
   ]
  },
  {
   "cell_type": "code",
   "execution_count": null,
   "metadata": {},
   "outputs": [],
   "source": [
    "aviation_severe_engine_counts"
   ]
  },
  {
   "cell_type": "code",
   "execution_count": null,
   "metadata": {},
   "outputs": [],
   "source": [
    "fig, ax = plt.subplots(figsize=(12,8))\n",
    "\n",
    "sns.barplot(x=aviation_severe_engine_counts.index, y=aviation_severe_engine_counts['Ratio of Uninjured'])\n",
    "y_value=['{:,.2f}'.format(x) + '%' for x in ax.get_yticks()]\n",
    "ax.set_yticklabels(y_value)\n",
    "ax.set_title('Percentage of Passengers Uninjured by Engine Count for Severe Accidents Since 2000')\n",
    "ax.set_xlabel('Engine Count')\n",
    "ax.set_ylabel('Percentage of Passengers Uninjured');"
   ]
  },
  {
   "cell_type": "markdown",
   "metadata": {},
   "source": [
    "# 6B. Aviation Severe - ENGINE TYPE - Ratio of Uninjured to All Passengers"
   ]
  },
  {
   "cell_type": "code",
   "execution_count": null,
   "metadata": {},
   "outputs": [],
   "source": [
    "aviation_severe_engine_types = recent_aviation_severe.groupby(['Engine.Type']).mean()"
   ]
  },
  {
   "cell_type": "code",
   "execution_count": null,
   "metadata": {},
   "outputs": [],
   "source": [
    "aviation_severe_engine_types['Total Passengers'] = aviation_severe_engine_types['Total.Fatal.Injuries'] + aviation_severe_engine_types['Total.Serious.Injuries'] + aviation_severe_engine_types['Total.Minor.Injuries'] + aviation_severe_engine_types['Total.Uninjured']"
   ]
  },
  {
   "cell_type": "code",
   "execution_count": null,
   "metadata": {},
   "outputs": [],
   "source": [
    "aviation_severe_engine_types"
   ]
  },
  {
   "cell_type": "code",
   "execution_count": null,
   "metadata": {},
   "outputs": [],
   "source": [
    "aviation_severe_engine_types['Ratio of Uninjured'] = aviation_severe_engine_types['Total.Uninjured'] / aviation_severe_engine_types['Total Passengers'] "
   ]
  },
  {
   "cell_type": "code",
   "execution_count": null,
   "metadata": {},
   "outputs": [],
   "source": [
    "aviation_severe_engine_types"
   ]
  },
  {
   "cell_type": "code",
   "execution_count": null,
   "metadata": {},
   "outputs": [],
   "source": [
    "fig, ax = plt.subplots(figsize=(12,8))\n",
    "\n",
    "sns.barplot(x=aviation_severe_engine_types.index, y=aviation_severe_engine_types['Ratio of Uninjured'])\n",
    "y_value=['{:,.2f}'.format(x) + '%' for x in ax.get_yticks()]\n",
    "ax.set_yticklabels(y_value)\n",
    "ax.set_title('Percentage of Passengers Uninjured by Engine Type for Severe Accidents Since 2000')\n",
    "ax.set_xlabel('Engine Type')\n",
    "ax.set_ylabel('Percentage of Passengers Uninjured');"
   ]
  },
  {
   "cell_type": "markdown",
   "metadata": {},
   "source": [
    "# 6C. Exploring Engine Counts for Turbo Fan and Turbo Jet Planes"
   ]
  },
  {
   "cell_type": "markdown",
   "metadata": {},
   "source": [
    "Performed by: Kendall"
   ]
  },
  {
   "cell_type": "code",
   "execution_count": null,
   "metadata": {},
   "outputs": [],
   "source": [
    "turbo_jets = aviation.loc[aviation['Engine.Type'] == 'Turbo Jet']"
   ]
  },
  {
   "cell_type": "code",
   "execution_count": null,
   "metadata": {
    "scrolled": false
   },
   "outputs": [],
   "source": [
    "turbo_jets['Number.of.Engines'].value_counts()"
   ]
  },
  {
   "cell_type": "code",
   "execution_count": null,
   "metadata": {},
   "outputs": [],
   "source": [
    "turbo_fan = aviation.loc[aviation['Engine.Type'] == 'Turbo Fan']"
   ]
  },
  {
   "cell_type": "code",
   "execution_count": null,
   "metadata": {},
   "outputs": [],
   "source": [
    "turbo_fan['Number.of.Engines'].value_counts()"
   ]
  },
  {
   "cell_type": "code",
   "execution_count": null,
   "metadata": {
    "scrolled": false
   },
   "outputs": [],
   "source": [
    "turbo_jets['Purpose.of.flight'].value_counts()"
   ]
  },
  {
   "cell_type": "code",
   "execution_count": null,
   "metadata": {
    "scrolled": true
   },
   "outputs": [],
   "source": [
    "turbo_fan['Purpose.of.flight'].value_counts()"
   ]
  },
  {
   "cell_type": "markdown",
   "metadata": {},
   "source": [
    "# 6D. Creating Separate 1-2 Engines and Greater than 3 Engines DataFrames"
   ]
  },
  {
   "cell_type": "markdown",
   "metadata": {},
   "source": [
    "Performed by: Kendall and Andrew"
   ]
  },
  {
   "cell_type": "code",
   "execution_count": null,
   "metadata": {},
   "outputs": [],
   "source": [
    "one_and_two_engines = aviation.loc[(aviation['Number.of.Engines'] < 3) & (aviation['Number.of.Engines'] > 0)]"
   ]
  },
  {
   "cell_type": "code",
   "execution_count": null,
   "metadata": {},
   "outputs": [],
   "source": [
    "greater_than_three_engines = aviation.loc[aviation['Number.of.Engines'] >= 3]"
   ]
  },
  {
   "cell_type": "code",
   "execution_count": null,
   "metadata": {
    "scrolled": true
   },
   "outputs": [],
   "source": [
    "one_and_two_engines.shape"
   ]
  },
  {
   "cell_type": "code",
   "execution_count": null,
   "metadata": {
    "scrolled": false
   },
   "outputs": [],
   "source": [
    "greater_than_three_engines.shape"
   ]
  },
  {
   "cell_type": "code",
   "execution_count": null,
   "metadata": {},
   "outputs": [],
   "source": [
    "aviation['Make'].value_counts()[0:50]"
   ]
  },
  {
   "cell_type": "code",
   "execution_count": null,
   "metadata": {},
   "outputs": [],
   "source": [
    "greater_than_three_engines.groupby('Make').mean()"
   ]
  },
  {
   "cell_type": "code",
   "execution_count": null,
   "metadata": {},
   "outputs": [],
   "source": [
    "greater_than_three_engines['Make'].value_counts()"
   ]
  },
  {
   "cell_type": "code",
   "execution_count": null,
   "metadata": {
    "scrolled": false
   },
   "outputs": [],
   "source": [
    "greater_than_three_engines['Purpose.of.flight'].value_counts()"
   ]
  },
  {
   "cell_type": "code",
   "execution_count": null,
   "metadata": {
    "scrolled": true
   },
   "outputs": [],
   "source": [
    "greater_than_three_engines['Engine.Type'].value_counts()"
   ]
  },
  {
   "cell_type": "code",
   "execution_count": null,
   "metadata": {
    "scrolled": true
   },
   "outputs": [],
   "source": [
    "greater_than_three_engines['Make'].value_counts()"
   ]
  },
  {
   "cell_type": "code",
   "execution_count": null,
   "metadata": {},
   "outputs": [],
   "source": [
    "recent_aviation_severe['Make'].value_counts()[0:60]"
   ]
  },
  {
   "cell_type": "code",
   "execution_count": null,
   "metadata": {},
   "outputs": [],
   "source": [
    "recent_aviation = aviation.loc[aviation['Year'] >= 2000]"
   ]
  },
  {
   "cell_type": "code",
   "execution_count": null,
   "metadata": {},
   "outputs": [],
   "source": [
    "recent_aviation['Make'].value_counts()[0:60]"
   ]
  },
  {
   "cell_type": "code",
   "execution_count": null,
   "metadata": {
    "scrolled": true
   },
   "outputs": [],
   "source": [
    "recent_aviation.groupby('Make').sum()"
   ]
  },
  {
   "cell_type": "markdown",
   "metadata": {},
   "source": [
    "# 7A. MAKE - Creating a Top Makes DataFrame that Includes Makes with Value Counts over 500 in the Entire Dataset"
   ]
  },
  {
   "cell_type": "markdown",
   "metadata": {},
   "source": [
    "Performed by: Kendall and Andrew"
   ]
  },
  {
   "cell_type": "code",
   "execution_count": null,
   "metadata": {},
   "outputs": [],
   "source": [
    "make = aviation.groupby('Make').sum()"
   ]
  },
  {
   "cell_type": "code",
   "execution_count": null,
   "metadata": {},
   "outputs": [],
   "source": [
    "make['Total Passengers'] = make['Total.Fatal.Injuries'] + make['Total.Serious.Injuries'] + make['Total.Minor.Injuries'] + make['Total.Uninjured']"
   ]
  },
  {
   "cell_type": "code",
   "execution_count": null,
   "metadata": {},
   "outputs": [],
   "source": [
    "make['Ratio of Uninjured'] = make['Total.Uninjured'] / make['Total Passengers'] "
   ]
  },
  {
   "cell_type": "code",
   "execution_count": null,
   "metadata": {
    "scrolled": true
   },
   "outputs": [],
   "source": [
    "top_makes = make.loc[(make.index =='Cessna') | (make.index == 'Piper') | (make.index == 'Beech') | (make.index == 'Boeing') | (make.index == 'Bell') | (make.index == 'Piper') | (make.index == 'Robinson')| (make.index == 'Mooney')| (make.index == 'Air Tractor')| (make.index == 'Hughes')| (make.index == 'Schweizer')| (make.index == 'Bellanca')| (make.index == 'Maule')| (make.index == 'Airbus')| (make.index == 'Aeronca')| (make.index == 'Mcdonnell Douglas')| (make.index == 'Robinson Helicopter')| (make.index == 'Grumman')| (make.index == 'Cirrus Design Corp')| (make.index == 'Air Tractor Inc')| (make.index == 'Champion')]"
   ]
  },
  {
   "cell_type": "code",
   "execution_count": null,
   "metadata": {
    "scrolled": true
   },
   "outputs": [],
   "source": [
    "top_makes"
   ]
  },
  {
   "cell_type": "markdown",
   "metadata": {},
   "source": [
    "# 7B. MAKE - Ratio of Uninjured to All Passengers"
   ]
  },
  {
   "cell_type": "markdown",
   "metadata": {},
   "source": [
    "Performed by: Kendall "
   ]
  },
  {
   "cell_type": "code",
   "execution_count": null,
   "metadata": {
    "scrolled": true
   },
   "outputs": [],
   "source": [
    "top_makes['Ratio of Uninjured'] = top_makes['Ratio of Uninjured'] * 100"
   ]
  },
  {
   "cell_type": "code",
   "execution_count": null,
   "metadata": {},
   "outputs": [],
   "source": [
    "fig, ax = plt.subplots(figsize=(28,15))\n",
    "\n",
    "sns.barplot(x=top_makes.index, y=top_makes['Ratio of Uninjured'])\n",
    "y_value=['{:,.2f}'.format(x) + '%' for x in ax.get_yticks()]\n",
    "ax.set_yticklabels(y_value)\n",
    "ax.set_title('Percentage of Passengers Uninjured by Aircraft Make for Makes with a Sample Size Greater than 500')\n",
    "ax.set_xlabel('Make')\n",
    "ax.set_ylabel('Percentage of Passengers Uninjured');"
   ]
  }
 ],
 "metadata": {
  "kernelspec": {
   "display_name": "Python (learn-env)",
   "language": "python",
   "name": "learn-env"
  },
  "language_info": {
   "codemirror_mode": {
    "name": "ipython",
    "version": 3
   },
   "file_extension": ".py",
   "mimetype": "text/x-python",
   "name": "python",
   "nbconvert_exporter": "python",
   "pygments_lexer": "ipython3",
   "version": "3.8.5"
  }
 },
 "nbformat": 4,
 "nbformat_minor": 4
}
